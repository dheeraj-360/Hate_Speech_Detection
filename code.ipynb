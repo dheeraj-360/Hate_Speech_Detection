{
  "nbformat": 4,
  "nbformat_minor": 0,
  "metadata": {
    "colab": {
      "provenance": []
    },
    "kernelspec": {
      "name": "python3",
      "display_name": "Python 3"
    },
    "language_info": {
      "name": "python"
    }
  },
  "cells": [
    {
      "cell_type": "code",
      "source": [
        "from google.colab import drive\n",
        "drive.mount('/content/drive')"
      ],
      "metadata": {
        "colab": {
          "base_uri": "https://localhost:8080/"
        },
        "id": "P1E0Pv7eAeBO",
        "outputId": "2fdbf845-c4b3-41f5-c080-bb0d07eeb54f"
      },
      "execution_count": 1,
      "outputs": [
        {
          "output_type": "stream",
          "name": "stdout",
          "text": [
            "Mounted at /content/drive\n"
          ]
        }
      ]
    },
    {
      "cell_type": "code",
      "execution_count": 2,
      "metadata": {
        "id": "ySN3mijZjrs4",
        "colab": {
          "base_uri": "https://localhost:8080/"
        },
        "outputId": "951a4cd3-e0b8-44ce-96cf-247eda9c427a"
      },
      "outputs": [
        {
          "output_type": "stream",
          "name": "stderr",
          "text": [
            "[nltk_data] Downloading package stopwords to /root/nltk_data...\n",
            "[nltk_data]   Unzipping corpora/stopwords.zip.\n"
          ]
        }
      ],
      "source": [
        "import pandas as offen_LANpa\n",
        "import nltk as offen_LANlln\n",
        "offen_LANlln.download('stopwords')\n",
        "import regex as offen_LANrrr\n",
        "from nltk.corpus import stopwords as offen_LANsttp\n",
        "from sklearn.feature_extraction.text import TfidfVectorizer as offen_LANidf\n",
        "import numpy as offen_LANmnn \n",
        "from sklearn.model_selection import train_test_split as offen_LANsli"
      ]
    },
    {
      "cell_type": "markdown",
      "source": [
        "*** train, test & valid OLID data"
      ],
      "metadata": {
        "id": "WMPEmsDdGIIh"
      }
    },
    {
      "cell_type": "code",
      "source": [
        "offen_LAN_TR = offen_LANpa.read_csv('/content/drive/MyDrive/CE807/Assignment 2/2202392/train.csv')\n",
        "offen_LAN_TS = offen_LANpa.read_csv('/content/drive/MyDrive/CE807/Assignment 2/2202392/test.csv')\n",
        "offen_LAN_VL = offen_LANpa.read_csv('/content/drive/MyDrive/CE807/Assignment 2/2202392/valid.csv')"
      ],
      "metadata": {
        "id": "T5RN6-hcjybj"
      },
      "execution_count": 3,
      "outputs": []
    },
    {
      "cell_type": "code",
      "source": [
        "offen_LAN_TR"
      ],
      "metadata": {
        "id": "3XhuOkUajygO",
        "colab": {
          "base_uri": "https://localhost:8080/",
          "height": 423
        },
        "outputId": "195e7e08-da46-4f06-bc95-bcecba93377a"
      },
      "execution_count": 4,
      "outputs": [
        {
          "output_type": "execute_result",
          "data": {
            "text/plain": [
              "          id                                              tweet label\n",
              "0      42884  @USER I’m done with you as well. An INTENTIONA...   NOT\n",
              "1      92152  I now have over 6k followers.  Only 94k to go ...   NOT\n",
              "2      65475  @USER Tom was bought! He is more interested in...   NOT\n",
              "3      22144  @USER @USER Even her brother thinks she is a m...   OFF\n",
              "4      81048  @USER @USER @USER @USER @USER I can understand...   OFF\n",
              "...      ...                                                ...   ...\n",
              "12308  92805  And Soros money in their pocket. #maga🇺🇸🇺🇸🇺🇸🇺🇸...   NOT\n",
              "12309  35989  @USER ur a fucking dumbass fr. there’s no way ...   OFF\n",
              "12310  30188  .@USER They both want you to believe in yourse...   NOT\n",
              "12311  96815  @USER It's like a reading a leaflet from Antif...   OFF\n",
              "12312  10460  @USER And they have some of the strictest gun ...   OFF\n",
              "\n",
              "[12313 rows x 3 columns]"
            ],
            "text/html": [
              "\n",
              "  <div id=\"df-bcf86e2c-5a04-4b89-9e0f-f7db84572eb5\">\n",
              "    <div class=\"colab-df-container\">\n",
              "      <div>\n",
              "<style scoped>\n",
              "    .dataframe tbody tr th:only-of-type {\n",
              "        vertical-align: middle;\n",
              "    }\n",
              "\n",
              "    .dataframe tbody tr th {\n",
              "        vertical-align: top;\n",
              "    }\n",
              "\n",
              "    .dataframe thead th {\n",
              "        text-align: right;\n",
              "    }\n",
              "</style>\n",
              "<table border=\"1\" class=\"dataframe\">\n",
              "  <thead>\n",
              "    <tr style=\"text-align: right;\">\n",
              "      <th></th>\n",
              "      <th>id</th>\n",
              "      <th>tweet</th>\n",
              "      <th>label</th>\n",
              "    </tr>\n",
              "  </thead>\n",
              "  <tbody>\n",
              "    <tr>\n",
              "      <th>0</th>\n",
              "      <td>42884</td>\n",
              "      <td>@USER I’m done with you as well. An INTENTIONA...</td>\n",
              "      <td>NOT</td>\n",
              "    </tr>\n",
              "    <tr>\n",
              "      <th>1</th>\n",
              "      <td>92152</td>\n",
              "      <td>I now have over 6k followers.  Only 94k to go ...</td>\n",
              "      <td>NOT</td>\n",
              "    </tr>\n",
              "    <tr>\n",
              "      <th>2</th>\n",
              "      <td>65475</td>\n",
              "      <td>@USER Tom was bought! He is more interested in...</td>\n",
              "      <td>NOT</td>\n",
              "    </tr>\n",
              "    <tr>\n",
              "      <th>3</th>\n",
              "      <td>22144</td>\n",
              "      <td>@USER @USER Even her brother thinks she is a m...</td>\n",
              "      <td>OFF</td>\n",
              "    </tr>\n",
              "    <tr>\n",
              "      <th>4</th>\n",
              "      <td>81048</td>\n",
              "      <td>@USER @USER @USER @USER @USER I can understand...</td>\n",
              "      <td>OFF</td>\n",
              "    </tr>\n",
              "    <tr>\n",
              "      <th>...</th>\n",
              "      <td>...</td>\n",
              "      <td>...</td>\n",
              "      <td>...</td>\n",
              "    </tr>\n",
              "    <tr>\n",
              "      <th>12308</th>\n",
              "      <td>92805</td>\n",
              "      <td>And Soros money in their pocket. #maga🇺🇸🇺🇸🇺🇸🇺🇸...</td>\n",
              "      <td>NOT</td>\n",
              "    </tr>\n",
              "    <tr>\n",
              "      <th>12309</th>\n",
              "      <td>35989</td>\n",
              "      <td>@USER ur a fucking dumbass fr. there’s no way ...</td>\n",
              "      <td>OFF</td>\n",
              "    </tr>\n",
              "    <tr>\n",
              "      <th>12310</th>\n",
              "      <td>30188</td>\n",
              "      <td>.@USER They both want you to believe in yourse...</td>\n",
              "      <td>NOT</td>\n",
              "    </tr>\n",
              "    <tr>\n",
              "      <th>12311</th>\n",
              "      <td>96815</td>\n",
              "      <td>@USER It's like a reading a leaflet from Antif...</td>\n",
              "      <td>OFF</td>\n",
              "    </tr>\n",
              "    <tr>\n",
              "      <th>12312</th>\n",
              "      <td>10460</td>\n",
              "      <td>@USER And they have some of the strictest gun ...</td>\n",
              "      <td>OFF</td>\n",
              "    </tr>\n",
              "  </tbody>\n",
              "</table>\n",
              "<p>12313 rows × 3 columns</p>\n",
              "</div>\n",
              "      <button class=\"colab-df-convert\" onclick=\"convertToInteractive('df-bcf86e2c-5a04-4b89-9e0f-f7db84572eb5')\"\n",
              "              title=\"Convert this dataframe to an interactive table.\"\n",
              "              style=\"display:none;\">\n",
              "        \n",
              "  <svg xmlns=\"http://www.w3.org/2000/svg\" height=\"24px\"viewBox=\"0 0 24 24\"\n",
              "       width=\"24px\">\n",
              "    <path d=\"M0 0h24v24H0V0z\" fill=\"none\"/>\n",
              "    <path d=\"M18.56 5.44l.94 2.06.94-2.06 2.06-.94-2.06-.94-.94-2.06-.94 2.06-2.06.94zm-11 1L8.5 8.5l.94-2.06 2.06-.94-2.06-.94L8.5 2.5l-.94 2.06-2.06.94zm10 10l.94 2.06.94-2.06 2.06-.94-2.06-.94-.94-2.06-.94 2.06-2.06.94z\"/><path d=\"M17.41 7.96l-1.37-1.37c-.4-.4-.92-.59-1.43-.59-.52 0-1.04.2-1.43.59L10.3 9.45l-7.72 7.72c-.78.78-.78 2.05 0 2.83L4 21.41c.39.39.9.59 1.41.59.51 0 1.02-.2 1.41-.59l7.78-7.78 2.81-2.81c.8-.78.8-2.07 0-2.86zM5.41 20L4 18.59l7.72-7.72 1.47 1.35L5.41 20z\"/>\n",
              "  </svg>\n",
              "      </button>\n",
              "      \n",
              "  <style>\n",
              "    .colab-df-container {\n",
              "      display:flex;\n",
              "      flex-wrap:wrap;\n",
              "      gap: 12px;\n",
              "    }\n",
              "\n",
              "    .colab-df-convert {\n",
              "      background-color: #E8F0FE;\n",
              "      border: none;\n",
              "      border-radius: 50%;\n",
              "      cursor: pointer;\n",
              "      display: none;\n",
              "      fill: #1967D2;\n",
              "      height: 32px;\n",
              "      padding: 0 0 0 0;\n",
              "      width: 32px;\n",
              "    }\n",
              "\n",
              "    .colab-df-convert:hover {\n",
              "      background-color: #E2EBFA;\n",
              "      box-shadow: 0px 1px 2px rgba(60, 64, 67, 0.3), 0px 1px 3px 1px rgba(60, 64, 67, 0.15);\n",
              "      fill: #174EA6;\n",
              "    }\n",
              "\n",
              "    [theme=dark] .colab-df-convert {\n",
              "      background-color: #3B4455;\n",
              "      fill: #D2E3FC;\n",
              "    }\n",
              "\n",
              "    [theme=dark] .colab-df-convert:hover {\n",
              "      background-color: #434B5C;\n",
              "      box-shadow: 0px 1px 3px 1px rgba(0, 0, 0, 0.15);\n",
              "      filter: drop-shadow(0px 1px 2px rgba(0, 0, 0, 0.3));\n",
              "      fill: #FFFFFF;\n",
              "    }\n",
              "  </style>\n",
              "\n",
              "      <script>\n",
              "        const buttonEl =\n",
              "          document.querySelector('#df-bcf86e2c-5a04-4b89-9e0f-f7db84572eb5 button.colab-df-convert');\n",
              "        buttonEl.style.display =\n",
              "          google.colab.kernel.accessAllowed ? 'block' : 'none';\n",
              "\n",
              "        async function convertToInteractive(key) {\n",
              "          const element = document.querySelector('#df-bcf86e2c-5a04-4b89-9e0f-f7db84572eb5');\n",
              "          const dataTable =\n",
              "            await google.colab.kernel.invokeFunction('convertToInteractive',\n",
              "                                                     [key], {});\n",
              "          if (!dataTable) return;\n",
              "\n",
              "          const docLinkHtml = 'Like what you see? Visit the ' +\n",
              "            '<a target=\"_blank\" href=https://colab.research.google.com/notebooks/data_table.ipynb>data table notebook</a>'\n",
              "            + ' to learn more about interactive tables.';\n",
              "          element.innerHTML = '';\n",
              "          dataTable['output_type'] = 'display_data';\n",
              "          await google.colab.output.renderOutput(dataTable, element);\n",
              "          const docLink = document.createElement('div');\n",
              "          docLink.innerHTML = docLinkHtml;\n",
              "          element.appendChild(docLink);\n",
              "        }\n",
              "      </script>\n",
              "    </div>\n",
              "  </div>\n",
              "  "
            ]
          },
          "metadata": {},
          "execution_count": 4
        }
      ]
    },
    {
      "cell_type": "code",
      "source": [
        "offen_LAN_TR['label'].value_counts()"
      ],
      "metadata": {
        "colab": {
          "base_uri": "https://localhost:8080/"
        },
        "id": "ocCm0vHvTiY8",
        "outputId": "6929e655-99d6-47af-f423-9c5e60956c87"
      },
      "execution_count": 5,
      "outputs": [
        {
          "output_type": "execute_result",
          "data": {
            "text/plain": [
              "NOT    8221\n",
              "OFF    4092\n",
              "Name: label, dtype: int64"
            ]
          },
          "metadata": {},
          "execution_count": 5
        }
      ]
    },
    {
      "cell_type": "code",
      "source": [
        "offen_LAN_TS"
      ],
      "metadata": {
        "id": "4umt9fwtjyjb",
        "colab": {
          "base_uri": "https://localhost:8080/",
          "height": 423
        },
        "outputId": "2f2eed69-a087-4c41-df50-9054d83de235"
      },
      "execution_count": 6,
      "outputs": [
        {
          "output_type": "execute_result",
          "data": {
            "text/plain": [
              "        id                                              tweet label\n",
              "0    15923  #WhoIsQ #WheresTheServer #DumpNike #DECLASFISA...   OFF\n",
              "1    27014  #ConstitutionDay is revered by Conservatives, ...   NOT\n",
              "2    30530  #FOXNews #NRA #MAGA #POTUS #TRUMP #2ndAmendmen...   NOT\n",
              "3    13876  #Watching #Boomer getting the news that she is...   NOT\n",
              "4    60133  #NoPasaran: Unity demo to oppose the far-right...   OFF\n",
              "..     ...                                                ...   ...\n",
              "855  73439  #DespicableDems lie again about rifles. Dem Di...   OFF\n",
              "856  25657  #MeetTheSpeakers 🙌 @USER will present in our e...   NOT\n",
              "857  67018  3 people just unfollowed me for talking about ...   OFF\n",
              "858  50665  #WednesdayWisdom Antifa calls the right fascis...   NOT\n",
              "859  24583      #Kavanaugh typical #liberals , #Democrats URL   NOT\n",
              "\n",
              "[860 rows x 3 columns]"
            ],
            "text/html": [
              "\n",
              "  <div id=\"df-60cf6e20-ec27-466c-b95e-faea6a4731b8\">\n",
              "    <div class=\"colab-df-container\">\n",
              "      <div>\n",
              "<style scoped>\n",
              "    .dataframe tbody tr th:only-of-type {\n",
              "        vertical-align: middle;\n",
              "    }\n",
              "\n",
              "    .dataframe tbody tr th {\n",
              "        vertical-align: top;\n",
              "    }\n",
              "\n",
              "    .dataframe thead th {\n",
              "        text-align: right;\n",
              "    }\n",
              "</style>\n",
              "<table border=\"1\" class=\"dataframe\">\n",
              "  <thead>\n",
              "    <tr style=\"text-align: right;\">\n",
              "      <th></th>\n",
              "      <th>id</th>\n",
              "      <th>tweet</th>\n",
              "      <th>label</th>\n",
              "    </tr>\n",
              "  </thead>\n",
              "  <tbody>\n",
              "    <tr>\n",
              "      <th>0</th>\n",
              "      <td>15923</td>\n",
              "      <td>#WhoIsQ #WheresTheServer #DumpNike #DECLASFISA...</td>\n",
              "      <td>OFF</td>\n",
              "    </tr>\n",
              "    <tr>\n",
              "      <th>1</th>\n",
              "      <td>27014</td>\n",
              "      <td>#ConstitutionDay is revered by Conservatives, ...</td>\n",
              "      <td>NOT</td>\n",
              "    </tr>\n",
              "    <tr>\n",
              "      <th>2</th>\n",
              "      <td>30530</td>\n",
              "      <td>#FOXNews #NRA #MAGA #POTUS #TRUMP #2ndAmendmen...</td>\n",
              "      <td>NOT</td>\n",
              "    </tr>\n",
              "    <tr>\n",
              "      <th>3</th>\n",
              "      <td>13876</td>\n",
              "      <td>#Watching #Boomer getting the news that she is...</td>\n",
              "      <td>NOT</td>\n",
              "    </tr>\n",
              "    <tr>\n",
              "      <th>4</th>\n",
              "      <td>60133</td>\n",
              "      <td>#NoPasaran: Unity demo to oppose the far-right...</td>\n",
              "      <td>OFF</td>\n",
              "    </tr>\n",
              "    <tr>\n",
              "      <th>...</th>\n",
              "      <td>...</td>\n",
              "      <td>...</td>\n",
              "      <td>...</td>\n",
              "    </tr>\n",
              "    <tr>\n",
              "      <th>855</th>\n",
              "      <td>73439</td>\n",
              "      <td>#DespicableDems lie again about rifles. Dem Di...</td>\n",
              "      <td>OFF</td>\n",
              "    </tr>\n",
              "    <tr>\n",
              "      <th>856</th>\n",
              "      <td>25657</td>\n",
              "      <td>#MeetTheSpeakers 🙌 @USER will present in our e...</td>\n",
              "      <td>NOT</td>\n",
              "    </tr>\n",
              "    <tr>\n",
              "      <th>857</th>\n",
              "      <td>67018</td>\n",
              "      <td>3 people just unfollowed me for talking about ...</td>\n",
              "      <td>OFF</td>\n",
              "    </tr>\n",
              "    <tr>\n",
              "      <th>858</th>\n",
              "      <td>50665</td>\n",
              "      <td>#WednesdayWisdom Antifa calls the right fascis...</td>\n",
              "      <td>NOT</td>\n",
              "    </tr>\n",
              "    <tr>\n",
              "      <th>859</th>\n",
              "      <td>24583</td>\n",
              "      <td>#Kavanaugh typical #liberals , #Democrats URL</td>\n",
              "      <td>NOT</td>\n",
              "    </tr>\n",
              "  </tbody>\n",
              "</table>\n",
              "<p>860 rows × 3 columns</p>\n",
              "</div>\n",
              "      <button class=\"colab-df-convert\" onclick=\"convertToInteractive('df-60cf6e20-ec27-466c-b95e-faea6a4731b8')\"\n",
              "              title=\"Convert this dataframe to an interactive table.\"\n",
              "              style=\"display:none;\">\n",
              "        \n",
              "  <svg xmlns=\"http://www.w3.org/2000/svg\" height=\"24px\"viewBox=\"0 0 24 24\"\n",
              "       width=\"24px\">\n",
              "    <path d=\"M0 0h24v24H0V0z\" fill=\"none\"/>\n",
              "    <path d=\"M18.56 5.44l.94 2.06.94-2.06 2.06-.94-2.06-.94-.94-2.06-.94 2.06-2.06.94zm-11 1L8.5 8.5l.94-2.06 2.06-.94-2.06-.94L8.5 2.5l-.94 2.06-2.06.94zm10 10l.94 2.06.94-2.06 2.06-.94-2.06-.94-.94-2.06-.94 2.06-2.06.94z\"/><path d=\"M17.41 7.96l-1.37-1.37c-.4-.4-.92-.59-1.43-.59-.52 0-1.04.2-1.43.59L10.3 9.45l-7.72 7.72c-.78.78-.78 2.05 0 2.83L4 21.41c.39.39.9.59 1.41.59.51 0 1.02-.2 1.41-.59l7.78-7.78 2.81-2.81c.8-.78.8-2.07 0-2.86zM5.41 20L4 18.59l7.72-7.72 1.47 1.35L5.41 20z\"/>\n",
              "  </svg>\n",
              "      </button>\n",
              "      \n",
              "  <style>\n",
              "    .colab-df-container {\n",
              "      display:flex;\n",
              "      flex-wrap:wrap;\n",
              "      gap: 12px;\n",
              "    }\n",
              "\n",
              "    .colab-df-convert {\n",
              "      background-color: #E8F0FE;\n",
              "      border: none;\n",
              "      border-radius: 50%;\n",
              "      cursor: pointer;\n",
              "      display: none;\n",
              "      fill: #1967D2;\n",
              "      height: 32px;\n",
              "      padding: 0 0 0 0;\n",
              "      width: 32px;\n",
              "    }\n",
              "\n",
              "    .colab-df-convert:hover {\n",
              "      background-color: #E2EBFA;\n",
              "      box-shadow: 0px 1px 2px rgba(60, 64, 67, 0.3), 0px 1px 3px 1px rgba(60, 64, 67, 0.15);\n",
              "      fill: #174EA6;\n",
              "    }\n",
              "\n",
              "    [theme=dark] .colab-df-convert {\n",
              "      background-color: #3B4455;\n",
              "      fill: #D2E3FC;\n",
              "    }\n",
              "\n",
              "    [theme=dark] .colab-df-convert:hover {\n",
              "      background-color: #434B5C;\n",
              "      box-shadow: 0px 1px 3px 1px rgba(0, 0, 0, 0.15);\n",
              "      filter: drop-shadow(0px 1px 2px rgba(0, 0, 0, 0.3));\n",
              "      fill: #FFFFFF;\n",
              "    }\n",
              "  </style>\n",
              "\n",
              "      <script>\n",
              "        const buttonEl =\n",
              "          document.querySelector('#df-60cf6e20-ec27-466c-b95e-faea6a4731b8 button.colab-df-convert');\n",
              "        buttonEl.style.display =\n",
              "          google.colab.kernel.accessAllowed ? 'block' : 'none';\n",
              "\n",
              "        async function convertToInteractive(key) {\n",
              "          const element = document.querySelector('#df-60cf6e20-ec27-466c-b95e-faea6a4731b8');\n",
              "          const dataTable =\n",
              "            await google.colab.kernel.invokeFunction('convertToInteractive',\n",
              "                                                     [key], {});\n",
              "          if (!dataTable) return;\n",
              "\n",
              "          const docLinkHtml = 'Like what you see? Visit the ' +\n",
              "            '<a target=\"_blank\" href=https://colab.research.google.com/notebooks/data_table.ipynb>data table notebook</a>'\n",
              "            + ' to learn more about interactive tables.';\n",
              "          element.innerHTML = '';\n",
              "          dataTable['output_type'] = 'display_data';\n",
              "          await google.colab.output.renderOutput(dataTable, element);\n",
              "          const docLink = document.createElement('div');\n",
              "          docLink.innerHTML = docLinkHtml;\n",
              "          element.appendChild(docLink);\n",
              "        }\n",
              "      </script>\n",
              "    </div>\n",
              "  </div>\n",
              "  "
            ]
          },
          "metadata": {},
          "execution_count": 6
        }
      ]
    },
    {
      "cell_type": "code",
      "source": [
        "offen_LAN_TS['label'].value_counts()"
      ],
      "metadata": {
        "colab": {
          "base_uri": "https://localhost:8080/"
        },
        "id": "rvj-QB6sTnRR",
        "outputId": "f7b0d9a3-0ded-427b-f6f7-8838227c92cd"
      },
      "execution_count": 7,
      "outputs": [
        {
          "output_type": "execute_result",
          "data": {
            "text/plain": [
              "NOT    620\n",
              "OFF    240\n",
              "Name: label, dtype: int64"
            ]
          },
          "metadata": {},
          "execution_count": 7
        }
      ]
    },
    {
      "cell_type": "code",
      "source": [
        "offen_LAN_VL"
      ],
      "metadata": {
        "colab": {
          "base_uri": "https://localhost:8080/",
          "height": 423
        },
        "id": "ekPH6EDV20U2",
        "outputId": "f92b6afa-d999-41cc-f291-9b8e1dfc1bf9"
      },
      "execution_count": 8,
      "outputs": [
        {
          "output_type": "execute_result",
          "data": {
            "text/plain": [
              "        id                                              tweet label\n",
              "0    12476  @USER @USER @USER Trump is declassifying infor...   NOT\n",
              "1    23242  @USER Ha even with them trying to rig the syst...   NOT\n",
              "2    97885  @USER @USER @USER Man you really thought this ...   NOT\n",
              "3    43414  @USER Ms. Clinton - you are a class act. My re...   OFF\n",
              "4    81403  @USER It’s still here at 753. If someone did t...   NOT\n",
              "..     ...                                                ...   ...\n",
              "922  22519            @USER @USER She is as dumb as she looks   OFF\n",
              "923  58715  @USER If you cant give me stitches when I get ...   NOT\n",
              "924  46544  @USER need more ladies to spread out their pus...   OFF\n",
              "925  70368  @USER I cant believe he didnt work in comet pi...   OFF\n",
              "926  87090                                @USER He is in jail   NOT\n",
              "\n",
              "[927 rows x 3 columns]"
            ],
            "text/html": [
              "\n",
              "  <div id=\"df-d0240b78-9e1a-44bc-a99a-ddef382713d6\">\n",
              "    <div class=\"colab-df-container\">\n",
              "      <div>\n",
              "<style scoped>\n",
              "    .dataframe tbody tr th:only-of-type {\n",
              "        vertical-align: middle;\n",
              "    }\n",
              "\n",
              "    .dataframe tbody tr th {\n",
              "        vertical-align: top;\n",
              "    }\n",
              "\n",
              "    .dataframe thead th {\n",
              "        text-align: right;\n",
              "    }\n",
              "</style>\n",
              "<table border=\"1\" class=\"dataframe\">\n",
              "  <thead>\n",
              "    <tr style=\"text-align: right;\">\n",
              "      <th></th>\n",
              "      <th>id</th>\n",
              "      <th>tweet</th>\n",
              "      <th>label</th>\n",
              "    </tr>\n",
              "  </thead>\n",
              "  <tbody>\n",
              "    <tr>\n",
              "      <th>0</th>\n",
              "      <td>12476</td>\n",
              "      <td>@USER @USER @USER Trump is declassifying infor...</td>\n",
              "      <td>NOT</td>\n",
              "    </tr>\n",
              "    <tr>\n",
              "      <th>1</th>\n",
              "      <td>23242</td>\n",
              "      <td>@USER Ha even with them trying to rig the syst...</td>\n",
              "      <td>NOT</td>\n",
              "    </tr>\n",
              "    <tr>\n",
              "      <th>2</th>\n",
              "      <td>97885</td>\n",
              "      <td>@USER @USER @USER Man you really thought this ...</td>\n",
              "      <td>NOT</td>\n",
              "    </tr>\n",
              "    <tr>\n",
              "      <th>3</th>\n",
              "      <td>43414</td>\n",
              "      <td>@USER Ms. Clinton - you are a class act. My re...</td>\n",
              "      <td>OFF</td>\n",
              "    </tr>\n",
              "    <tr>\n",
              "      <th>4</th>\n",
              "      <td>81403</td>\n",
              "      <td>@USER It’s still here at 753. If someone did t...</td>\n",
              "      <td>NOT</td>\n",
              "    </tr>\n",
              "    <tr>\n",
              "      <th>...</th>\n",
              "      <td>...</td>\n",
              "      <td>...</td>\n",
              "      <td>...</td>\n",
              "    </tr>\n",
              "    <tr>\n",
              "      <th>922</th>\n",
              "      <td>22519</td>\n",
              "      <td>@USER @USER She is as dumb as she looks</td>\n",
              "      <td>OFF</td>\n",
              "    </tr>\n",
              "    <tr>\n",
              "      <th>923</th>\n",
              "      <td>58715</td>\n",
              "      <td>@USER If you cant give me stitches when I get ...</td>\n",
              "      <td>NOT</td>\n",
              "    </tr>\n",
              "    <tr>\n",
              "      <th>924</th>\n",
              "      <td>46544</td>\n",
              "      <td>@USER need more ladies to spread out their pus...</td>\n",
              "      <td>OFF</td>\n",
              "    </tr>\n",
              "    <tr>\n",
              "      <th>925</th>\n",
              "      <td>70368</td>\n",
              "      <td>@USER I cant believe he didnt work in comet pi...</td>\n",
              "      <td>OFF</td>\n",
              "    </tr>\n",
              "    <tr>\n",
              "      <th>926</th>\n",
              "      <td>87090</td>\n",
              "      <td>@USER He is in jail</td>\n",
              "      <td>NOT</td>\n",
              "    </tr>\n",
              "  </tbody>\n",
              "</table>\n",
              "<p>927 rows × 3 columns</p>\n",
              "</div>\n",
              "      <button class=\"colab-df-convert\" onclick=\"convertToInteractive('df-d0240b78-9e1a-44bc-a99a-ddef382713d6')\"\n",
              "              title=\"Convert this dataframe to an interactive table.\"\n",
              "              style=\"display:none;\">\n",
              "        \n",
              "  <svg xmlns=\"http://www.w3.org/2000/svg\" height=\"24px\"viewBox=\"0 0 24 24\"\n",
              "       width=\"24px\">\n",
              "    <path d=\"M0 0h24v24H0V0z\" fill=\"none\"/>\n",
              "    <path d=\"M18.56 5.44l.94 2.06.94-2.06 2.06-.94-2.06-.94-.94-2.06-.94 2.06-2.06.94zm-11 1L8.5 8.5l.94-2.06 2.06-.94-2.06-.94L8.5 2.5l-.94 2.06-2.06.94zm10 10l.94 2.06.94-2.06 2.06-.94-2.06-.94-.94-2.06-.94 2.06-2.06.94z\"/><path d=\"M17.41 7.96l-1.37-1.37c-.4-.4-.92-.59-1.43-.59-.52 0-1.04.2-1.43.59L10.3 9.45l-7.72 7.72c-.78.78-.78 2.05 0 2.83L4 21.41c.39.39.9.59 1.41.59.51 0 1.02-.2 1.41-.59l7.78-7.78 2.81-2.81c.8-.78.8-2.07 0-2.86zM5.41 20L4 18.59l7.72-7.72 1.47 1.35L5.41 20z\"/>\n",
              "  </svg>\n",
              "      </button>\n",
              "      \n",
              "  <style>\n",
              "    .colab-df-container {\n",
              "      display:flex;\n",
              "      flex-wrap:wrap;\n",
              "      gap: 12px;\n",
              "    }\n",
              "\n",
              "    .colab-df-convert {\n",
              "      background-color: #E8F0FE;\n",
              "      border: none;\n",
              "      border-radius: 50%;\n",
              "      cursor: pointer;\n",
              "      display: none;\n",
              "      fill: #1967D2;\n",
              "      height: 32px;\n",
              "      padding: 0 0 0 0;\n",
              "      width: 32px;\n",
              "    }\n",
              "\n",
              "    .colab-df-convert:hover {\n",
              "      background-color: #E2EBFA;\n",
              "      box-shadow: 0px 1px 2px rgba(60, 64, 67, 0.3), 0px 1px 3px 1px rgba(60, 64, 67, 0.15);\n",
              "      fill: #174EA6;\n",
              "    }\n",
              "\n",
              "    [theme=dark] .colab-df-convert {\n",
              "      background-color: #3B4455;\n",
              "      fill: #D2E3FC;\n",
              "    }\n",
              "\n",
              "    [theme=dark] .colab-df-convert:hover {\n",
              "      background-color: #434B5C;\n",
              "      box-shadow: 0px 1px 3px 1px rgba(0, 0, 0, 0.15);\n",
              "      filter: drop-shadow(0px 1px 2px rgba(0, 0, 0, 0.3));\n",
              "      fill: #FFFFFF;\n",
              "    }\n",
              "  </style>\n",
              "\n",
              "      <script>\n",
              "        const buttonEl =\n",
              "          document.querySelector('#df-d0240b78-9e1a-44bc-a99a-ddef382713d6 button.colab-df-convert');\n",
              "        buttonEl.style.display =\n",
              "          google.colab.kernel.accessAllowed ? 'block' : 'none';\n",
              "\n",
              "        async function convertToInteractive(key) {\n",
              "          const element = document.querySelector('#df-d0240b78-9e1a-44bc-a99a-ddef382713d6');\n",
              "          const dataTable =\n",
              "            await google.colab.kernel.invokeFunction('convertToInteractive',\n",
              "                                                     [key], {});\n",
              "          if (!dataTable) return;\n",
              "\n",
              "          const docLinkHtml = 'Like what you see? Visit the ' +\n",
              "            '<a target=\"_blank\" href=https://colab.research.google.com/notebooks/data_table.ipynb>data table notebook</a>'\n",
              "            + ' to learn more about interactive tables.';\n",
              "          element.innerHTML = '';\n",
              "          dataTable['output_type'] = 'display_data';\n",
              "          await google.colab.output.renderOutput(dataTable, element);\n",
              "          const docLink = document.createElement('div');\n",
              "          docLink.innerHTML = docLinkHtml;\n",
              "          element.appendChild(docLink);\n",
              "        }\n",
              "      </script>\n",
              "    </div>\n",
              "  </div>\n",
              "  "
            ]
          },
          "metadata": {},
          "execution_count": 8
        }
      ]
    },
    {
      "cell_type": "code",
      "source": [
        "offen_LAN_VL['label'].value_counts()"
      ],
      "metadata": {
        "colab": {
          "base_uri": "https://localhost:8080/"
        },
        "id": "-j2N9TjETqbF",
        "outputId": "bc0d0e92-d9ad-4dc7-b791-28fb78c4f228"
      },
      "execution_count": 9,
      "outputs": [
        {
          "output_type": "execute_result",
          "data": {
            "text/plain": [
              "NOT    619\n",
              "OFF    308\n",
              "Name: label, dtype: int64"
            ]
          },
          "metadata": {},
          "execution_count": 9
        }
      ]
    },
    {
      "cell_type": "code",
      "source": [
        "offen_LAN_TR.info()"
      ],
      "metadata": {
        "id": "Zmq0RhLyjypd",
        "colab": {
          "base_uri": "https://localhost:8080/"
        },
        "outputId": "4c296d3b-9d38-4674-ccc7-991569636b72"
      },
      "execution_count": 10,
      "outputs": [
        {
          "output_type": "stream",
          "name": "stdout",
          "text": [
            "<class 'pandas.core.frame.DataFrame'>\n",
            "RangeIndex: 12313 entries, 0 to 12312\n",
            "Data columns (total 3 columns):\n",
            " #   Column  Non-Null Count  Dtype \n",
            "---  ------  --------------  ----- \n",
            " 0   id      12313 non-null  int64 \n",
            " 1   tweet   12313 non-null  object\n",
            " 2   label   12313 non-null  object\n",
            "dtypes: int64(1), object(2)\n",
            "memory usage: 288.7+ KB\n"
          ]
        }
      ]
    },
    {
      "cell_type": "markdown",
      "source": [
        "*** Clensing"
      ],
      "metadata": {
        "id": "emadiM2hISaY"
      }
    },
    {
      "cell_type": "code",
      "source": [
        "offen_LAN_TR.isna().any()"
      ],
      "metadata": {
        "id": "1Fs0rIoyjysn",
        "colab": {
          "base_uri": "https://localhost:8080/"
        },
        "outputId": "9bd52b73-9098-4a99-b896-27017dbd92ad"
      },
      "execution_count": 11,
      "outputs": [
        {
          "output_type": "execute_result",
          "data": {
            "text/plain": [
              "id       False\n",
              "tweet    False\n",
              "label    False\n",
              "dtype: bool"
            ]
          },
          "metadata": {},
          "execution_count": 11
        }
      ]
    },
    {
      "cell_type": "markdown",
      "source": [
        "False results shows zero null "
      ],
      "metadata": {
        "id": "BgJNCOuhI5Np"
      }
    },
    {
      "cell_type": "markdown",
      "source": [
        "*** NLTK feature processing"
      ],
      "metadata": {
        "id": "_0LjsA66LnIW"
      }
    },
    {
      "cell_type": "code",
      "source": [
        "offen_LANsttp_V = offen_LANsttp.words('english')"
      ],
      "metadata": {
        "id": "mFnDWN36Kq5U"
      },
      "execution_count": 12,
      "outputs": []
    },
    {
      "cell_type": "code",
      "source": [
        "def OLID_F(O):                    \n",
        "    O = O.lower()\n",
        "    O = offen_LANrrr.sub(\"[^a-z]+\", \" \", O)\n",
        "    O = \" \".join([f for f in O.split() if f not in offen_LANsttp_V])\n",
        "    return O"
      ],
      "metadata": {
        "id": "vifwr_0NKq8Q"
      },
      "execution_count": 13,
      "outputs": []
    },
    {
      "cell_type": "code",
      "source": [
        "OLID_vari=[]\n",
        "for O in offen_LAN_TR['tweet']:\n",
        "    OLID_vari.append(OLID_F(O))\n",
        "offen_LAN_TR['tweet']=OLID_vari\n",
        "offen_LAN_TR['tweet'].head(n=7)"
      ],
      "metadata": {
        "colab": {
          "base_uri": "https://localhost:8080/"
        },
        "id": "XAKQJpfZKrBp",
        "outputId": "683c854f-775b-46d4-a629-3a8b2de0e920"
      },
      "execution_count": 14,
      "outputs": [
        {
          "output_type": "execute_result",
          "data": {
            "text/plain": [
              "0    user done well intentional th hour attack comp...\n",
              "1        k followers k go get goal trumptrain maga kag\n",
              "2          user tom bought interested tom constituents\n",
              "3            user user even brother thinks monster url\n",
              "4    user user user user user understand someone kn...\n",
              "5        user help help liberals sexual assaults facts\n",
              "6    user user knows something liberals want talk s...\n",
              "Name: tweet, dtype: object"
            ]
          },
          "metadata": {},
          "execution_count": 14
        }
      ]
    },
    {
      "cell_type": "markdown",
      "source": [
        "** Count Vectorzation"
      ],
      "metadata": {
        "id": "g-axP0r2PhjG"
      }
    },
    {
      "cell_type": "code",
      "source": [
        "offen_LAN_TR_in= offen_LAN_TR['tweet']\n",
        "offen_LAN_TR_ot= offen_LAN_TR['label']\n",
        "\n",
        "offen_LANidf_V = offen_LANidf(analyzer='char')\n",
        "offen_LANidf_V = offen_LANidf_V.fit(offen_LAN_TR_in.apply(lambda ip: offen_LANmnn.str_(ip)))"
      ],
      "metadata": {
        "id": "MwcZAGDwNiDV"
      },
      "execution_count": 15,
      "outputs": []
    },
    {
      "cell_type": "code",
      "source": [
        "offen_LANidf_V"
      ],
      "metadata": {
        "colab": {
          "base_uri": "https://localhost:8080/",
          "height": 74
        },
        "id": "TcWyH5N_yaI1",
        "outputId": "591d148d-1ffb-4ee6-d99c-4c2b8fc5ab0a"
      },
      "execution_count": 16,
      "outputs": [
        {
          "output_type": "execute_result",
          "data": {
            "text/plain": [
              "TfidfVectorizer(analyzer='char')"
            ],
            "text/html": [
              "<style>#sk-container-id-1 {color: black;background-color: white;}#sk-container-id-1 pre{padding: 0;}#sk-container-id-1 div.sk-toggleable {background-color: white;}#sk-container-id-1 label.sk-toggleable__label {cursor: pointer;display: block;width: 100%;margin-bottom: 0;padding: 0.3em;box-sizing: border-box;text-align: center;}#sk-container-id-1 label.sk-toggleable__label-arrow:before {content: \"▸\";float: left;margin-right: 0.25em;color: #696969;}#sk-container-id-1 label.sk-toggleable__label-arrow:hover:before {color: black;}#sk-container-id-1 div.sk-estimator:hover label.sk-toggleable__label-arrow:before {color: black;}#sk-container-id-1 div.sk-toggleable__content {max-height: 0;max-width: 0;overflow: hidden;text-align: left;background-color: #f0f8ff;}#sk-container-id-1 div.sk-toggleable__content pre {margin: 0.2em;color: black;border-radius: 0.25em;background-color: #f0f8ff;}#sk-container-id-1 input.sk-toggleable__control:checked~div.sk-toggleable__content {max-height: 200px;max-width: 100%;overflow: auto;}#sk-container-id-1 input.sk-toggleable__control:checked~label.sk-toggleable__label-arrow:before {content: \"▾\";}#sk-container-id-1 div.sk-estimator input.sk-toggleable__control:checked~label.sk-toggleable__label {background-color: #d4ebff;}#sk-container-id-1 div.sk-label input.sk-toggleable__control:checked~label.sk-toggleable__label {background-color: #d4ebff;}#sk-container-id-1 input.sk-hidden--visually {border: 0;clip: rect(1px 1px 1px 1px);clip: rect(1px, 1px, 1px, 1px);height: 1px;margin: -1px;overflow: hidden;padding: 0;position: absolute;width: 1px;}#sk-container-id-1 div.sk-estimator {font-family: monospace;background-color: #f0f8ff;border: 1px dotted black;border-radius: 0.25em;box-sizing: border-box;margin-bottom: 0.5em;}#sk-container-id-1 div.sk-estimator:hover {background-color: #d4ebff;}#sk-container-id-1 div.sk-parallel-item::after {content: \"\";width: 100%;border-bottom: 1px solid gray;flex-grow: 1;}#sk-container-id-1 div.sk-label:hover label.sk-toggleable__label {background-color: #d4ebff;}#sk-container-id-1 div.sk-serial::before {content: \"\";position: absolute;border-left: 1px solid gray;box-sizing: border-box;top: 0;bottom: 0;left: 50%;z-index: 0;}#sk-container-id-1 div.sk-serial {display: flex;flex-direction: column;align-items: center;background-color: white;padding-right: 0.2em;padding-left: 0.2em;position: relative;}#sk-container-id-1 div.sk-item {position: relative;z-index: 1;}#sk-container-id-1 div.sk-parallel {display: flex;align-items: stretch;justify-content: center;background-color: white;position: relative;}#sk-container-id-1 div.sk-item::before, #sk-container-id-1 div.sk-parallel-item::before {content: \"\";position: absolute;border-left: 1px solid gray;box-sizing: border-box;top: 0;bottom: 0;left: 50%;z-index: -1;}#sk-container-id-1 div.sk-parallel-item {display: flex;flex-direction: column;z-index: 1;position: relative;background-color: white;}#sk-container-id-1 div.sk-parallel-item:first-child::after {align-self: flex-end;width: 50%;}#sk-container-id-1 div.sk-parallel-item:last-child::after {align-self: flex-start;width: 50%;}#sk-container-id-1 div.sk-parallel-item:only-child::after {width: 0;}#sk-container-id-1 div.sk-dashed-wrapped {border: 1px dashed gray;margin: 0 0.4em 0.5em 0.4em;box-sizing: border-box;padding-bottom: 0.4em;background-color: white;}#sk-container-id-1 div.sk-label label {font-family: monospace;font-weight: bold;display: inline-block;line-height: 1.2em;}#sk-container-id-1 div.sk-label-container {text-align: center;}#sk-container-id-1 div.sk-container {/* jupyter's `normalize.less` sets `[hidden] { display: none; }` but bootstrap.min.css set `[hidden] { display: none !important; }` so we also need the `!important` here to be able to override the default hidden behavior on the sphinx rendered scikit-learn.org. See: https://github.com/scikit-learn/scikit-learn/issues/21755 */display: inline-block !important;position: relative;}#sk-container-id-1 div.sk-text-repr-fallback {display: none;}</style><div id=\"sk-container-id-1\" class=\"sk-top-container\"><div class=\"sk-text-repr-fallback\"><pre>TfidfVectorizer(analyzer=&#x27;char&#x27;)</pre><b>In a Jupyter environment, please rerun this cell to show the HTML representation or trust the notebook. <br />On GitHub, the HTML representation is unable to render, please try loading this page with nbviewer.org.</b></div><div class=\"sk-container\" hidden><div class=\"sk-item\"><div class=\"sk-estimator sk-toggleable\"><input class=\"sk-toggleable__control sk-hidden--visually\" id=\"sk-estimator-id-1\" type=\"checkbox\" checked><label for=\"sk-estimator-id-1\" class=\"sk-toggleable__label sk-toggleable__label-arrow\">TfidfVectorizer</label><div class=\"sk-toggleable__content\"><pre>TfidfVectorizer(analyzer=&#x27;char&#x27;)</pre></div></div></div></div></div>"
            ]
          },
          "metadata": {},
          "execution_count": 16
        }
      ]
    },
    {
      "cell_type": "code",
      "source": [
        "## fn to call tfidf vectrzr\n",
        "def TFIdf(i):\n",
        "  i = offen_LANidf_V.transform(i.apply(lambda ip: offen_LANmnn.str_(ip)))\n",
        "  i=i.toarray()\n",
        "  return i"
      ],
      "metadata": {
        "id": "Ol5fZ6-4NiJj"
      },
      "execution_count": 17,
      "outputs": []
    },
    {
      "cell_type": "code",
      "source": [
        "offen_LAN_TR_in= TFIdf(offen_LAN_TR_in)\n",
        "offen_LAN_TR_in"
      ],
      "metadata": {
        "colab": {
          "base_uri": "https://localhost:8080/"
        },
        "id": "yyPjy5C2KqQX",
        "outputId": "7b5a618c-6d33-48c2-be8a-536a6f874e1d"
      },
      "execution_count": 18,
      "outputs": [
        {
          "output_type": "execute_result",
          "data": {
            "text/plain": [
              "array([[0.46946487, 0.34538266, 0.03489553, ..., 0.        , 0.1012026 ,\n",
              "        0.        ],\n",
              "       [0.51924131, 0.35812773, 0.        , ..., 0.        , 0.        ,\n",
              "        0.        ],\n",
              "       [0.34064975, 0.        , 0.1063467 , ..., 0.        , 0.        ,\n",
              "        0.        ],\n",
              "       ...,\n",
              "       [0.47544987, 0.2248623 , 0.14136158, ..., 0.        , 0.        ,\n",
              "        0.        ],\n",
              "       [0.43100439, 0.40768394, 0.19222046, ..., 0.        , 0.        ,\n",
              "        0.        ],\n",
              "       [0.50233885, 0.18478393, 0.05227469, ..., 0.        , 0.10106996,\n",
              "        0.        ]])"
            ]
          },
          "metadata": {},
          "execution_count": 18
        }
      ]
    },
    {
      "cell_type": "markdown",
      "source": [
        "# **@@ TASK 1: Model Selection @@**"
      ],
      "metadata": {
        "id": "l1vpcJgS5AQI"
      }
    },
    {
      "cell_type": "code",
      "source": [
        "#### SVM -First model\n",
        "from sklearn.svm import SVC as offen_LAN_sv\n",
        "\n",
        "#### multinomial LR- Second model\n",
        "from sklearn.linear_model import LogisticRegression as offen_LAN_lr"
      ],
      "metadata": {
        "id": "tI8rC3g16-UW"
      },
      "execution_count": 19,
      "outputs": []
    },
    {
      "cell_type": "markdown",
      "source": [
        "# **@@ TASK 2: Devising and training your own classifier @@**"
      ],
      "metadata": {
        "id": "q-CzR0kO7nKJ"
      }
    },
    {
      "cell_type": "code",
      "source": [
        "from sklearn.metrics import classification_report as offen_LANcsf\n",
        "from sklearn.metrics import confusion_matrix as offen_LANoncf\n",
        "from sklearn import metrics as offen_LANtrm\n",
        "import joblib as offen_LANbbj"
      ],
      "metadata": {
        "id": "yQZX_ADtC7Nw"
      },
      "execution_count": 20,
      "outputs": []
    },
    {
      "cell_type": "markdown",
      "source": [
        "### SVM -First model"
      ],
      "metadata": {
        "id": "VR2wPL6Tuuc7"
      }
    },
    {
      "cell_type": "code",
      "source": [
        "first_mod = offen_LAN_sv() \n",
        "first_mod.fit(offen_LAN_TR_in, offen_LAN_TR_ot)"
      ],
      "metadata": {
        "colab": {
          "base_uri": "https://localhost:8080/",
          "height": 74
        },
        "id": "ogP6k1RCKrEU",
        "outputId": "36aaa7db-2b43-4449-a95c-91ddcba57a6f"
      },
      "execution_count": 21,
      "outputs": [
        {
          "output_type": "execute_result",
          "data": {
            "text/plain": [
              "SVC()"
            ],
            "text/html": [
              "<style>#sk-container-id-2 {color: black;background-color: white;}#sk-container-id-2 pre{padding: 0;}#sk-container-id-2 div.sk-toggleable {background-color: white;}#sk-container-id-2 label.sk-toggleable__label {cursor: pointer;display: block;width: 100%;margin-bottom: 0;padding: 0.3em;box-sizing: border-box;text-align: center;}#sk-container-id-2 label.sk-toggleable__label-arrow:before {content: \"▸\";float: left;margin-right: 0.25em;color: #696969;}#sk-container-id-2 label.sk-toggleable__label-arrow:hover:before {color: black;}#sk-container-id-2 div.sk-estimator:hover label.sk-toggleable__label-arrow:before {color: black;}#sk-container-id-2 div.sk-toggleable__content {max-height: 0;max-width: 0;overflow: hidden;text-align: left;background-color: #f0f8ff;}#sk-container-id-2 div.sk-toggleable__content pre {margin: 0.2em;color: black;border-radius: 0.25em;background-color: #f0f8ff;}#sk-container-id-2 input.sk-toggleable__control:checked~div.sk-toggleable__content {max-height: 200px;max-width: 100%;overflow: auto;}#sk-container-id-2 input.sk-toggleable__control:checked~label.sk-toggleable__label-arrow:before {content: \"▾\";}#sk-container-id-2 div.sk-estimator input.sk-toggleable__control:checked~label.sk-toggleable__label {background-color: #d4ebff;}#sk-container-id-2 div.sk-label input.sk-toggleable__control:checked~label.sk-toggleable__label {background-color: #d4ebff;}#sk-container-id-2 input.sk-hidden--visually {border: 0;clip: rect(1px 1px 1px 1px);clip: rect(1px, 1px, 1px, 1px);height: 1px;margin: -1px;overflow: hidden;padding: 0;position: absolute;width: 1px;}#sk-container-id-2 div.sk-estimator {font-family: monospace;background-color: #f0f8ff;border: 1px dotted black;border-radius: 0.25em;box-sizing: border-box;margin-bottom: 0.5em;}#sk-container-id-2 div.sk-estimator:hover {background-color: #d4ebff;}#sk-container-id-2 div.sk-parallel-item::after {content: \"\";width: 100%;border-bottom: 1px solid gray;flex-grow: 1;}#sk-container-id-2 div.sk-label:hover label.sk-toggleable__label {background-color: #d4ebff;}#sk-container-id-2 div.sk-serial::before {content: \"\";position: absolute;border-left: 1px solid gray;box-sizing: border-box;top: 0;bottom: 0;left: 50%;z-index: 0;}#sk-container-id-2 div.sk-serial {display: flex;flex-direction: column;align-items: center;background-color: white;padding-right: 0.2em;padding-left: 0.2em;position: relative;}#sk-container-id-2 div.sk-item {position: relative;z-index: 1;}#sk-container-id-2 div.sk-parallel {display: flex;align-items: stretch;justify-content: center;background-color: white;position: relative;}#sk-container-id-2 div.sk-item::before, #sk-container-id-2 div.sk-parallel-item::before {content: \"\";position: absolute;border-left: 1px solid gray;box-sizing: border-box;top: 0;bottom: 0;left: 50%;z-index: -1;}#sk-container-id-2 div.sk-parallel-item {display: flex;flex-direction: column;z-index: 1;position: relative;background-color: white;}#sk-container-id-2 div.sk-parallel-item:first-child::after {align-self: flex-end;width: 50%;}#sk-container-id-2 div.sk-parallel-item:last-child::after {align-self: flex-start;width: 50%;}#sk-container-id-2 div.sk-parallel-item:only-child::after {width: 0;}#sk-container-id-2 div.sk-dashed-wrapped {border: 1px dashed gray;margin: 0 0.4em 0.5em 0.4em;box-sizing: border-box;padding-bottom: 0.4em;background-color: white;}#sk-container-id-2 div.sk-label label {font-family: monospace;font-weight: bold;display: inline-block;line-height: 1.2em;}#sk-container-id-2 div.sk-label-container {text-align: center;}#sk-container-id-2 div.sk-container {/* jupyter's `normalize.less` sets `[hidden] { display: none; }` but bootstrap.min.css set `[hidden] { display: none !important; }` so we also need the `!important` here to be able to override the default hidden behavior on the sphinx rendered scikit-learn.org. See: https://github.com/scikit-learn/scikit-learn/issues/21755 */display: inline-block !important;position: relative;}#sk-container-id-2 div.sk-text-repr-fallback {display: none;}</style><div id=\"sk-container-id-2\" class=\"sk-top-container\"><div class=\"sk-text-repr-fallback\"><pre>SVC()</pre><b>In a Jupyter environment, please rerun this cell to show the HTML representation or trust the notebook. <br />On GitHub, the HTML representation is unable to render, please try loading this page with nbviewer.org.</b></div><div class=\"sk-container\" hidden><div class=\"sk-item\"><div class=\"sk-estimator sk-toggleable\"><input class=\"sk-toggleable__control sk-hidden--visually\" id=\"sk-estimator-id-2\" type=\"checkbox\" checked><label for=\"sk-estimator-id-2\" class=\"sk-toggleable__label sk-toggleable__label-arrow\">SVC</label><div class=\"sk-toggleable__content\"><pre>SVC()</pre></div></div></div></div></div>"
            ]
          },
          "metadata": {},
          "execution_count": 21
        }
      ]
    },
    {
      "cell_type": "markdown",
      "source": [
        "extraction of features for validation data using count Vectorizer"
      ],
      "metadata": {
        "id": "sa8glV2A8YK8"
      }
    },
    {
      "cell_type": "code",
      "source": [
        "offen_LAN_VL_in= offen_LAN_VL['tweet']\n",
        "offen_LAN_VL_in= TFIdf(offen_LAN_VL_in)\n",
        "print(offen_LAN_VL_in)\n",
        "offen_LAN_VL_ot= offen_LAN_VL['label']"
      ],
      "metadata": {
        "id": "2O-jKrtby2q2",
        "colab": {
          "base_uri": "https://localhost:8080/"
        },
        "outputId": "7bc3e98e-04c0-45ef-acfa-c8fbe2d061fa"
      },
      "execution_count": 22,
      "outputs": [
        {
          "output_type": "stream",
          "name": "stdout",
          "text": [
            "[[0.61531502 0.25692864 0.10383451 ... 0.         0.12547361 0.        ]\n",
            " [0.56264683 0.14111458 0.03992079 ... 0.         0.11577667 0.        ]\n",
            " [0.5829766  0.17545607 0.         ... 0.         0.15994661 0.        ]\n",
            " ...\n",
            " [0.61141953 0.18401642 0.         ... 0.         0.08387513 0.        ]\n",
            " [0.58070343 0.19224911 0.04532213 ... 0.0895599  0.         0.20748312]\n",
            " [0.54545936 0.15048427 0.         ... 0.         0.         0.        ]]\n"
          ]
        }
      ]
    },
    {
      "cell_type": "code",
      "source": [
        "import warnings as offen_LANWrg\n",
        "offen_LANWrg.simplefilter(\"ignore\")"
      ],
      "metadata": {
        "id": "eXOy13eQJscP"
      },
      "execution_count": 23,
      "outputs": []
    },
    {
      "cell_type": "code",
      "source": [
        "offen_LAN_pdr = first_mod.predict(offen_LAN_VL_in)\n",
        "print(offen_LANcsf(offen_LAN_pdr, offen_LAN_VL_ot))"
      ],
      "metadata": {
        "colab": {
          "base_uri": "https://localhost:8080/"
        },
        "id": "ZDDPber1dxsU",
        "outputId": "8a3f44b1-fb8f-471b-fd6e-d3eda563a42d"
      },
      "execution_count": 24,
      "outputs": [
        {
          "output_type": "stream",
          "name": "stdout",
          "text": [
            "              precision    recall  f1-score   support\n",
            "\n",
            "         NOT       0.97      0.68      0.80       888\n",
            "         OFF       0.07      0.59      0.13        39\n",
            "\n",
            "    accuracy                           0.68       927\n",
            "   macro avg       0.52      0.63      0.47       927\n",
            "weighted avg       0.94      0.68      0.77       927\n",
            "\n"
          ]
        }
      ]
    },
    {
      "cell_type": "code",
      "source": [
        "cmm = offen_LANoncf(offen_LAN_pdr, offen_LAN_VL_ot)\n",
        "cmm_p=offen_LANtrm.ConfusionMatrixDisplay(confusion_matrix = cmm, display_labels = ['NOT', 'OFF'])\n",
        "cmm_p.plot()"
      ],
      "metadata": {
        "colab": {
          "base_uri": "https://localhost:8080/",
          "height": 470
        },
        "id": "2Jzhxcbd6hAX",
        "outputId": "6dc3ff54-3789-46aa-bbe6-b5d845e3cb3f"
      },
      "execution_count": 25,
      "outputs": [
        {
          "output_type": "execute_result",
          "data": {
            "text/plain": [
              "<sklearn.metrics._plot.confusion_matrix.ConfusionMatrixDisplay at 0x7f65632ea640>"
            ]
          },
          "metadata": {},
          "execution_count": 25
        },
        {
          "output_type": "display_data",
          "data": {
            "text/plain": [
              "<Figure size 640x480 with 2 Axes>"
            ],
            "image/png": "[encoded data removed]"
          },
          "metadata": {}
        }
      ]
    },
    {
      "cell_type": "markdown",
      "source": [
        "### SVM -First model hypertuning"
      ],
      "metadata": {
        "id": "AM5Cuaoc9duM"
      }
    },
    {
      "cell_type": "code",
      "source": [
        "first_mod = offen_LAN_sv(kernel='poly', decision_function_shape='ovr') \n",
        "first_mod.fit(offen_LAN_TR_in, offen_LAN_TR_ot)\n",
        "\n",
        "offen_LAN_pdr = first_mod.predict(offen_LAN_VL_in)\n",
        "print(offen_LANcsf(offen_LAN_pdr, offen_LAN_VL_ot))\n",
        "\n",
        "cmm = offen_LANoncf(offen_LAN_pdr, offen_LAN_VL_ot)\n",
        "cmm_p=offen_LANtrm.ConfusionMatrixDisplay(confusion_matrix = cmm, display_labels = ['NOT', 'OFF'])\n",
        "cmm_p.plot()"
      ],
      "metadata": {
        "colab": {
          "base_uri": "https://localhost:8080/",
          "height": 623
        },
        "id": "ofGMX2vd9Xde",
        "outputId": "bb6b05ac-b0ec-4bc1-8267-6b2be49a3e25"
      },
      "execution_count": 26,
      "outputs": [
        {
          "output_type": "stream",
          "name": "stdout",
          "text": [
            "              precision    recall  f1-score   support\n",
            "\n",
            "         NOT       0.94      0.68      0.79       858\n",
            "         OFF       0.11      0.48      0.18        69\n",
            "\n",
            "    accuracy                           0.66       927\n",
            "   macro avg       0.52      0.58      0.48       927\n",
            "weighted avg       0.88      0.66      0.74       927\n",
            "\n"
          ]
        },
        {
          "output_type": "execute_result",
          "data": {
            "text/plain": [
              "<sklearn.metrics._plot.confusion_matrix.ConfusionMatrixDisplay at 0x7f65985fdca0>"
            ]
          },
          "metadata": {},
          "execution_count": 26
        },
        {
          "output_type": "display_data",
          "data": {
            "text/plain": [
              "<Figure size 640x480 with 2 Axes>"
            ],
            "image/png": "[encoded data removed]"
          },
          "metadata": {}
        }
      ]
    },
    {
      "cell_type": "code",
      "source": [
        "first_mod = offen_LAN_sv(kernel='sigmoid', decision_function_shape='ovo') \n",
        "first_mod.fit(offen_LAN_TR_in, offen_LAN_TR_ot)\n",
        "\n",
        "offen_LAN_pdr = first_mod.predict(offen_LAN_VL_in)\n",
        "print(offen_LANcsf(offen_LAN_pdr, offen_LAN_VL_ot))\n",
        "\n",
        "cmm = offen_LANoncf(offen_LAN_pdr, offen_LAN_VL_ot)\n",
        "cmm_p=offen_LANtrm.ConfusionMatrixDisplay(confusion_matrix = cmm, display_labels = ['NOT', 'OFF'])\n",
        "cmm_p.plot()"
      ],
      "metadata": {
        "colab": {
          "base_uri": "https://localhost:8080/",
          "height": 623
        },
        "id": "5R83N35-9Xgu",
        "outputId": "f4e37453-996a-43b3-b290-3cefedcbd509"
      },
      "execution_count": 27,
      "outputs": [
        {
          "output_type": "stream",
          "name": "stdout",
          "text": [
            "              precision    recall  f1-score   support\n",
            "\n",
            "         NOT       0.71      0.70      0.70       626\n",
            "         OFF       0.39      0.40      0.39       301\n",
            "\n",
            "    accuracy                           0.60       927\n",
            "   macro avg       0.55      0.55      0.55       927\n",
            "weighted avg       0.60      0.60      0.60       927\n",
            "\n"
          ]
        },
        {
          "output_type": "execute_result",
          "data": {
            "text/plain": [
              "<sklearn.metrics._plot.confusion_matrix.ConfusionMatrixDisplay at 0x7f65957a8d90>"
            ]
          },
          "metadata": {},
          "execution_count": 27
        },
        {
          "output_type": "display_data",
          "data": {
            "text/plain": [
              "<Figure size 640x480 with 2 Axes>"
            ],
            "image/png": "[encoded data removed]"
          },
          "metadata": {}
        }
      ]
    },
    {
      "cell_type": "code",
      "source": [
        "# this is the svm model\n",
        "first_mod = offen_LAN_sv() \n",
        "first_mod.fit(offen_LAN_TR_in, offen_LAN_TR_ot)"
      ],
      "metadata": {
        "colab": {
          "base_uri": "https://localhost:8080/",
          "height": 74
        },
        "id": "Lcl16F6D_lyL",
        "outputId": "83c97e10-bd9c-439a-e76b-b81f7ad46453"
      },
      "execution_count": 28,
      "outputs": [
        {
          "output_type": "execute_result",
          "data": {
            "text/plain": [
              "SVC()"
            ],
            "text/html": [
              "<style>#sk-container-id-3 {color: black;background-color: white;}#sk-container-id-3 pre{padding: 0;}#sk-container-id-3 div.sk-toggleable {background-color: white;}#sk-container-id-3 label.sk-toggleable__label {cursor: pointer;display: block;width: 100%;margin-bottom: 0;padding: 0.3em;box-sizing: border-box;text-align: center;}#sk-container-id-3 label.sk-toggleable__label-arrow:before {content: \"▸\";float: left;margin-right: 0.25em;color: #696969;}#sk-container-id-3 label.sk-toggleable__label-arrow:hover:before {color: black;}#sk-container-id-3 div.sk-estimator:hover label.sk-toggleable__label-arrow:before {color: black;}#sk-container-id-3 div.sk-toggleable__content {max-height: 0;max-width: 0;overflow: hidden;text-align: left;background-color: #f0f8ff;}#sk-container-id-3 div.sk-toggleable__content pre {margin: 0.2em;color: black;border-radius: 0.25em;background-color: #f0f8ff;}#sk-container-id-3 input.sk-toggleable__control:checked~div.sk-toggleable__content {max-height: 200px;max-width: 100%;overflow: auto;}#sk-container-id-3 input.sk-toggleable__control:checked~label.sk-toggleable__label-arrow:before {content: \"▾\";}#sk-container-id-3 div.sk-estimator input.sk-toggleable__control:checked~label.sk-toggleable__label {background-color: #d4ebff;}#sk-container-id-3 div.sk-label input.sk-toggleable__control:checked~label.sk-toggleable__label {background-color: #d4ebff;}#sk-container-id-3 input.sk-hidden--visually {border: 0;clip: rect(1px 1px 1px 1px);clip: rect(1px, 1px, 1px, 1px);height: 1px;margin: -1px;overflow: hidden;padding: 0;position: absolute;width: 1px;}#sk-container-id-3 div.sk-estimator {font-family: monospace;background-color: #f0f8ff;border: 1px dotted black;border-radius: 0.25em;box-sizing: border-box;margin-bottom: 0.5em;}#sk-container-id-3 div.sk-estimator:hover {background-color: #d4ebff;}#sk-container-id-3 div.sk-parallel-item::after {content: \"\";width: 100%;border-bottom: 1px solid gray;flex-grow: 1;}#sk-container-id-3 div.sk-label:hover label.sk-toggleable__label {background-color: #d4ebff;}#sk-container-id-3 div.sk-serial::before {content: \"\";position: absolute;border-left: 1px solid gray;box-sizing: border-box;top: 0;bottom: 0;left: 50%;z-index: 0;}#sk-container-id-3 div.sk-serial {display: flex;flex-direction: column;align-items: center;background-color: white;padding-right: 0.2em;padding-left: 0.2em;position: relative;}#sk-container-id-3 div.sk-item {position: relative;z-index: 1;}#sk-container-id-3 div.sk-parallel {display: flex;align-items: stretch;justify-content: center;background-color: white;position: relative;}#sk-container-id-3 div.sk-item::before, #sk-container-id-3 div.sk-parallel-item::before {content: \"\";position: absolute;border-left: 1px solid gray;box-sizing: border-box;top: 0;bottom: 0;left: 50%;z-index: -1;}#sk-container-id-3 div.sk-parallel-item {display: flex;flex-direction: column;z-index: 1;position: relative;background-color: white;}#sk-container-id-3 div.sk-parallel-item:first-child::after {align-self: flex-end;width: 50%;}#sk-container-id-3 div.sk-parallel-item:last-child::after {align-self: flex-start;width: 50%;}#sk-container-id-3 div.sk-parallel-item:only-child::after {width: 0;}#sk-container-id-3 div.sk-dashed-wrapped {border: 1px dashed gray;margin: 0 0.4em 0.5em 0.4em;box-sizing: border-box;padding-bottom: 0.4em;background-color: white;}#sk-container-id-3 div.sk-label label {font-family: monospace;font-weight: bold;display: inline-block;line-height: 1.2em;}#sk-container-id-3 div.sk-label-container {text-align: center;}#sk-container-id-3 div.sk-container {/* jupyter's `normalize.less` sets `[hidden] { display: none; }` but bootstrap.min.css set `[hidden] { display: none !important; }` so we also need the `!important` here to be able to override the default hidden behavior on the sphinx rendered scikit-learn.org. See: https://github.com/scikit-learn/scikit-learn/issues/21755 */display: inline-block !important;position: relative;}#sk-container-id-3 div.sk-text-repr-fallback {display: none;}</style><div id=\"sk-container-id-3\" class=\"sk-top-container\"><div class=\"sk-text-repr-fallback\"><pre>SVC()</pre><b>In a Jupyter environment, please rerun this cell to show the HTML representation or trust the notebook. <br />On GitHub, the HTML representation is unable to render, please try loading this page with nbviewer.org.</b></div><div class=\"sk-container\" hidden><div class=\"sk-item\"><div class=\"sk-estimator sk-toggleable\"><input class=\"sk-toggleable__control sk-hidden--visually\" id=\"sk-estimator-id-3\" type=\"checkbox\" checked><label for=\"sk-estimator-id-3\" class=\"sk-toggleable__label sk-toggleable__label-arrow\">SVC</label><div class=\"sk-toggleable__content\"><pre>SVC()</pre></div></div></div></div></div>"
            ]
          },
          "metadata": {},
          "execution_count": 28
        }
      ]
    },
    {
      "cell_type": "markdown",
      "source": [
        "###  Test the first mod by test data"
      ],
      "metadata": {
        "id": "6ZrTPp0sP_Fw"
      }
    },
    {
      "cell_type": "code",
      "source": [
        "def test_the_md(md):\n",
        "  offen_LAN_TS_in= offen_LAN_TS['tweet']\n",
        "  offen_LAN_TS_in= TFIdf(offen_LAN_TS_in)\n",
        "  offen_LAN_TS_ot= offen_LAN_TS['label']\n",
        "\n",
        "  offen_LAN_pdr = md.predict(offen_LAN_TS_in)\n",
        "  print(offen_LANcsf(offen_LAN_pdr, offen_LAN_TS_ot))\n",
        "\n",
        "  cmm = offen_LANoncf(offen_LAN_pdr, offen_LAN_TS_ot)\n",
        "  cmm_p=offen_LANtrm.ConfusionMatrixDisplay(confusion_matrix = cmm, display_labels = ['NOT', 'OFF'])\n",
        "  cmm_p.plot()\n",
        "\n",
        "  offen_LAN_TS['out_label']=offen_LANpa.DataFrame(offen_LAN_pdr)\n",
        "  display(offen_LAN_TS)"
      ],
      "metadata": {
        "id": "0egit71z39MU"
      },
      "execution_count": 29,
      "outputs": []
    },
    {
      "cell_type": "code",
      "source": [
        "test_the_md(first_mod)"
      ],
      "metadata": {
        "colab": {
          "base_uri": "https://localhost:8080/",
          "height": 1000
        },
        "id": "4hzDh1FuFTH9",
        "outputId": "74b0b5ea-9c97-416e-da98-6b210a3d55b9"
      },
      "execution_count": 30,
      "outputs": [
        {
          "output_type": "stream",
          "name": "stdout",
          "text": [
            "              precision    recall  f1-score   support\n",
            "\n",
            "         NOT       0.99      0.73      0.84       843\n",
            "         OFF       0.05      0.71      0.09        17\n",
            "\n",
            "    accuracy                           0.73       860\n",
            "   macro avg       0.52      0.72      0.47       860\n",
            "weighted avg       0.97      0.73      0.83       860\n",
            "\n"
          ]
        },
        {
          "output_type": "display_data",
          "data": {
            "text/plain": [
              "        id                                              tweet label out_label\n",
              "0    15923  #WhoIsQ #WheresTheServer #DumpNike #DECLASFISA...   OFF       NOT\n",
              "1    27014  #ConstitutionDay is revered by Conservatives, ...   NOT       NOT\n",
              "2    30530  #FOXNews #NRA #MAGA #POTUS #TRUMP #2ndAmendmen...   NOT       NOT\n",
              "3    13876  #Watching #Boomer getting the news that she is...   NOT       NOT\n",
              "4    60133  #NoPasaran: Unity demo to oppose the far-right...   OFF       NOT\n",
              "..     ...                                                ...   ...       ...\n",
              "855  73439  #DespicableDems lie again about rifles. Dem Di...   OFF       NOT\n",
              "856  25657  #MeetTheSpeakers 🙌 @USER will present in our e...   NOT       NOT\n",
              "857  67018  3 people just unfollowed me for talking about ...   OFF       NOT\n",
              "858  50665  #WednesdayWisdom Antifa calls the right fascis...   NOT       NOT\n",
              "859  24583      #Kavanaugh typical #liberals , #Democrats URL   NOT       NOT\n",
              "\n",
              "[860 rows x 4 columns]"
            ],
            "text/html": [
              "\n",
              "  <div id=\"df-7c5b3e1c-e69c-42c8-b67f-baca3b992280\">\n",
              "    <div class=\"colab-df-container\">\n",
              "      <div>\n",
              "<style scoped>\n",
              "    .dataframe tbody tr th:only-of-type {\n",
              "        vertical-align: middle;\n",
              "    }\n",
              "\n",
              "    .dataframe tbody tr th {\n",
              "        vertical-align: top;\n",
              "    }\n",
              "\n",
              "    .dataframe thead th {\n",
              "        text-align: right;\n",
              "    }\n",
              "</style>\n",
              "<table border=\"1\" class=\"dataframe\">\n",
              "  <thead>\n",
              "    <tr style=\"text-align: right;\">\n",
              "      <th></th>\n",
              "      <th>id</th>\n",
              "      <th>tweet</th>\n",
              "      <th>label</th>\n",
              "      <th>out_label</th>\n",
              "    </tr>\n",
              "  </thead>\n",
              "  <tbody>\n",
              "    <tr>\n",
              "      <th>0</th>\n",
              "      <td>15923</td>\n",
              "      <td>#WhoIsQ #WheresTheServer #DumpNike #DECLASFISA...</td>\n",
              "      <td>OFF</td>\n",
              "      <td>NOT</td>\n",
              "    </tr>\n",
              "    <tr>\n",
              "      <th>1</th>\n",
              "      <td>27014</td>\n",
              "      <td>#ConstitutionDay is revered by Conservatives, ...</td>\n",
              "      <td>NOT</td>\n",
              "      <td>NOT</td>\n",
              "    </tr>\n",
              "    <tr>\n",
              "      <th>2</th>\n",
              "      <td>30530</td>\n",
              "      <td>#FOXNews #NRA #MAGA #POTUS #TRUMP #2ndAmendmen...</td>\n",
              "      <td>NOT</td>\n",
              "      <td>NOT</td>\n",
              "    </tr>\n",
              "    <tr>\n",
              "      <th>3</th>\n",
              "      <td>13876</td>\n",
              "      <td>#Watching #Boomer getting the news that she is...</td>\n",
              "      <td>NOT</td>\n",
              "      <td>NOT</td>\n",
              "    </tr>\n",
              "    <tr>\n",
              "      <th>4</th>\n",
              "      <td>60133</td>\n",
              "      <td>#NoPasaran: Unity demo to oppose the far-right...</td>\n",
              "      <td>OFF</td>\n",
              "      <td>NOT</td>\n",
              "    </tr>\n",
              "    <tr>\n",
              "      <th>...</th>\n",
              "      <td>...</td>\n",
              "      <td>...</td>\n",
              "      <td>...</td>\n",
              "      <td>...</td>\n",
              "    </tr>\n",
              "    <tr>\n",
              "      <th>855</th>\n",
              "      <td>73439</td>\n",
              "      <td>#DespicableDems lie again about rifles. Dem Di...</td>\n",
              "      <td>OFF</td>\n",
              "      <td>NOT</td>\n",
              "    </tr>\n",
              "    <tr>\n",
              "      <th>856</th>\n",
              "      <td>25657</td>\n",
              "      <td>#MeetTheSpeakers 🙌 @USER will present in our e...</td>\n",
              "      <td>NOT</td>\n",
              "      <td>NOT</td>\n",
              "    </tr>\n",
              "    <tr>\n",
              "      <th>857</th>\n",
              "      <td>67018</td>\n",
              "      <td>3 people just unfollowed me for talking about ...</td>\n",
              "      <td>OFF</td>\n",
              "      <td>NOT</td>\n",
              "    </tr>\n",
              "    <tr>\n",
              "      <th>858</th>\n",
              "      <td>50665</td>\n",
              "      <td>#WednesdayWisdom Antifa calls the right fascis...</td>\n",
              "      <td>NOT</td>\n",
              "      <td>NOT</td>\n",
              "    </tr>\n",
              "    <tr>\n",
              "      <th>859</th>\n",
              "      <td>24583</td>\n",
              "      <td>#Kavanaugh typical #liberals , #Democrats URL</td>\n",
              "      <td>NOT</td>\n",
              "      <td>NOT</td>\n",
              "    </tr>\n",
              "  </tbody>\n",
              "</table>\n",
              "<p>860 rows × 4 columns</p>\n",
              "</div>\n",
              "      <button class=\"colab-df-convert\" onclick=\"convertToInteractive('df-7c5b3e1c-e69c-42c8-b67f-baca3b992280')\"\n",
              "              title=\"Convert this dataframe to an interactive table.\"\n",
              "              style=\"display:none;\">\n",
              "        \n",
              "  <svg xmlns=\"http://www.w3.org/2000/svg\" height=\"24px\"viewBox=\"0 0 24 24\"\n",
              "       width=\"24px\">\n",
              "    <path d=\"M0 0h24v24H0V0z\" fill=\"none\"/>\n",
              "    <path d=\"M18.56 5.44l.94 2.06.94-2.06 2.06-.94-2.06-.94-.94-2.06-.94 2.06-2.06.94zm-11 1L8.5 8.5l.94-2.06 2.06-.94-2.06-.94L8.5 2.5l-.94 2.06-2.06.94zm10 10l.94 2.06.94-2.06 2.06-.94-2.06-.94-.94-2.06-.94 2.06-2.06.94z\"/><path d=\"M17.41 7.96l-1.37-1.37c-.4-.4-.92-.59-1.43-.59-.52 0-1.04.2-1.43.59L10.3 9.45l-7.72 7.72c-.78.78-.78 2.05 0 2.83L4 21.41c.39.39.9.59 1.41.59.51 0 1.02-.2 1.41-.59l7.78-7.78 2.81-2.81c.8-.78.8-2.07 0-2.86zM5.41 20L4 18.59l7.72-7.72 1.47 1.35L5.41 20z\"/>\n",
              "  </svg>\n",
              "      </button>\n",
              "      \n",
              "  <style>\n",
              "    .colab-df-container {\n",
              "      display:flex;\n",
              "      flex-wrap:wrap;\n",
              "      gap: 12px;\n",
              "    }\n",
              "\n",
              "    .colab-df-convert {\n",
              "      background-color: #E8F0FE;\n",
              "      border: none;\n",
              "      border-radius: 50%;\n",
              "      cursor: pointer;\n",
              "      display: none;\n",
              "      fill: #1967D2;\n",
              "      height: 32px;\n",
              "      padding: 0 0 0 0;\n",
              "      width: 32px;\n",
              "    }\n",
              "\n",
              "    .colab-df-convert:hover {\n",
              "      background-color: #E2EBFA;\n",
              "      box-shadow: 0px 1px 2px rgba(60, 64, 67, 0.3), 0px 1px 3px 1px rgba(60, 64, 67, 0.15);\n",
              "      fill: #174EA6;\n",
              "    }\n",
              "\n",
              "    [theme=dark] .colab-df-convert {\n",
              "      background-color: #3B4455;\n",
              "      fill: #D2E3FC;\n",
              "    }\n",
              "\n",
              "    [theme=dark] .colab-df-convert:hover {\n",
              "      background-color: #434B5C;\n",
              "      box-shadow: 0px 1px 3px 1px rgba(0, 0, 0, 0.15);\n",
              "      filter: drop-shadow(0px 1px 2px rgba(0, 0, 0, 0.3));\n",
              "      fill: #FFFFFF;\n",
              "    }\n",
              "  </style>\n",
              "\n",
              "      <script>\n",
              "        const buttonEl =\n",
              "          document.querySelector('#df-7c5b3e1c-e69c-42c8-b67f-baca3b992280 button.colab-df-convert');\n",
              "        buttonEl.style.display =\n",
              "          google.colab.kernel.accessAllowed ? 'block' : 'none';\n",
              "\n",
              "        async function convertToInteractive(key) {\n",
              "          const element = document.querySelector('#df-7c5b3e1c-e69c-42c8-b67f-baca3b992280');\n",
              "          const dataTable =\n",
              "            await google.colab.kernel.invokeFunction('convertToInteractive',\n",
              "                                                     [key], {});\n",
              "          if (!dataTable) return;\n",
              "\n",
              "          const docLinkHtml = 'Like what you see? Visit the ' +\n",
              "            '<a target=\"_blank\" href=https://colab.research.google.com/notebooks/data_table.ipynb>data table notebook</a>'\n",
              "            + ' to learn more about interactive tables.';\n",
              "          element.innerHTML = '';\n",
              "          dataTable['output_type'] = 'display_data';\n",
              "          await google.colab.output.renderOutput(dataTable, element);\n",
              "          const docLink = document.createElement('div');\n",
              "          docLink.innerHTML = docLinkHtml;\n",
              "          element.appendChild(docLink);\n",
              "        }\n",
              "      </script>\n",
              "    </div>\n",
              "  </div>\n",
              "  "
            ]
          },
          "metadata": {}
        },
        {
          "output_type": "display_data",
          "data": {
            "text/plain": [
              "<Figure size 640x480 with 2 Axes>"
            ],
            "image/png": "[encoded data removed]"
          },
          "metadata": {}
        }
      ]
    },
    {
      "cell_type": "markdown",
      "source": [
        "### Multinomial Logistic regression -First model"
      ],
      "metadata": {
        "id": "JC3dwnuYG4fv"
      }
    },
    {
      "cell_type": "code",
      "source": [
        "sec_mod = offen_LAN_lr(multi_class='multinomial') \n",
        "sec_mod.fit(offen_LAN_TR_in, offen_LAN_TR_ot)"
      ],
      "metadata": {
        "colab": {
          "base_uri": "https://localhost:8080/",
          "height": 74
        },
        "id": "OtCrc-nOenxW",
        "outputId": "cfba772c-ffe0-4b6a-9c8c-478306cb1946"
      },
      "execution_count": 31,
      "outputs": [
        {
          "output_type": "execute_result",
          "data": {
            "text/plain": [
              "LogisticRegression(multi_class='multinomial')"
            ],
            "text/html": [
              "<style>#sk-container-id-4 {color: black;background-color: white;}#sk-container-id-4 pre{padding: 0;}#sk-container-id-4 div.sk-toggleable {background-color: white;}#sk-container-id-4 label.sk-toggleable__label {cursor: pointer;display: block;width: 100%;margin-bottom: 0;padding: 0.3em;box-sizing: border-box;text-align: center;}#sk-container-id-4 label.sk-toggleable__label-arrow:before {content: \"▸\";float: left;margin-right: 0.25em;color: #696969;}#sk-container-id-4 label.sk-toggleable__label-arrow:hover:before {color: black;}#sk-container-id-4 div.sk-estimator:hover label.sk-toggleable__label-arrow:before {color: black;}#sk-container-id-4 div.sk-toggleable__content {max-height: 0;max-width: 0;overflow: hidden;text-align: left;background-color: #f0f8ff;}#sk-container-id-4 div.sk-toggleable__content pre {margin: 0.2em;color: black;border-radius: 0.25em;background-color: #f0f8ff;}#sk-container-id-4 input.sk-toggleable__control:checked~div.sk-toggleable__content {max-height: 200px;max-width: 100%;overflow: auto;}#sk-container-id-4 input.sk-toggleable__control:checked~label.sk-toggleable__label-arrow:before {content: \"▾\";}#sk-container-id-4 div.sk-estimator input.sk-toggleable__control:checked~label.sk-toggleable__label {background-color: #d4ebff;}#sk-container-id-4 div.sk-label input.sk-toggleable__control:checked~label.sk-toggleable__label {background-color: #d4ebff;}#sk-container-id-4 input.sk-hidden--visually {border: 0;clip: rect(1px 1px 1px 1px);clip: rect(1px, 1px, 1px, 1px);height: 1px;margin: -1px;overflow: hidden;padding: 0;position: absolute;width: 1px;}#sk-container-id-4 div.sk-estimator {font-family: monospace;background-color: #f0f8ff;border: 1px dotted black;border-radius: 0.25em;box-sizing: border-box;margin-bottom: 0.5em;}#sk-container-id-4 div.sk-estimator:hover {background-color: #d4ebff;}#sk-container-id-4 div.sk-parallel-item::after {content: \"\";width: 100%;border-bottom: 1px solid gray;flex-grow: 1;}#sk-container-id-4 div.sk-label:hover label.sk-toggleable__label {background-color: #d4ebff;}#sk-container-id-4 div.sk-serial::before {content: \"\";position: absolute;border-left: 1px solid gray;box-sizing: border-box;top: 0;bottom: 0;left: 50%;z-index: 0;}#sk-container-id-4 div.sk-serial {display: flex;flex-direction: column;align-items: center;background-color: white;padding-right: 0.2em;padding-left: 0.2em;position: relative;}#sk-container-id-4 div.sk-item {position: relative;z-index: 1;}#sk-container-id-4 div.sk-parallel {display: flex;align-items: stretch;justify-content: center;background-color: white;position: relative;}#sk-container-id-4 div.sk-item::before, #sk-container-id-4 div.sk-parallel-item::before {content: \"\";position: absolute;border-left: 1px solid gray;box-sizing: border-box;top: 0;bottom: 0;left: 50%;z-index: -1;}#sk-container-id-4 div.sk-parallel-item {display: flex;flex-direction: column;z-index: 1;position: relative;background-color: white;}#sk-container-id-4 div.sk-parallel-item:first-child::after {align-self: flex-end;width: 50%;}#sk-container-id-4 div.sk-parallel-item:last-child::after {align-self: flex-start;width: 50%;}#sk-container-id-4 div.sk-parallel-item:only-child::after {width: 0;}#sk-container-id-4 div.sk-dashed-wrapped {border: 1px dashed gray;margin: 0 0.4em 0.5em 0.4em;box-sizing: border-box;padding-bottom: 0.4em;background-color: white;}#sk-container-id-4 div.sk-label label {font-family: monospace;font-weight: bold;display: inline-block;line-height: 1.2em;}#sk-container-id-4 div.sk-label-container {text-align: center;}#sk-container-id-4 div.sk-container {/* jupyter's `normalize.less` sets `[hidden] { display: none; }` but bootstrap.min.css set `[hidden] { display: none !important; }` so we also need the `!important` here to be able to override the default hidden behavior on the sphinx rendered scikit-learn.org. See: https://github.com/scikit-learn/scikit-learn/issues/21755 */display: inline-block !important;position: relative;}#sk-container-id-4 div.sk-text-repr-fallback {display: none;}</style><div id=\"sk-container-id-4\" class=\"sk-top-container\"><div class=\"sk-text-repr-fallback\"><pre>LogisticRegression(multi_class=&#x27;multinomial&#x27;)</pre><b>In a Jupyter environment, please rerun this cell to show the HTML representation or trust the notebook. <br />On GitHub, the HTML representation is unable to render, please try loading this page with nbviewer.org.</b></div><div class=\"sk-container\" hidden><div class=\"sk-item\"><div class=\"sk-estimator sk-toggleable\"><input class=\"sk-toggleable__control sk-hidden--visually\" id=\"sk-estimator-id-4\" type=\"checkbox\" checked><label for=\"sk-estimator-id-4\" class=\"sk-toggleable__label sk-toggleable__label-arrow\">LogisticRegression</label><div class=\"sk-toggleable__content\"><pre>LogisticRegression(multi_class=&#x27;multinomial&#x27;)</pre></div></div></div></div></div>"
            ]
          },
          "metadata": {},
          "execution_count": 31
        }
      ]
    },
    {
      "cell_type": "code",
      "source": [
        "offen_LAN_pdr = sec_mod.predict(offen_LAN_VL_in)\n",
        "print(offen_LANcsf(offen_LAN_pdr, offen_LAN_VL_ot))\n",
        "\n",
        "cmm = offen_LANoncf(offen_LAN_pdr, offen_LAN_VL_ot)\n",
        "cmm_p=offen_LANtrm.ConfusionMatrixDisplay(confusion_matrix = cmm, display_labels = ['NOT', 'OFF'])\n",
        "cmm_p.plot()"
      ],
      "metadata": {
        "colab": {
          "base_uri": "https://localhost:8080/",
          "height": 623
        },
        "id": "7VQJr-WIen0K",
        "outputId": "f90256df-4233-4307-bde2-fcf4d954bcaa"
      },
      "execution_count": 32,
      "outputs": [
        {
          "output_type": "stream",
          "name": "stdout",
          "text": [
            "              precision    recall  f1-score   support\n",
            "\n",
            "         NOT       0.90      0.70      0.79       798\n",
            "         OFF       0.22      0.53      0.31       129\n",
            "\n",
            "    accuracy                           0.68       927\n",
            "   macro avg       0.56      0.61      0.55       927\n",
            "weighted avg       0.81      0.68      0.72       927\n",
            "\n"
          ]
        },
        {
          "output_type": "execute_result",
          "data": {
            "text/plain": [
              "<sklearn.metrics._plot.confusion_matrix.ConfusionMatrixDisplay at 0x7f65628a8100>"
            ]
          },
          "metadata": {},
          "execution_count": 32
        },
        {
          "output_type": "display_data",
          "data": {
            "text/plain": [
              "<Figure size 640x480 with 2 Axes>"
            ],
            "image/png": "[encoded data removed]"
          },
          "metadata": {}
        }
      ]
    },
    {
      "cell_type": "markdown",
      "source": [
        "### Multinomial LR -second model hypertuning"
      ],
      "metadata": {
        "id": "mYYQV1i6FBXn"
      }
    },
    {
      "cell_type": "code",
      "source": [
        "sec_mod = offen_LAN_lr(multi_class='multinomial', solver='sag') \n",
        "sec_mod.fit(offen_LAN_TR_in, offen_LAN_TR_ot)\n",
        "\n",
        "offen_LAN_pdr = sec_mod.predict(offen_LAN_VL_in)\n",
        "print(offen_LANcsf(offen_LAN_pdr, offen_LAN_VL_ot))\n",
        "\n",
        "cmm = offen_LANoncf(offen_LAN_pdr, offen_LAN_VL_ot)\n",
        "cmm_p=offen_LANtrm.ConfusionMatrixDisplay(confusion_matrix = cmm, display_labels = ['NOT', 'OFF'])\n",
        "cmm_p.plot()"
      ],
      "metadata": {
        "colab": {
          "base_uri": "https://localhost:8080/",
          "height": 623
        },
        "id": "V66AS8uvE9Gp",
        "outputId": "3d69781e-a5ed-40cb-a7a5-d0a9464b0653"
      },
      "execution_count": 33,
      "outputs": [
        {
          "output_type": "stream",
          "name": "stdout",
          "text": [
            "              precision    recall  f1-score   support\n",
            "\n",
            "         NOT       0.90      0.70      0.79       798\n",
            "         OFF       0.22      0.53      0.31       129\n",
            "\n",
            "    accuracy                           0.68       927\n",
            "   macro avg       0.56      0.61      0.55       927\n",
            "weighted avg       0.81      0.68      0.72       927\n",
            "\n"
          ]
        },
        {
          "output_type": "execute_result",
          "data": {
            "text/plain": [
              "<sklearn.metrics._plot.confusion_matrix.ConfusionMatrixDisplay at 0x7f6563388fd0>"
            ]
          },
          "metadata": {},
          "execution_count": 33
        },
        {
          "output_type": "display_data",
          "data": {
            "text/plain": [
              "<Figure size 640x480 with 2 Axes>"
            ],
            "image/png": "[encoded data removed]"
          },
          "metadata": {}
        }
      ]
    },
    {
      "cell_type": "code",
      "source": [
        "sec_mod = offen_LAN_lr(multi_class='multinomial', solver='saga') \n",
        "sec_mod.fit(offen_LAN_TR_in, offen_LAN_TR_ot)\n",
        "\n",
        "offen_LAN_pdr = sec_mod.predict(offen_LAN_VL_in)\n",
        "print(offen_LANcsf(offen_LAN_pdr, offen_LAN_VL_ot))\n",
        "\n",
        "cmm = offen_LANoncf(offen_LAN_pdr, offen_LAN_VL_ot)\n",
        "cmm_p=offen_LANtrm.ConfusionMatrixDisplay(confusion_matrix = cmm, display_labels = ['NOT', 'OFF'])\n",
        "cmm_p.plot()"
      ],
      "metadata": {
        "colab": {
          "base_uri": "https://localhost:8080/",
          "height": 623
        },
        "id": "jYfd2Y55E9KF",
        "outputId": "0d30c842-d9a9-4d8e-ab64-7dd1269a2ac2"
      },
      "execution_count": 34,
      "outputs": [
        {
          "output_type": "stream",
          "name": "stdout",
          "text": [
            "              precision    recall  f1-score   support\n",
            "\n",
            "         NOT       0.90      0.70      0.79       798\n",
            "         OFF       0.22      0.53      0.31       129\n",
            "\n",
            "    accuracy                           0.68       927\n",
            "   macro avg       0.56      0.61      0.55       927\n",
            "weighted avg       0.81      0.68      0.72       927\n",
            "\n"
          ]
        },
        {
          "output_type": "execute_result",
          "data": {
            "text/plain": [
              "<sklearn.metrics._plot.confusion_matrix.ConfusionMatrixDisplay at 0x7f6562ea7dc0>"
            ]
          },
          "metadata": {},
          "execution_count": 34
        },
        {
          "output_type": "display_data",
          "data": {
            "text/plain": [
              "<Figure size 640x480 with 2 Axes>"
            ],
            "image/png": "[encoded data removed]"
          },
          "metadata": {}
        }
      ]
    },
    {
      "cell_type": "code",
      "source": [
        "# this is the multinomial Log Regr model\n",
        "sec_mod = offen_LAN_lr(multi_class='multinomial') \n",
        "sec_mod.fit(offen_LAN_TR_in, offen_LAN_TR_ot)"
      ],
      "metadata": {
        "colab": {
          "base_uri": "https://localhost:8080/",
          "height": 74
        },
        "id": "d0mcRmkEE9Rj",
        "outputId": "8ef3a471-300e-4b09-e796-55c42732c782"
      },
      "execution_count": 35,
      "outputs": [
        {
          "output_type": "execute_result",
          "data": {
            "text/plain": [
              "LogisticRegression(multi_class='multinomial')"
            ],
            "text/html": [
              "<style>#sk-container-id-5 {color: black;background-color: white;}#sk-container-id-5 pre{padding: 0;}#sk-container-id-5 div.sk-toggleable {background-color: white;}#sk-container-id-5 label.sk-toggleable__label {cursor: pointer;display: block;width: 100%;margin-bottom: 0;padding: 0.3em;box-sizing: border-box;text-align: center;}#sk-container-id-5 label.sk-toggleable__label-arrow:before {content: \"▸\";float: left;margin-right: 0.25em;color: #696969;}#sk-container-id-5 label.sk-toggleable__label-arrow:hover:before {color: black;}#sk-container-id-5 div.sk-estimator:hover label.sk-toggleable__label-arrow:before {color: black;}#sk-container-id-5 div.sk-toggleable__content {max-height: 0;max-width: 0;overflow: hidden;text-align: left;background-color: #f0f8ff;}#sk-container-id-5 div.sk-toggleable__content pre {margin: 0.2em;color: black;border-radius: 0.25em;background-color: #f0f8ff;}#sk-container-id-5 input.sk-toggleable__control:checked~div.sk-toggleable__content {max-height: 200px;max-width: 100%;overflow: auto;}#sk-container-id-5 input.sk-toggleable__control:checked~label.sk-toggleable__label-arrow:before {content: \"▾\";}#sk-container-id-5 div.sk-estimator input.sk-toggleable__control:checked~label.sk-toggleable__label {background-color: #d4ebff;}#sk-container-id-5 div.sk-label input.sk-toggleable__control:checked~label.sk-toggleable__label {background-color: #d4ebff;}#sk-container-id-5 input.sk-hidden--visually {border: 0;clip: rect(1px 1px 1px 1px);clip: rect(1px, 1px, 1px, 1px);height: 1px;margin: -1px;overflow: hidden;padding: 0;position: absolute;width: 1px;}#sk-container-id-5 div.sk-estimator {font-family: monospace;background-color: #f0f8ff;border: 1px dotted black;border-radius: 0.25em;box-sizing: border-box;margin-bottom: 0.5em;}#sk-container-id-5 div.sk-estimator:hover {background-color: #d4ebff;}#sk-container-id-5 div.sk-parallel-item::after {content: \"\";width: 100%;border-bottom: 1px solid gray;flex-grow: 1;}#sk-container-id-5 div.sk-label:hover label.sk-toggleable__label {background-color: #d4ebff;}#sk-container-id-5 div.sk-serial::before {content: \"\";position: absolute;border-left: 1px solid gray;box-sizing: border-box;top: 0;bottom: 0;left: 50%;z-index: 0;}#sk-container-id-5 div.sk-serial {display: flex;flex-direction: column;align-items: center;background-color: white;padding-right: 0.2em;padding-left: 0.2em;position: relative;}#sk-container-id-5 div.sk-item {position: relative;z-index: 1;}#sk-container-id-5 div.sk-parallel {display: flex;align-items: stretch;justify-content: center;background-color: white;position: relative;}#sk-container-id-5 div.sk-item::before, #sk-container-id-5 div.sk-parallel-item::before {content: \"\";position: absolute;border-left: 1px solid gray;box-sizing: border-box;top: 0;bottom: 0;left: 50%;z-index: -1;}#sk-container-id-5 div.sk-parallel-item {display: flex;flex-direction: column;z-index: 1;position: relative;background-color: white;}#sk-container-id-5 div.sk-parallel-item:first-child::after {align-self: flex-end;width: 50%;}#sk-container-id-5 div.sk-parallel-item:last-child::after {align-self: flex-start;width: 50%;}#sk-container-id-5 div.sk-parallel-item:only-child::after {width: 0;}#sk-container-id-5 div.sk-dashed-wrapped {border: 1px dashed gray;margin: 0 0.4em 0.5em 0.4em;box-sizing: border-box;padding-bottom: 0.4em;background-color: white;}#sk-container-id-5 div.sk-label label {font-family: monospace;font-weight: bold;display: inline-block;line-height: 1.2em;}#sk-container-id-5 div.sk-label-container {text-align: center;}#sk-container-id-5 div.sk-container {/* jupyter's `normalize.less` sets `[hidden] { display: none; }` but bootstrap.min.css set `[hidden] { display: none !important; }` so we also need the `!important` here to be able to override the default hidden behavior on the sphinx rendered scikit-learn.org. See: https://github.com/scikit-learn/scikit-learn/issues/21755 */display: inline-block !important;position: relative;}#sk-container-id-5 div.sk-text-repr-fallback {display: none;}</style><div id=\"sk-container-id-5\" class=\"sk-top-container\"><div class=\"sk-text-repr-fallback\"><pre>LogisticRegression(multi_class=&#x27;multinomial&#x27;)</pre><b>In a Jupyter environment, please rerun this cell to show the HTML representation or trust the notebook. <br />On GitHub, the HTML representation is unable to render, please try loading this page with nbviewer.org.</b></div><div class=\"sk-container\" hidden><div class=\"sk-item\"><div class=\"sk-estimator sk-toggleable\"><input class=\"sk-toggleable__control sk-hidden--visually\" id=\"sk-estimator-id-5\" type=\"checkbox\" checked><label for=\"sk-estimator-id-5\" class=\"sk-toggleable__label sk-toggleable__label-arrow\">LogisticRegression</label><div class=\"sk-toggleable__content\"><pre>LogisticRegression(multi_class=&#x27;multinomial&#x27;)</pre></div></div></div></div></div>"
            ]
          },
          "metadata": {},
          "execution_count": 35
        }
      ]
    },
    {
      "cell_type": "markdown",
      "source": [
        "###  Test the second mod by test data"
      ],
      "metadata": {
        "id": "v13Sif_bJxYw"
      }
    },
    {
      "cell_type": "code",
      "source": [
        "test_the_md(sec_mod)"
      ],
      "metadata": {
        "colab": {
          "base_uri": "https://localhost:8080/",
          "height": 1000
        },
        "id": "8R2DAdnqG1e6",
        "outputId": "c2237049-abc9-4b3b-e498-7a7ce30a0ae8"
      },
      "execution_count": 36,
      "outputs": [
        {
          "output_type": "stream",
          "name": "stdout",
          "text": [
            "              precision    recall  f1-score   support\n",
            "\n",
            "         NOT       0.86      0.74      0.79       721\n",
            "         OFF       0.22      0.37      0.27       139\n",
            "\n",
            "    accuracy                           0.68       860\n",
            "   macro avg       0.54      0.56      0.53       860\n",
            "weighted avg       0.76      0.68      0.71       860\n",
            "\n"
          ]
        },
        {
          "output_type": "display_data",
          "data": {
            "text/plain": [
              "        id                                              tweet label out_label\n",
              "0    15923  #WhoIsQ #WheresTheServer #DumpNike #DECLASFISA...   OFF       NOT\n",
              "1    27014  #ConstitutionDay is revered by Conservatives, ...   NOT       NOT\n",
              "2    30530  #FOXNews #NRA #MAGA #POTUS #TRUMP #2ndAmendmen...   NOT       NOT\n",
              "3    13876  #Watching #Boomer getting the news that she is...   NOT       NOT\n",
              "4    60133  #NoPasaran: Unity demo to oppose the far-right...   OFF       NOT\n",
              "..     ...                                                ...   ...       ...\n",
              "855  73439  #DespicableDems lie again about rifles. Dem Di...   OFF       NOT\n",
              "856  25657  #MeetTheSpeakers 🙌 @USER will present in our e...   NOT       NOT\n",
              "857  67018  3 people just unfollowed me for talking about ...   OFF       NOT\n",
              "858  50665  #WednesdayWisdom Antifa calls the right fascis...   NOT       NOT\n",
              "859  24583      #Kavanaugh typical #liberals , #Democrats URL   NOT       NOT\n",
              "\n",
              "[860 rows x 4 columns]"
            ],
            "text/html": [
              "\n",
              "  <div id=\"df-bed6a510-079c-4540-896e-98d8c53b7468\">\n",
              "    <div class=\"colab-df-container\">\n",
              "      <div>\n",
              "<style scoped>\n",
              "    .dataframe tbody tr th:only-of-type {\n",
              "        vertical-align: middle;\n",
              "    }\n",
              "\n",
              "    .dataframe tbody tr th {\n",
              "        vertical-align: top;\n",
              "    }\n",
              "\n",
              "    .dataframe thead th {\n",
              "        text-align: right;\n",
              "    }\n",
              "</style>\n",
              "<table border=\"1\" class=\"dataframe\">\n",
              "  <thead>\n",
              "    <tr style=\"text-align: right;\">\n",
              "      <th></th>\n",
              "      <th>id</th>\n",
              "      <th>tweet</th>\n",
              "      <th>label</th>\n",
              "      <th>out_label</th>\n",
              "    </tr>\n",
              "  </thead>\n",
              "  <tbody>\n",
              "    <tr>\n",
              "      <th>0</th>\n",
              "      <td>15923</td>\n",
              "      <td>#WhoIsQ #WheresTheServer #DumpNike #DECLASFISA...</td>\n",
              "      <td>OFF</td>\n",
              "      <td>NOT</td>\n",
              "    </tr>\n",
              "    <tr>\n",
              "      <th>1</th>\n",
              "      <td>27014</td>\n",
              "      <td>#ConstitutionDay is revered by Conservatives, ...</td>\n",
              "      <td>NOT</td>\n",
              "      <td>NOT</td>\n",
              "    </tr>\n",
              "    <tr>\n",
              "      <th>2</th>\n",
              "      <td>30530</td>\n",
              "      <td>#FOXNews #NRA #MAGA #POTUS #TRUMP #2ndAmendmen...</td>\n",
              "      <td>NOT</td>\n",
              "      <td>NOT</td>\n",
              "    </tr>\n",
              "    <tr>\n",
              "      <th>3</th>\n",
              "      <td>13876</td>\n",
              "      <td>#Watching #Boomer getting the news that she is...</td>\n",
              "      <td>NOT</td>\n",
              "      <td>NOT</td>\n",
              "    </tr>\n",
              "    <tr>\n",
              "      <th>4</th>\n",
              "      <td>60133</td>\n",
              "      <td>#NoPasaran: Unity demo to oppose the far-right...</td>\n",
              "      <td>OFF</td>\n",
              "      <td>NOT</td>\n",
              "    </tr>\n",
              "    <tr>\n",
              "      <th>...</th>\n",
              "      <td>...</td>\n",
              "      <td>...</td>\n",
              "      <td>...</td>\n",
              "      <td>...</td>\n",
              "    </tr>\n",
              "    <tr>\n",
              "      <th>855</th>\n",
              "      <td>73439</td>\n",
              "      <td>#DespicableDems lie again about rifles. Dem Di...</td>\n",
              "      <td>OFF</td>\n",
              "      <td>NOT</td>\n",
              "    </tr>\n",
              "    <tr>\n",
              "      <th>856</th>\n",
              "      <td>25657</td>\n",
              "      <td>#MeetTheSpeakers 🙌 @USER will present in our e...</td>\n",
              "      <td>NOT</td>\n",
              "      <td>NOT</td>\n",
              "    </tr>\n",
              "    <tr>\n",
              "      <th>857</th>\n",
              "      <td>67018</td>\n",
              "      <td>3 people just unfollowed me for talking about ...</td>\n",
              "      <td>OFF</td>\n",
              "      <td>NOT</td>\n",
              "    </tr>\n",
              "    <tr>\n",
              "      <th>858</th>\n",
              "      <td>50665</td>\n",
              "      <td>#WednesdayWisdom Antifa calls the right fascis...</td>\n",
              "      <td>NOT</td>\n",
              "      <td>NOT</td>\n",
              "    </tr>\n",
              "    <tr>\n",
              "      <th>859</th>\n",
              "      <td>24583</td>\n",
              "      <td>#Kavanaugh typical #liberals , #Democrats URL</td>\n",
              "      <td>NOT</td>\n",
              "      <td>NOT</td>\n",
              "    </tr>\n",
              "  </tbody>\n",
              "</table>\n",
              "<p>860 rows × 4 columns</p>\n",
              "</div>\n",
              "      <button class=\"colab-df-convert\" onclick=\"convertToInteractive('df-bed6a510-079c-4540-896e-98d8c53b7468')\"\n",
              "              title=\"Convert this dataframe to an interactive table.\"\n",
              "              style=\"display:none;\">\n",
              "        \n",
              "  <svg xmlns=\"http://www.w3.org/2000/svg\" height=\"24px\"viewBox=\"0 0 24 24\"\n",
              "       width=\"24px\">\n",
              "    <path d=\"M0 0h24v24H0V0z\" fill=\"none\"/>\n",
              "    <path d=\"M18.56 5.44l.94 2.06.94-2.06 2.06-.94-2.06-.94-.94-2.06-.94 2.06-2.06.94zm-11 1L8.5 8.5l.94-2.06 2.06-.94-2.06-.94L8.5 2.5l-.94 2.06-2.06.94zm10 10l.94 2.06.94-2.06 2.06-.94-2.06-.94-.94-2.06-.94 2.06-2.06.94z\"/><path d=\"M17.41 7.96l-1.37-1.37c-.4-.4-.92-.59-1.43-.59-.52 0-1.04.2-1.43.59L10.3 9.45l-7.72 7.72c-.78.78-.78 2.05 0 2.83L4 21.41c.39.39.9.59 1.41.59.51 0 1.02-.2 1.41-.59l7.78-7.78 2.81-2.81c.8-.78.8-2.07 0-2.86zM5.41 20L4 18.59l7.72-7.72 1.47 1.35L5.41 20z\"/>\n",
              "  </svg>\n",
              "      </button>\n",
              "      \n",
              "  <style>\n",
              "    .colab-df-container {\n",
              "      display:flex;\n",
              "      flex-wrap:wrap;\n",
              "      gap: 12px;\n",
              "    }\n",
              "\n",
              "    .colab-df-convert {\n",
              "      background-color: #E8F0FE;\n",
              "      border: none;\n",
              "      border-radius: 50%;\n",
              "      cursor: pointer;\n",
              "      display: none;\n",
              "      fill: #1967D2;\n",
              "      height: 32px;\n",
              "      padding: 0 0 0 0;\n",
              "      width: 32px;\n",
              "    }\n",
              "\n",
              "    .colab-df-convert:hover {\n",
              "      background-color: #E2EBFA;\n",
              "      box-shadow: 0px 1px 2px rgba(60, 64, 67, 0.3), 0px 1px 3px 1px rgba(60, 64, 67, 0.15);\n",
              "      fill: #174EA6;\n",
              "    }\n",
              "\n",
              "    [theme=dark] .colab-df-convert {\n",
              "      background-color: #3B4455;\n",
              "      fill: #D2E3FC;\n",
              "    }\n",
              "\n",
              "    [theme=dark] .colab-df-convert:hover {\n",
              "      background-color: #434B5C;\n",
              "      box-shadow: 0px 1px 3px 1px rgba(0, 0, 0, 0.15);\n",
              "      filter: drop-shadow(0px 1px 2px rgba(0, 0, 0, 0.3));\n",
              "      fill: #FFFFFF;\n",
              "    }\n",
              "  </style>\n",
              "\n",
              "      <script>\n",
              "        const buttonEl =\n",
              "          document.querySelector('#df-bed6a510-079c-4540-896e-98d8c53b7468 button.colab-df-convert');\n",
              "        buttonEl.style.display =\n",
              "          google.colab.kernel.accessAllowed ? 'block' : 'none';\n",
              "\n",
              "        async function convertToInteractive(key) {\n",
              "          const element = document.querySelector('#df-bed6a510-079c-4540-896e-98d8c53b7468');\n",
              "          const dataTable =\n",
              "            await google.colab.kernel.invokeFunction('convertToInteractive',\n",
              "                                                     [key], {});\n",
              "          if (!dataTable) return;\n",
              "\n",
              "          const docLinkHtml = 'Like what you see? Visit the ' +\n",
              "            '<a target=\"_blank\" href=https://colab.research.google.com/notebooks/data_table.ipynb>data table notebook</a>'\n",
              "            + ' to learn more about interactive tables.';\n",
              "          element.innerHTML = '';\n",
              "          dataTable['output_type'] = 'display_data';\n",
              "          await google.colab.output.renderOutput(dataTable, element);\n",
              "          const docLink = document.createElement('div');\n",
              "          docLink.innerHTML = docLinkHtml;\n",
              "          element.appendChild(docLink);\n",
              "        }\n",
              "      </script>\n",
              "    </div>\n",
              "  </div>\n",
              "  "
            ]
          },
          "metadata": {}
        },
        {
          "output_type": "display_data",
          "data": {
            "text/plain": [
              "<Figure size 640x480 with 2 Axes>"
            ],
            "image/png": "[encoded data removed]"
          },
          "metadata": {}
        }
      ]
    },
    {
      "cell_type": "markdown",
      "source": [
        "### first and second model's function"
      ],
      "metadata": {
        "id": "QM8YDLv6TUoI"
      }
    },
    {
      "cell_type": "code",
      "source": [
        "#model for svm classifier\n",
        "def first_md(data):\n",
        "  offen_LAN_TR_in =data['tweet']\n",
        "  offen_LAN_TR_in = TFIdf(offen_LAN_TR_in)\n",
        "  offen_LAN_TR_ot =data['label']\n",
        "\n",
        "  first_mod= offen_LAN_sv() \n",
        "  first_mod.fit(offen_LAN_TR_in, offen_LAN_TR_ot)\n",
        "  test_the_md(first_mod)"
      ],
      "metadata": {
        "id": "8uO9awhNOMdv"
      },
      "execution_count": 37,
      "outputs": []
    },
    {
      "cell_type": "code",
      "source": [
        "#model for multinomial Log reg classifier\n",
        "def sec_md(data):\n",
        "  offen_LAN_TR_in =data['tweet']\n",
        "  offen_LAN_TR_in = TFIdf(offen_LAN_TR_in)\n",
        "  offen_LAN_TR_ot =data['label']\n",
        "\n",
        "  sec_mod = offen_LAN_lr(multi_class='multinomial') \n",
        "  sec_mod.fit(offen_LAN_TR_in, offen_LAN_TR_ot)\n",
        "  test_the_md(sec_mod)"
      ],
      "metadata": {
        "id": "faJWEPEURAUq"
      },
      "execution_count": 38,
      "outputs": []
    },
    {
      "cell_type": "markdown",
      "source": [
        "# **@@ TASK 3: Data Size Effect @@**"
      ],
      "metadata": {
        "id": "rVE-epsIF2dR"
      }
    },
    {
      "cell_type": "markdown",
      "source": [
        "## train tweet data into 4 size [25% & 50% & 75% & 100%]"
      ],
      "metadata": {
        "id": "fIDS7zMAigC5"
      }
    },
    {
      "cell_type": "markdown",
      "source": [
        "a) 25% train dataset"
      ],
      "metadata": {
        "id": "cwFmnYi6Te-y"
      }
    },
    {
      "cell_type": "code",
      "source": [
        "tr25 = offen_LANsli(offen_LAN_TR,  random_state=2202392, test_size=0.75) \n",
        "train_1= tr25[0]\n",
        "train_1.shape"
      ],
      "metadata": {
        "colab": {
          "base_uri": "https://localhost:8080/"
        },
        "id": "hio4SnGuKhEY",
        "outputId": "17018c19-0133-4da9-d56d-d4b1ecf7a57e"
      },
      "execution_count": 39,
      "outputs": [
        {
          "output_type": "execute_result",
          "data": {
            "text/plain": [
              "(3078, 3)"
            ]
          },
          "metadata": {},
          "execution_count": 39
        }
      ]
    },
    {
      "cell_type": "code",
      "source": [
        "offen_LAN_TR_in= TFIdf(train_1['tweet'])"
      ],
      "metadata": {
        "id": "IrOoP5_Zkbs8"
      },
      "execution_count": 40,
      "outputs": []
    },
    {
      "cell_type": "code",
      "source": [
        "first_md(train_1)\n",
        "offen_LANbbj.dump(first_mod, '/content/drive/MyDrive/CE807/Assignment 2/2202392/Models/1/25/model.sav')\n",
        "offen_LANbbj.dump(offen_LAN_TR_in, '/content/drive/MyDrive/CE807/Assignment 2/2202392/Models/1/25/vectorizer.sav')\n",
        "offen_LAN_TS.to_csv('/content/drive/MyDrive/CE807/Assignment 2/2202392/Models/1/25/output_test.csv', index=False)"
      ],
      "metadata": {
        "colab": {
          "base_uri": "https://localhost:8080/",
          "height": 1000
        },
        "id": "BrIXqCCbQ690",
        "outputId": "1da255df-efca-4275-c3e0-8e895d215042"
      },
      "execution_count": 41,
      "outputs": [
        {
          "output_type": "stream",
          "name": "stdout",
          "text": [
            "              precision    recall  f1-score   support\n",
            "\n",
            "         NOT       1.00      0.73      0.84       849\n",
            "         OFF       0.03      0.73      0.06        11\n",
            "\n",
            "    accuracy                           0.73       860\n",
            "   macro avg       0.51      0.73      0.45       860\n",
            "weighted avg       0.98      0.73      0.83       860\n",
            "\n"
          ]
        },
        {
          "output_type": "display_data",
          "data": {
            "text/plain": [
              "        id                                              tweet label out_label\n",
              "0    15923  #WhoIsQ #WheresTheServer #DumpNike #DECLASFISA...   OFF       NOT\n",
              "1    27014  #ConstitutionDay is revered by Conservatives, ...   NOT       NOT\n",
              "2    30530  #FOXNews #NRA #MAGA #POTUS #TRUMP #2ndAmendmen...   NOT       NOT\n",
              "3    13876  #Watching #Boomer getting the news that she is...   NOT       NOT\n",
              "4    60133  #NoPasaran: Unity demo to oppose the far-right...   OFF       NOT\n",
              "..     ...                                                ...   ...       ...\n",
              "855  73439  #DespicableDems lie again about rifles. Dem Di...   OFF       NOT\n",
              "856  25657  #MeetTheSpeakers 🙌 @USER will present in our e...   NOT       NOT\n",
              "857  67018  3 people just unfollowed me for talking about ...   OFF       NOT\n",
              "858  50665  #WednesdayWisdom Antifa calls the right fascis...   NOT       NOT\n",
              "859  24583      #Kavanaugh typical #liberals , #Democrats URL   NOT       NOT\n",
              "\n",
              "[860 rows x 4 columns]"
            ],
            "text/html": [
              "\n",
              "  <div id=\"df-c1c6ec9e-c198-46b1-8e29-559cf17a5015\">\n",
              "    <div class=\"colab-df-container\">\n",
              "      <div>\n",
              "<style scoped>\n",
              "    .dataframe tbody tr th:only-of-type {\n",
              "        vertical-align: middle;\n",
              "    }\n",
              "\n",
              "    .dataframe tbody tr th {\n",
              "        vertical-align: top;\n",
              "    }\n",
              "\n",
              "    .dataframe thead th {\n",
              "        text-align: right;\n",
              "    }\n",
              "</style>\n",
              "<table border=\"1\" class=\"dataframe\">\n",
              "  <thead>\n",
              "    <tr style=\"text-align: right;\">\n",
              "      <th></th>\n",
              "      <th>id</th>\n",
              "      <th>tweet</th>\n",
              "      <th>label</th>\n",
              "      <th>out_label</th>\n",
              "    </tr>\n",
              "  </thead>\n",
              "  <tbody>\n",
              "    <tr>\n",
              "      <th>0</th>\n",
              "      <td>15923</td>\n",
              "      <td>#WhoIsQ #WheresTheServer #DumpNike #DECLASFISA...</td>\n",
              "      <td>OFF</td>\n",
              "      <td>NOT</td>\n",
              "    </tr>\n",
              "    <tr>\n",
              "      <th>1</th>\n",
              "      <td>27014</td>\n",
              "      <td>#ConstitutionDay is revered by Conservatives, ...</td>\n",
              "      <td>NOT</td>\n",
              "      <td>NOT</td>\n",
              "    </tr>\n",
              "    <tr>\n",
              "      <th>2</th>\n",
              "      <td>30530</td>\n",
              "      <td>#FOXNews #NRA #MAGA #POTUS #TRUMP #2ndAmendmen...</td>\n",
              "      <td>NOT</td>\n",
              "      <td>NOT</td>\n",
              "    </tr>\n",
              "    <tr>\n",
              "      <th>3</th>\n",
              "      <td>13876</td>\n",
              "      <td>#Watching #Boomer getting the news that she is...</td>\n",
              "      <td>NOT</td>\n",
              "      <td>NOT</td>\n",
              "    </tr>\n",
              "    <tr>\n",
              "      <th>4</th>\n",
              "      <td>60133</td>\n",
              "      <td>#NoPasaran: Unity demo to oppose the far-right...</td>\n",
              "      <td>OFF</td>\n",
              "      <td>NOT</td>\n",
              "    </tr>\n",
              "    <tr>\n",
              "      <th>...</th>\n",
              "      <td>...</td>\n",
              "      <td>...</td>\n",
              "      <td>...</td>\n",
              "      <td>...</td>\n",
              "    </tr>\n",
              "    <tr>\n",
              "      <th>855</th>\n",
              "      <td>73439</td>\n",
              "      <td>#DespicableDems lie again about rifles. Dem Di...</td>\n",
              "      <td>OFF</td>\n",
              "      <td>NOT</td>\n",
              "    </tr>\n",
              "    <tr>\n",
              "      <th>856</th>\n",
              "      <td>25657</td>\n",
              "      <td>#MeetTheSpeakers 🙌 @USER will present in our e...</td>\n",
              "      <td>NOT</td>\n",
              "      <td>NOT</td>\n",
              "    </tr>\n",
              "    <tr>\n",
              "      <th>857</th>\n",
              "      <td>67018</td>\n",
              "      <td>3 people just unfollowed me for talking about ...</td>\n",
              "      <td>OFF</td>\n",
              "      <td>NOT</td>\n",
              "    </tr>\n",
              "    <tr>\n",
              "      <th>858</th>\n",
              "      <td>50665</td>\n",
              "      <td>#WednesdayWisdom Antifa calls the right fascis...</td>\n",
              "      <td>NOT</td>\n",
              "      <td>NOT</td>\n",
              "    </tr>\n",
              "    <tr>\n",
              "      <th>859</th>\n",
              "      <td>24583</td>\n",
              "      <td>#Kavanaugh typical #liberals , #Democrats URL</td>\n",
              "      <td>NOT</td>\n",
              "      <td>NOT</td>\n",
              "    </tr>\n",
              "  </tbody>\n",
              "</table>\n",
              "<p>860 rows × 4 columns</p>\n",
              "</div>\n",
              "      <button class=\"colab-df-convert\" onclick=\"convertToInteractive('df-c1c6ec9e-c198-46b1-8e29-559cf17a5015')\"\n",
              "              title=\"Convert this dataframe to an interactive table.\"\n",
              "              style=\"display:none;\">\n",
              "        \n",
              "  <svg xmlns=\"http://www.w3.org/2000/svg\" height=\"24px\"viewBox=\"0 0 24 24\"\n",
              "       width=\"24px\">\n",
              "    <path d=\"M0 0h24v24H0V0z\" fill=\"none\"/>\n",
              "    <path d=\"M18.56 5.44l.94 2.06.94-2.06 2.06-.94-2.06-.94-.94-2.06-.94 2.06-2.06.94zm-11 1L8.5 8.5l.94-2.06 2.06-.94-2.06-.94L8.5 2.5l-.94 2.06-2.06.94zm10 10l.94 2.06.94-2.06 2.06-.94-2.06-.94-.94-2.06-.94 2.06-2.06.94z\"/><path d=\"M17.41 7.96l-1.37-1.37c-.4-.4-.92-.59-1.43-.59-.52 0-1.04.2-1.43.59L10.3 9.45l-7.72 7.72c-.78.78-.78 2.05 0 2.83L4 21.41c.39.39.9.59 1.41.59.51 0 1.02-.2 1.41-.59l7.78-7.78 2.81-2.81c.8-.78.8-2.07 0-2.86zM5.41 20L4 18.59l7.72-7.72 1.47 1.35L5.41 20z\"/>\n",
              "  </svg>\n",
              "      </button>\n",
              "      \n",
              "  <style>\n",
              "    .colab-df-container {\n",
              "      display:flex;\n",
              "      flex-wrap:wrap;\n",
              "      gap: 12px;\n",
              "    }\n",
              "\n",
              "    .colab-df-convert {\n",
              "      background-color: #E8F0FE;\n",
              "      border: none;\n",
              "      border-radius: 50%;\n",
              "      cursor: pointer;\n",
              "      display: none;\n",
              "      fill: #1967D2;\n",
              "      height: 32px;\n",
              "      padding: 0 0 0 0;\n",
              "      width: 32px;\n",
              "    }\n",
              "\n",
              "    .colab-df-convert:hover {\n",
              "      background-color: #E2EBFA;\n",
              "      box-shadow: 0px 1px 2px rgba(60, 64, 67, 0.3), 0px 1px 3px 1px rgba(60, 64, 67, 0.15);\n",
              "      fill: #174EA6;\n",
              "    }\n",
              "\n",
              "    [theme=dark] .colab-df-convert {\n",
              "      background-color: #3B4455;\n",
              "      fill: #D2E3FC;\n",
              "    }\n",
              "\n",
              "    [theme=dark] .colab-df-convert:hover {\n",
              "      background-color: #434B5C;\n",
              "      box-shadow: 0px 1px 3px 1px rgba(0, 0, 0, 0.15);\n",
              "      filter: drop-shadow(0px 1px 2px rgba(0, 0, 0, 0.3));\n",
              "      fill: #FFFFFF;\n",
              "    }\n",
              "  </style>\n",
              "\n",
              "      <script>\n",
              "        const buttonEl =\n",
              "          document.querySelector('#df-c1c6ec9e-c198-46b1-8e29-559cf17a5015 button.colab-df-convert');\n",
              "        buttonEl.style.display =\n",
              "          google.colab.kernel.accessAllowed ? 'block' : 'none';\n",
              "\n",
              "        async function convertToInteractive(key) {\n",
              "          const element = document.querySelector('#df-c1c6ec9e-c198-46b1-8e29-559cf17a5015');\n",
              "          const dataTable =\n",
              "            await google.colab.kernel.invokeFunction('convertToInteractive',\n",
              "                                                     [key], {});\n",
              "          if (!dataTable) return;\n",
              "\n",
              "          const docLinkHtml = 'Like what you see? Visit the ' +\n",
              "            '<a target=\"_blank\" href=https://colab.research.google.com/notebooks/data_table.ipynb>data table notebook</a>'\n",
              "            + ' to learn more about interactive tables.';\n",
              "          element.innerHTML = '';\n",
              "          dataTable['output_type'] = 'display_data';\n",
              "          await google.colab.output.renderOutput(dataTable, element);\n",
              "          const docLink = document.createElement('div');\n",
              "          docLink.innerHTML = docLinkHtml;\n",
              "          element.appendChild(docLink);\n",
              "        }\n",
              "      </script>\n",
              "    </div>\n",
              "  </div>\n",
              "  "
            ]
          },
          "metadata": {}
        },
        {
          "output_type": "display_data",
          "data": {
            "text/plain": [
              "<Figure size 640x480 with 2 Axes>"
            ],
            "image/png": "[encoded data removed]"
          },
          "metadata": {}
        }
      ]
    },
    {
      "cell_type": "code",
      "source": [
        "sec_md(train_1)\n",
        "offen_LANbbj.dump(sec_mod, '/content/drive/MyDrive/CE807/Assignment 2/2202392/Models/2/25/model.sav')\n",
        "offen_LANbbj.dump(offen_LAN_TR_in, '/content/drive/MyDrive/CE807/Assignment 2/2202392/Models/2/25/vectorizer.sav')\n",
        "offen_LAN_TS.to_csv('/content/drive/MyDrive/CE807/Assignment 2/2202392/Models/2/25/output_test.csv', index=False)"
      ],
      "metadata": {
        "colab": {
          "base_uri": "https://localhost:8080/",
          "height": 1000
        },
        "id": "PJmXj51YSGHn",
        "outputId": "53b3ecd7-bbe4-4a87-ad76-9f8e23cb426b"
      },
      "execution_count": 42,
      "outputs": [
        {
          "output_type": "stream",
          "name": "stdout",
          "text": [
            "              precision    recall  f1-score   support\n",
            "\n",
            "         NOT       0.82      0.75      0.78       673\n",
            "         OFF       0.30      0.39      0.34       187\n",
            "\n",
            "    accuracy                           0.67       860\n",
            "   macro avg       0.56      0.57      0.56       860\n",
            "weighted avg       0.70      0.67      0.69       860\n",
            "\n"
          ]
        },
        {
          "output_type": "display_data",
          "data": {
            "text/plain": [
              "        id                                              tweet label out_label\n",
              "0    15923  #WhoIsQ #WheresTheServer #DumpNike #DECLASFISA...   OFF       OFF\n",
              "1    27014  #ConstitutionDay is revered by Conservatives, ...   NOT       NOT\n",
              "2    30530  #FOXNews #NRA #MAGA #POTUS #TRUMP #2ndAmendmen...   NOT       NOT\n",
              "3    13876  #Watching #Boomer getting the news that she is...   NOT       NOT\n",
              "4    60133  #NoPasaran: Unity demo to oppose the far-right...   OFF       NOT\n",
              "..     ...                                                ...   ...       ...\n",
              "855  73439  #DespicableDems lie again about rifles. Dem Di...   OFF       NOT\n",
              "856  25657  #MeetTheSpeakers 🙌 @USER will present in our e...   NOT       NOT\n",
              "857  67018  3 people just unfollowed me for talking about ...   OFF       NOT\n",
              "858  50665  #WednesdayWisdom Antifa calls the right fascis...   NOT       NOT\n",
              "859  24583      #Kavanaugh typical #liberals , #Democrats URL   NOT       NOT\n",
              "\n",
              "[860 rows x 4 columns]"
            ],
            "text/html": [
              "\n",
              "  <div id=\"df-53659f91-3e33-4cca-9047-20c67d44cee3\">\n",
              "    <div class=\"colab-df-container\">\n",
              "      <div>\n",
              "<style scoped>\n",
              "    .dataframe tbody tr th:only-of-type {\n",
              "        vertical-align: middle;\n",
              "    }\n",
              "\n",
              "    .dataframe tbody tr th {\n",
              "        vertical-align: top;\n",
              "    }\n",
              "\n",
              "    .dataframe thead th {\n",
              "        text-align: right;\n",
              "    }\n",
              "</style>\n",
              "<table border=\"1\" class=\"dataframe\">\n",
              "  <thead>\n",
              "    <tr style=\"text-align: right;\">\n",
              "      <th></th>\n",
              "      <th>id</th>\n",
              "      <th>tweet</th>\n",
              "      <th>label</th>\n",
              "      <th>out_label</th>\n",
              "    </tr>\n",
              "  </thead>\n",
              "  <tbody>\n",
              "    <tr>\n",
              "      <th>0</th>\n",
              "      <td>15923</td>\n",
              "      <td>#WhoIsQ #WheresTheServer #DumpNike #DECLASFISA...</td>\n",
              "      <td>OFF</td>\n",
              "      <td>OFF</td>\n",
              "    </tr>\n",
              "    <tr>\n",
              "      <th>1</th>\n",
              "      <td>27014</td>\n",
              "      <td>#ConstitutionDay is revered by Conservatives, ...</td>\n",
              "      <td>NOT</td>\n",
              "      <td>NOT</td>\n",
              "    </tr>\n",
              "    <tr>\n",
              "      <th>2</th>\n",
              "      <td>30530</td>\n",
              "      <td>#FOXNews #NRA #MAGA #POTUS #TRUMP #2ndAmendmen...</td>\n",
              "      <td>NOT</td>\n",
              "      <td>NOT</td>\n",
              "    </tr>\n",
              "    <tr>\n",
              "      <th>3</th>\n",
              "      <td>13876</td>\n",
              "      <td>#Watching #Boomer getting the news that she is...</td>\n",
              "      <td>NOT</td>\n",
              "      <td>NOT</td>\n",
              "    </tr>\n",
              "    <tr>\n",
              "      <th>4</th>\n",
              "      <td>60133</td>\n",
              "      <td>#NoPasaran: Unity demo to oppose the far-right...</td>\n",
              "      <td>OFF</td>\n",
              "      <td>NOT</td>\n",
              "    </tr>\n",
              "    <tr>\n",
              "      <th>...</th>\n",
              "      <td>...</td>\n",
              "      <td>...</td>\n",
              "      <td>...</td>\n",
              "      <td>...</td>\n",
              "    </tr>\n",
              "    <tr>\n",
              "      <th>855</th>\n",
              "      <td>73439</td>\n",
              "      <td>#DespicableDems lie again about rifles. Dem Di...</td>\n",
              "      <td>OFF</td>\n",
              "      <td>NOT</td>\n",
              "    </tr>\n",
              "    <tr>\n",
              "      <th>856</th>\n",
              "      <td>25657</td>\n",
              "      <td>#MeetTheSpeakers 🙌 @USER will present in our e...</td>\n",
              "      <td>NOT</td>\n",
              "      <td>NOT</td>\n",
              "    </tr>\n",
              "    <tr>\n",
              "      <th>857</th>\n",
              "      <td>67018</td>\n",
              "      <td>3 people just unfollowed me for talking about ...</td>\n",
              "      <td>OFF</td>\n",
              "      <td>NOT</td>\n",
              "    </tr>\n",
              "    <tr>\n",
              "      <th>858</th>\n",
              "      <td>50665</td>\n",
              "      <td>#WednesdayWisdom Antifa calls the right fascis...</td>\n",
              "      <td>NOT</td>\n",
              "      <td>NOT</td>\n",
              "    </tr>\n",
              "    <tr>\n",
              "      <th>859</th>\n",
              "      <td>24583</td>\n",
              "      <td>#Kavanaugh typical #liberals , #Democrats URL</td>\n",
              "      <td>NOT</td>\n",
              "      <td>NOT</td>\n",
              "    </tr>\n",
              "  </tbody>\n",
              "</table>\n",
              "<p>860 rows × 4 columns</p>\n",
              "</div>\n",
              "      <button class=\"colab-df-convert\" onclick=\"convertToInteractive('df-53659f91-3e33-4cca-9047-20c67d44cee3')\"\n",
              "              title=\"Convert this dataframe to an interactive table.\"\n",
              "              style=\"display:none;\">\n",
              "        \n",
              "  <svg xmlns=\"http://www.w3.org/2000/svg\" height=\"24px\"viewBox=\"0 0 24 24\"\n",
              "       width=\"24px\">\n",
              "    <path d=\"M0 0h24v24H0V0z\" fill=\"none\"/>\n",
              "    <path d=\"M18.56 5.44l.94 2.06.94-2.06 2.06-.94-2.06-.94-.94-2.06-.94 2.06-2.06.94zm-11 1L8.5 8.5l.94-2.06 2.06-.94-2.06-.94L8.5 2.5l-.94 2.06-2.06.94zm10 10l.94 2.06.94-2.06 2.06-.94-2.06-.94-.94-2.06-.94 2.06-2.06.94z\"/><path d=\"M17.41 7.96l-1.37-1.37c-.4-.4-.92-.59-1.43-.59-.52 0-1.04.2-1.43.59L10.3 9.45l-7.72 7.72c-.78.78-.78 2.05 0 2.83L4 21.41c.39.39.9.59 1.41.59.51 0 1.02-.2 1.41-.59l7.78-7.78 2.81-2.81c.8-.78.8-2.07 0-2.86zM5.41 20L4 18.59l7.72-7.72 1.47 1.35L5.41 20z\"/>\n",
              "  </svg>\n",
              "      </button>\n",
              "      \n",
              "  <style>\n",
              "    .colab-df-container {\n",
              "      display:flex;\n",
              "      flex-wrap:wrap;\n",
              "      gap: 12px;\n",
              "    }\n",
              "\n",
              "    .colab-df-convert {\n",
              "      background-color: #E8F0FE;\n",
              "      border: none;\n",
              "      border-radius: 50%;\n",
              "      cursor: pointer;\n",
              "      display: none;\n",
              "      fill: #1967D2;\n",
              "      height: 32px;\n",
              "      padding: 0 0 0 0;\n",
              "      width: 32px;\n",
              "    }\n",
              "\n",
              "    .colab-df-convert:hover {\n",
              "      background-color: #E2EBFA;\n",
              "      box-shadow: 0px 1px 2px rgba(60, 64, 67, 0.3), 0px 1px 3px 1px rgba(60, 64, 67, 0.15);\n",
              "      fill: #174EA6;\n",
              "    }\n",
              "\n",
              "    [theme=dark] .colab-df-convert {\n",
              "      background-color: #3B4455;\n",
              "      fill: #D2E3FC;\n",
              "    }\n",
              "\n",
              "    [theme=dark] .colab-df-convert:hover {\n",
              "      background-color: #434B5C;\n",
              "      box-shadow: 0px 1px 3px 1px rgba(0, 0, 0, 0.15);\n",
              "      filter: drop-shadow(0px 1px 2px rgba(0, 0, 0, 0.3));\n",
              "      fill: #FFFFFF;\n",
              "    }\n",
              "  </style>\n",
              "\n",
              "      <script>\n",
              "        const buttonEl =\n",
              "          document.querySelector('#df-53659f91-3e33-4cca-9047-20c67d44cee3 button.colab-df-convert');\n",
              "        buttonEl.style.display =\n",
              "          google.colab.kernel.accessAllowed ? 'block' : 'none';\n",
              "\n",
              "        async function convertToInteractive(key) {\n",
              "          const element = document.querySelector('#df-53659f91-3e33-4cca-9047-20c67d44cee3');\n",
              "          const dataTable =\n",
              "            await google.colab.kernel.invokeFunction('convertToInteractive',\n",
              "                                                     [key], {});\n",
              "          if (!dataTable) return;\n",
              "\n",
              "          const docLinkHtml = 'Like what you see? Visit the ' +\n",
              "            '<a target=\"_blank\" href=https://colab.research.google.com/notebooks/data_table.ipynb>data table notebook</a>'\n",
              "            + ' to learn more about interactive tables.';\n",
              "          element.innerHTML = '';\n",
              "          dataTable['output_type'] = 'display_data';\n",
              "          await google.colab.output.renderOutput(dataTable, element);\n",
              "          const docLink = document.createElement('div');\n",
              "          docLink.innerHTML = docLinkHtml;\n",
              "          element.appendChild(docLink);\n",
              "        }\n",
              "      </script>\n",
              "    </div>\n",
              "  </div>\n",
              "  "
            ]
          },
          "metadata": {}
        },
        {
          "output_type": "display_data",
          "data": {
            "text/plain": [
              "<Figure size 640x480 with 2 Axes>"
            ],
            "image/png": "[encoded data removed]"
          },
          "metadata": {}
        }
      ]
    },
    {
      "cell_type": "markdown",
      "source": [
        "b) 50% train dataset"
      ],
      "metadata": {
        "id": "JFP98UT2TjK4"
      }
    },
    {
      "cell_type": "code",
      "source": [
        "tr50 = offen_LANsli(offen_LAN_TR,  random_state=2202392, test_size=0.50)\n",
        "train_2= tr50[0]\n",
        "train_2.shape"
      ],
      "metadata": {
        "colab": {
          "base_uri": "https://localhost:8080/"
        },
        "id": "dSS47hEdI9oZ",
        "outputId": "e45e84cd-9edf-4dfc-d707-bb91b8f3b0ce"
      },
      "execution_count": 43,
      "outputs": [
        {
          "output_type": "execute_result",
          "data": {
            "text/plain": [
              "(6156, 3)"
            ]
          },
          "metadata": {},
          "execution_count": 43
        }
      ]
    },
    {
      "cell_type": "code",
      "source": [
        "offen_LAN_TR_in= TFIdf(train_2['tweet'])"
      ],
      "metadata": {
        "id": "BaO2HgW_kje4"
      },
      "execution_count": 44,
      "outputs": []
    },
    {
      "cell_type": "code",
      "source": [
        "first_md(train_2)\n",
        "offen_LANbbj.dump(first_mod, '/content/drive/MyDrive/CE807/Assignment 2/2202392/Models/1/50/model.sav')\n",
        "offen_LANbbj.dump(offen_LAN_TR_in, '/content/drive/MyDrive/CE807/Assignment 2/2202392/Models/1/50/vectorizer.sav')\n",
        "offen_LAN_TS.to_csv('/content/drive/MyDrive/CE807/Assignment 2/2202392/Models/1/50/output_test.csv', index=False)"
      ],
      "metadata": {
        "colab": {
          "base_uri": "https://localhost:8080/",
          "height": 1000
        },
        "id": "QMtHtWd-ShVH",
        "outputId": "c2e5af9f-67d1-496f-826f-1c5e7b0ec368"
      },
      "execution_count": 45,
      "outputs": [
        {
          "output_type": "stream",
          "name": "stdout",
          "text": [
            "              precision    recall  f1-score   support\n",
            "\n",
            "         NOT       0.99      0.73      0.84       839\n",
            "         OFF       0.06      0.71      0.11        21\n",
            "\n",
            "    accuracy                           0.73       860\n",
            "   macro avg       0.53      0.72      0.48       860\n",
            "weighted avg       0.97      0.73      0.82       860\n",
            "\n"
          ]
        },
        {
          "output_type": "display_data",
          "data": {
            "text/plain": [
              "        id                                              tweet label out_label\n",
              "0    15923  #WhoIsQ #WheresTheServer #DumpNike #DECLASFISA...   OFF       NOT\n",
              "1    27014  #ConstitutionDay is revered by Conservatives, ...   NOT       NOT\n",
              "2    30530  #FOXNews #NRA #MAGA #POTUS #TRUMP #2ndAmendmen...   NOT       NOT\n",
              "3    13876  #Watching #Boomer getting the news that she is...   NOT       NOT\n",
              "4    60133  #NoPasaran: Unity demo to oppose the far-right...   OFF       NOT\n",
              "..     ...                                                ...   ...       ...\n",
              "855  73439  #DespicableDems lie again about rifles. Dem Di...   OFF       NOT\n",
              "856  25657  #MeetTheSpeakers 🙌 @USER will present in our e...   NOT       NOT\n",
              "857  67018  3 people just unfollowed me for talking about ...   OFF       NOT\n",
              "858  50665  #WednesdayWisdom Antifa calls the right fascis...   NOT       NOT\n",
              "859  24583      #Kavanaugh typical #liberals , #Democrats URL   NOT       NOT\n",
              "\n",
              "[860 rows x 4 columns]"
            ],
            "text/html": [
              "\n",
              "  <div id=\"df-86bb8dc7-fb7f-4d1d-b3bc-9ded8cead4e3\">\n",
              "    <div class=\"colab-df-container\">\n",
              "      <div>\n",
              "<style scoped>\n",
              "    .dataframe tbody tr th:only-of-type {\n",
              "        vertical-align: middle;\n",
              "    }\n",
              "\n",
              "    .dataframe tbody tr th {\n",
              "        vertical-align: top;\n",
              "    }\n",
              "\n",
              "    .dataframe thead th {\n",
              "        text-align: right;\n",
              "    }\n",
              "</style>\n",
              "<table border=\"1\" class=\"dataframe\">\n",
              "  <thead>\n",
              "    <tr style=\"text-align: right;\">\n",
              "      <th></th>\n",
              "      <th>id</th>\n",
              "      <th>tweet</th>\n",
              "      <th>label</th>\n",
              "      <th>out_label</th>\n",
              "    </tr>\n",
              "  </thead>\n",
              "  <tbody>\n",
              "    <tr>\n",
              "      <th>0</th>\n",
              "      <td>15923</td>\n",
              "      <td>#WhoIsQ #WheresTheServer #DumpNike #DECLASFISA...</td>\n",
              "      <td>OFF</td>\n",
              "      <td>NOT</td>\n",
              "    </tr>\n",
              "    <tr>\n",
              "      <th>1</th>\n",
              "      <td>27014</td>\n",
              "      <td>#ConstitutionDay is revered by Conservatives, ...</td>\n",
              "      <td>NOT</td>\n",
              "      <td>NOT</td>\n",
              "    </tr>\n",
              "    <tr>\n",
              "      <th>2</th>\n",
              "      <td>30530</td>\n",
              "      <td>#FOXNews #NRA #MAGA #POTUS #TRUMP #2ndAmendmen...</td>\n",
              "      <td>NOT</td>\n",
              "      <td>NOT</td>\n",
              "    </tr>\n",
              "    <tr>\n",
              "      <th>3</th>\n",
              "      <td>13876</td>\n",
              "      <td>#Watching #Boomer getting the news that she is...</td>\n",
              "      <td>NOT</td>\n",
              "      <td>NOT</td>\n",
              "    </tr>\n",
              "    <tr>\n",
              "      <th>4</th>\n",
              "      <td>60133</td>\n",
              "      <td>#NoPasaran: Unity demo to oppose the far-right...</td>\n",
              "      <td>OFF</td>\n",
              "      <td>NOT</td>\n",
              "    </tr>\n",
              "    <tr>\n",
              "      <th>...</th>\n",
              "      <td>...</td>\n",
              "      <td>...</td>\n",
              "      <td>...</td>\n",
              "      <td>...</td>\n",
              "    </tr>\n",
              "    <tr>\n",
              "      <th>855</th>\n",
              "      <td>73439</td>\n",
              "      <td>#DespicableDems lie again about rifles. Dem Di...</td>\n",
              "      <td>OFF</td>\n",
              "      <td>NOT</td>\n",
              "    </tr>\n",
              "    <tr>\n",
              "      <th>856</th>\n",
              "      <td>25657</td>\n",
              "      <td>#MeetTheSpeakers 🙌 @USER will present in our e...</td>\n",
              "      <td>NOT</td>\n",
              "      <td>NOT</td>\n",
              "    </tr>\n",
              "    <tr>\n",
              "      <th>857</th>\n",
              "      <td>67018</td>\n",
              "      <td>3 people just unfollowed me for talking about ...</td>\n",
              "      <td>OFF</td>\n",
              "      <td>NOT</td>\n",
              "    </tr>\n",
              "    <tr>\n",
              "      <th>858</th>\n",
              "      <td>50665</td>\n",
              "      <td>#WednesdayWisdom Antifa calls the right fascis...</td>\n",
              "      <td>NOT</td>\n",
              "      <td>NOT</td>\n",
              "    </tr>\n",
              "    <tr>\n",
              "      <th>859</th>\n",
              "      <td>24583</td>\n",
              "      <td>#Kavanaugh typical #liberals , #Democrats URL</td>\n",
              "      <td>NOT</td>\n",
              "      <td>NOT</td>\n",
              "    </tr>\n",
              "  </tbody>\n",
              "</table>\n",
              "<p>860 rows × 4 columns</p>\n",
              "</div>\n",
              "      <button class=\"colab-df-convert\" onclick=\"convertToInteractive('df-86bb8dc7-fb7f-4d1d-b3bc-9ded8cead4e3')\"\n",
              "              title=\"Convert this dataframe to an interactive table.\"\n",
              "              style=\"display:none;\">\n",
              "        \n",
              "  <svg xmlns=\"http://www.w3.org/2000/svg\" height=\"24px\"viewBox=\"0 0 24 24\"\n",
              "       width=\"24px\">\n",
              "    <path d=\"M0 0h24v24H0V0z\" fill=\"none\"/>\n",
              "    <path d=\"M18.56 5.44l.94 2.06.94-2.06 2.06-.94-2.06-.94-.94-2.06-.94 2.06-2.06.94zm-11 1L8.5 8.5l.94-2.06 2.06-.94-2.06-.94L8.5 2.5l-.94 2.06-2.06.94zm10 10l.94 2.06.94-2.06 2.06-.94-2.06-.94-.94-2.06-.94 2.06-2.06.94z\"/><path d=\"M17.41 7.96l-1.37-1.37c-.4-.4-.92-.59-1.43-.59-.52 0-1.04.2-1.43.59L10.3 9.45l-7.72 7.72c-.78.78-.78 2.05 0 2.83L4 21.41c.39.39.9.59 1.41.59.51 0 1.02-.2 1.41-.59l7.78-7.78 2.81-2.81c.8-.78.8-2.07 0-2.86zM5.41 20L4 18.59l7.72-7.72 1.47 1.35L5.41 20z\"/>\n",
              "  </svg>\n",
              "      </button>\n",
              "      \n",
              "  <style>\n",
              "    .colab-df-container {\n",
              "      display:flex;\n",
              "      flex-wrap:wrap;\n",
              "      gap: 12px;\n",
              "    }\n",
              "\n",
              "    .colab-df-convert {\n",
              "      background-color: #E8F0FE;\n",
              "      border: none;\n",
              "      border-radius: 50%;\n",
              "      cursor: pointer;\n",
              "      display: none;\n",
              "      fill: #1967D2;\n",
              "      height: 32px;\n",
              "      padding: 0 0 0 0;\n",
              "      width: 32px;\n",
              "    }\n",
              "\n",
              "    .colab-df-convert:hover {\n",
              "      background-color: #E2EBFA;\n",
              "      box-shadow: 0px 1px 2px rgba(60, 64, 67, 0.3), 0px 1px 3px 1px rgba(60, 64, 67, 0.15);\n",
              "      fill: #174EA6;\n",
              "    }\n",
              "\n",
              "    [theme=dark] .colab-df-convert {\n",
              "      background-color: #3B4455;\n",
              "      fill: #D2E3FC;\n",
              "    }\n",
              "\n",
              "    [theme=dark] .colab-df-convert:hover {\n",
              "      background-color: #434B5C;\n",
              "      box-shadow: 0px 1px 3px 1px rgba(0, 0, 0, 0.15);\n",
              "      filter: drop-shadow(0px 1px 2px rgba(0, 0, 0, 0.3));\n",
              "      fill: #FFFFFF;\n",
              "    }\n",
              "  </style>\n",
              "\n",
              "      <script>\n",
              "        const buttonEl =\n",
              "          document.querySelector('#df-86bb8dc7-fb7f-4d1d-b3bc-9ded8cead4e3 button.colab-df-convert');\n",
              "        buttonEl.style.display =\n",
              "          google.colab.kernel.accessAllowed ? 'block' : 'none';\n",
              "\n",
              "        async function convertToInteractive(key) {\n",
              "          const element = document.querySelector('#df-86bb8dc7-fb7f-4d1d-b3bc-9ded8cead4e3');\n",
              "          const dataTable =\n",
              "            await google.colab.kernel.invokeFunction('convertToInteractive',\n",
              "                                                     [key], {});\n",
              "          if (!dataTable) return;\n",
              "\n",
              "          const docLinkHtml = 'Like what you see? Visit the ' +\n",
              "            '<a target=\"_blank\" href=https://colab.research.google.com/notebooks/data_table.ipynb>data table notebook</a>'\n",
              "            + ' to learn more about interactive tables.';\n",
              "          element.innerHTML = '';\n",
              "          dataTable['output_type'] = 'display_data';\n",
              "          await google.colab.output.renderOutput(dataTable, element);\n",
              "          const docLink = document.createElement('div');\n",
              "          docLink.innerHTML = docLinkHtml;\n",
              "          element.appendChild(docLink);\n",
              "        }\n",
              "      </script>\n",
              "    </div>\n",
              "  </div>\n",
              "  "
            ]
          },
          "metadata": {}
        },
        {
          "output_type": "display_data",
          "data": {
            "text/plain": [
              "<Figure size 640x480 with 2 Axes>"
            ],
            "image/png": "[encoded data removed]"
          },
          "metadata": {}
        }
      ]
    },
    {
      "cell_type": "code",
      "source": [
        "sec_md(train_2)\n",
        "offen_LANbbj.dump(sec_mod, '/content/drive/MyDrive/CE807/Assignment 2/2202392/Models/2/50/model.sav')\n",
        "offen_LANbbj.dump(offen_LAN_TR_in, '/content/drive/MyDrive/CE807/Assignment 2/2202392/Models/2/50/vectorizer.sav')\n",
        "offen_LAN_TS.to_csv('/content/drive/MyDrive/CE807/Assignment 2/2202392/Models/2/50/output_test.csv', index=False)"
      ],
      "metadata": {
        "colab": {
          "base_uri": "https://localhost:8080/",
          "height": 1000
        },
        "id": "Px5CQPg-ShY5",
        "outputId": "65421dea-0abc-44c6-e188-a6753d5bcb0c"
      },
      "execution_count": 46,
      "outputs": [
        {
          "output_type": "stream",
          "name": "stdout",
          "text": [
            "              precision    recall  f1-score   support\n",
            "\n",
            "         NOT       0.84      0.74      0.79       704\n",
            "         OFF       0.24      0.37      0.29       156\n",
            "\n",
            "    accuracy                           0.67       860\n",
            "   macro avg       0.54      0.56      0.54       860\n",
            "weighted avg       0.73      0.67      0.70       860\n",
            "\n"
          ]
        },
        {
          "output_type": "display_data",
          "data": {
            "text/plain": [
              "        id                                              tweet label out_label\n",
              "0    15923  #WhoIsQ #WheresTheServer #DumpNike #DECLASFISA...   OFF       NOT\n",
              "1    27014  #ConstitutionDay is revered by Conservatives, ...   NOT       NOT\n",
              "2    30530  #FOXNews #NRA #MAGA #POTUS #TRUMP #2ndAmendmen...   NOT       NOT\n",
              "3    13876  #Watching #Boomer getting the news that she is...   NOT       NOT\n",
              "4    60133  #NoPasaran: Unity demo to oppose the far-right...   OFF       NOT\n",
              "..     ...                                                ...   ...       ...\n",
              "855  73439  #DespicableDems lie again about rifles. Dem Di...   OFF       NOT\n",
              "856  25657  #MeetTheSpeakers 🙌 @USER will present in our e...   NOT       NOT\n",
              "857  67018  3 people just unfollowed me for talking about ...   OFF       NOT\n",
              "858  50665  #WednesdayWisdom Antifa calls the right fascis...   NOT       NOT\n",
              "859  24583      #Kavanaugh typical #liberals , #Democrats URL   NOT       NOT\n",
              "\n",
              "[860 rows x 4 columns]"
            ],
            "text/html": [
              "\n",
              "  <div id=\"df-999595de-7ba1-400d-b77a-c16674c0755d\">\n",
              "    <div class=\"colab-df-container\">\n",
              "      <div>\n",
              "<style scoped>\n",
              "    .dataframe tbody tr th:only-of-type {\n",
              "        vertical-align: middle;\n",
              "    }\n",
              "\n",
              "    .dataframe tbody tr th {\n",
              "        vertical-align: top;\n",
              "    }\n",
              "\n",
              "    .dataframe thead th {\n",
              "        text-align: right;\n",
              "    }\n",
              "</style>\n",
              "<table border=\"1\" class=\"dataframe\">\n",
              "  <thead>\n",
              "    <tr style=\"text-align: right;\">\n",
              "      <th></th>\n",
              "      <th>id</th>\n",
              "      <th>tweet</th>\n",
              "      <th>label</th>\n",
              "      <th>out_label</th>\n",
              "    </tr>\n",
              "  </thead>\n",
              "  <tbody>\n",
              "    <tr>\n",
              "      <th>0</th>\n",
              "      <td>15923</td>\n",
              "      <td>#WhoIsQ #WheresTheServer #DumpNike #DECLASFISA...</td>\n",
              "      <td>OFF</td>\n",
              "      <td>NOT</td>\n",
              "    </tr>\n",
              "    <tr>\n",
              "      <th>1</th>\n",
              "      <td>27014</td>\n",
              "      <td>#ConstitutionDay is revered by Conservatives, ...</td>\n",
              "      <td>NOT</td>\n",
              "      <td>NOT</td>\n",
              "    </tr>\n",
              "    <tr>\n",
              "      <th>2</th>\n",
              "      <td>30530</td>\n",
              "      <td>#FOXNews #NRA #MAGA #POTUS #TRUMP #2ndAmendmen...</td>\n",
              "      <td>NOT</td>\n",
              "      <td>NOT</td>\n",
              "    </tr>\n",
              "    <tr>\n",
              "      <th>3</th>\n",
              "      <td>13876</td>\n",
              "      <td>#Watching #Boomer getting the news that she is...</td>\n",
              "      <td>NOT</td>\n",
              "      <td>NOT</td>\n",
              "    </tr>\n",
              "    <tr>\n",
              "      <th>4</th>\n",
              "      <td>60133</td>\n",
              "      <td>#NoPasaran: Unity demo to oppose the far-right...</td>\n",
              "      <td>OFF</td>\n",
              "      <td>NOT</td>\n",
              "    </tr>\n",
              "    <tr>\n",
              "      <th>...</th>\n",
              "      <td>...</td>\n",
              "      <td>...</td>\n",
              "      <td>...</td>\n",
              "      <td>...</td>\n",
              "    </tr>\n",
              "    <tr>\n",
              "      <th>855</th>\n",
              "      <td>73439</td>\n",
              "      <td>#DespicableDems lie again about rifles. Dem Di...</td>\n",
              "      <td>OFF</td>\n",
              "      <td>NOT</td>\n",
              "    </tr>\n",
              "    <tr>\n",
              "      <th>856</th>\n",
              "      <td>25657</td>\n",
              "      <td>#MeetTheSpeakers 🙌 @USER will present in our e...</td>\n",
              "      <td>NOT</td>\n",
              "      <td>NOT</td>\n",
              "    </tr>\n",
              "    <tr>\n",
              "      <th>857</th>\n",
              "      <td>67018</td>\n",
              "      <td>3 people just unfollowed me for talking about ...</td>\n",
              "      <td>OFF</td>\n",
              "      <td>NOT</td>\n",
              "    </tr>\n",
              "    <tr>\n",
              "      <th>858</th>\n",
              "      <td>50665</td>\n",
              "      <td>#WednesdayWisdom Antifa calls the right fascis...</td>\n",
              "      <td>NOT</td>\n",
              "      <td>NOT</td>\n",
              "    </tr>\n",
              "    <tr>\n",
              "      <th>859</th>\n",
              "      <td>24583</td>\n",
              "      <td>#Kavanaugh typical #liberals , #Democrats URL</td>\n",
              "      <td>NOT</td>\n",
              "      <td>NOT</td>\n",
              "    </tr>\n",
              "  </tbody>\n",
              "</table>\n",
              "<p>860 rows × 4 columns</p>\n",
              "</div>\n",
              "      <button class=\"colab-df-convert\" onclick=\"convertToInteractive('df-999595de-7ba1-400d-b77a-c16674c0755d')\"\n",
              "              title=\"Convert this dataframe to an interactive table.\"\n",
              "              style=\"display:none;\">\n",
              "        \n",
              "  <svg xmlns=\"http://www.w3.org/2000/svg\" height=\"24px\"viewBox=\"0 0 24 24\"\n",
              "       width=\"24px\">\n",
              "    <path d=\"M0 0h24v24H0V0z\" fill=\"none\"/>\n",
              "    <path d=\"M18.56 5.44l.94 2.06.94-2.06 2.06-.94-2.06-.94-.94-2.06-.94 2.06-2.06.94zm-11 1L8.5 8.5l.94-2.06 2.06-.94-2.06-.94L8.5 2.5l-.94 2.06-2.06.94zm10 10l.94 2.06.94-2.06 2.06-.94-2.06-.94-.94-2.06-.94 2.06-2.06.94z\"/><path d=\"M17.41 7.96l-1.37-1.37c-.4-.4-.92-.59-1.43-.59-.52 0-1.04.2-1.43.59L10.3 9.45l-7.72 7.72c-.78.78-.78 2.05 0 2.83L4 21.41c.39.39.9.59 1.41.59.51 0 1.02-.2 1.41-.59l7.78-7.78 2.81-2.81c.8-.78.8-2.07 0-2.86zM5.41 20L4 18.59l7.72-7.72 1.47 1.35L5.41 20z\"/>\n",
              "  </svg>\n",
              "      </button>\n",
              "      \n",
              "  <style>\n",
              "    .colab-df-container {\n",
              "      display:flex;\n",
              "      flex-wrap:wrap;\n",
              "      gap: 12px;\n",
              "    }\n",
              "\n",
              "    .colab-df-convert {\n",
              "      background-color: #E8F0FE;\n",
              "      border: none;\n",
              "      border-radius: 50%;\n",
              "      cursor: pointer;\n",
              "      display: none;\n",
              "      fill: #1967D2;\n",
              "      height: 32px;\n",
              "      padding: 0 0 0 0;\n",
              "      width: 32px;\n",
              "    }\n",
              "\n",
              "    .colab-df-convert:hover {\n",
              "      background-color: #E2EBFA;\n",
              "      box-shadow: 0px 1px 2px rgba(60, 64, 67, 0.3), 0px 1px 3px 1px rgba(60, 64, 67, 0.15);\n",
              "      fill: #174EA6;\n",
              "    }\n",
              "\n",
              "    [theme=dark] .colab-df-convert {\n",
              "      background-color: #3B4455;\n",
              "      fill: #D2E3FC;\n",
              "    }\n",
              "\n",
              "    [theme=dark] .colab-df-convert:hover {\n",
              "      background-color: #434B5C;\n",
              "      box-shadow: 0px 1px 3px 1px rgba(0, 0, 0, 0.15);\n",
              "      filter: drop-shadow(0px 1px 2px rgba(0, 0, 0, 0.3));\n",
              "      fill: #FFFFFF;\n",
              "    }\n",
              "  </style>\n",
              "\n",
              "      <script>\n",
              "        const buttonEl =\n",
              "          document.querySelector('#df-999595de-7ba1-400d-b77a-c16674c0755d button.colab-df-convert');\n",
              "        buttonEl.style.display =\n",
              "          google.colab.kernel.accessAllowed ? 'block' : 'none';\n",
              "\n",
              "        async function convertToInteractive(key) {\n",
              "          const element = document.querySelector('#df-999595de-7ba1-400d-b77a-c16674c0755d');\n",
              "          const dataTable =\n",
              "            await google.colab.kernel.invokeFunction('convertToInteractive',\n",
              "                                                     [key], {});\n",
              "          if (!dataTable) return;\n",
              "\n",
              "          const docLinkHtml = 'Like what you see? Visit the ' +\n",
              "            '<a target=\"_blank\" href=https://colab.research.google.com/notebooks/data_table.ipynb>data table notebook</a>'\n",
              "            + ' to learn more about interactive tables.';\n",
              "          element.innerHTML = '';\n",
              "          dataTable['output_type'] = 'display_data';\n",
              "          await google.colab.output.renderOutput(dataTable, element);\n",
              "          const docLink = document.createElement('div');\n",
              "          docLink.innerHTML = docLinkHtml;\n",
              "          element.appendChild(docLink);\n",
              "        }\n",
              "      </script>\n",
              "    </div>\n",
              "  </div>\n",
              "  "
            ]
          },
          "metadata": {}
        },
        {
          "output_type": "display_data",
          "data": {
            "text/plain": [
              "<Figure size 640x480 with 2 Axes>"
            ],
            "image/png": "[encoded data removed]"
          },
          "metadata": {}
        }
      ]
    },
    {
      "cell_type": "markdown",
      "source": [
        "c) 75% train dataset"
      ],
      "metadata": {
        "id": "eA_ojYDyTmUl"
      }
    },
    {
      "cell_type": "code",
      "source": [
        "tr75 = offen_LANsli(offen_LAN_TR,  random_state=2202392, test_size=0.25) \n",
        "train_3= tr75[0]\n",
        "train_3.shape"
      ],
      "metadata": {
        "colab": {
          "base_uri": "https://localhost:8080/"
        },
        "id": "KNylmabeHosB",
        "outputId": "ef671661-6f4a-4331-ac30-e31cc17baa45"
      },
      "execution_count": 47,
      "outputs": [
        {
          "output_type": "execute_result",
          "data": {
            "text/plain": [
              "(9234, 3)"
            ]
          },
          "metadata": {},
          "execution_count": 47
        }
      ]
    },
    {
      "cell_type": "code",
      "source": [
        "offen_LAN_TR_in= TFIdf(train_3['tweet'])"
      ],
      "metadata": {
        "id": "GTnRiTBhklf_"
      },
      "execution_count": 48,
      "outputs": []
    },
    {
      "cell_type": "code",
      "source": [
        "first_md(train_3)\n",
        "offen_LANbbj.dump(first_mod, '/content/drive/MyDrive/CE807/Assignment 2/2202392/Models/1/75/model.sav')\n",
        "offen_LANbbj.dump(offen_LAN_TR_in, '/content/drive/MyDrive/CE807/Assignment 2/2202392/Models/1/75/vectorizer.sav')\n",
        "offen_LAN_TS.to_csv('/content/drive/MyDrive/CE807/Assignment 2/2202392/Models/1/75/output_test.csv', index=False)"
      ],
      "metadata": {
        "colab": {
          "base_uri": "https://localhost:8080/",
          "height": 1000
        },
        "id": "dFHMO_fvTJ_o",
        "outputId": "9a4e4b5f-0bcd-4acd-891f-d0d26f5dc1eb"
      },
      "execution_count": 49,
      "outputs": [
        {
          "output_type": "stream",
          "name": "stdout",
          "text": [
            "              precision    recall  f1-score   support\n",
            "\n",
            "         NOT       0.99      0.73      0.84       842\n",
            "         OFF       0.05      0.72      0.10        18\n",
            "\n",
            "    accuracy                           0.73       860\n",
            "   macro avg       0.52      0.73      0.47       860\n",
            "weighted avg       0.97      0.73      0.83       860\n",
            "\n"
          ]
        },
        {
          "output_type": "display_data",
          "data": {
            "text/plain": [
              "        id                                              tweet label out_label\n",
              "0    15923  #WhoIsQ #WheresTheServer #DumpNike #DECLASFISA...   OFF       NOT\n",
              "1    27014  #ConstitutionDay is revered by Conservatives, ...   NOT       NOT\n",
              "2    30530  #FOXNews #NRA #MAGA #POTUS #TRUMP #2ndAmendmen...   NOT       NOT\n",
              "3    13876  #Watching #Boomer getting the news that she is...   NOT       NOT\n",
              "4    60133  #NoPasaran: Unity demo to oppose the far-right...   OFF       NOT\n",
              "..     ...                                                ...   ...       ...\n",
              "855  73439  #DespicableDems lie again about rifles. Dem Di...   OFF       NOT\n",
              "856  25657  #MeetTheSpeakers 🙌 @USER will present in our e...   NOT       NOT\n",
              "857  67018  3 people just unfollowed me for talking about ...   OFF       NOT\n",
              "858  50665  #WednesdayWisdom Antifa calls the right fascis...   NOT       NOT\n",
              "859  24583      #Kavanaugh typical #liberals , #Democrats URL   NOT       NOT\n",
              "\n",
              "[860 rows x 4 columns]"
            ],
            "text/html": [
              "\n",
              "  <div id=\"df-32db2466-f4c9-4f27-b80b-46fd92b817e7\">\n",
              "    <div class=\"colab-df-container\">\n",
              "      <div>\n",
              "<style scoped>\n",
              "    .dataframe tbody tr th:only-of-type {\n",
              "        vertical-align: middle;\n",
              "    }\n",
              "\n",
              "    .dataframe tbody tr th {\n",
              "        vertical-align: top;\n",
              "    }\n",
              "\n",
              "    .dataframe thead th {\n",
              "        text-align: right;\n",
              "    }\n",
              "</style>\n",
              "<table border=\"1\" class=\"dataframe\">\n",
              "  <thead>\n",
              "    <tr style=\"text-align: right;\">\n",
              "      <th></th>\n",
              "      <th>id</th>\n",
              "      <th>tweet</th>\n",
              "      <th>label</th>\n",
              "      <th>out_label</th>\n",
              "    </tr>\n",
              "  </thead>\n",
              "  <tbody>\n",
              "    <tr>\n",
              "      <th>0</th>\n",
              "      <td>15923</td>\n",
              "      <td>#WhoIsQ #WheresTheServer #DumpNike #DECLASFISA...</td>\n",
              "      <td>OFF</td>\n",
              "      <td>NOT</td>\n",
              "    </tr>\n",
              "    <tr>\n",
              "      <th>1</th>\n",
              "      <td>27014</td>\n",
              "      <td>#ConstitutionDay is revered by Conservatives, ...</td>\n",
              "      <td>NOT</td>\n",
              "      <td>NOT</td>\n",
              "    </tr>\n",
              "    <tr>\n",
              "      <th>2</th>\n",
              "      <td>30530</td>\n",
              "      <td>#FOXNews #NRA #MAGA #POTUS #TRUMP #2ndAmendmen...</td>\n",
              "      <td>NOT</td>\n",
              "      <td>NOT</td>\n",
              "    </tr>\n",
              "    <tr>\n",
              "      <th>3</th>\n",
              "      <td>13876</td>\n",
              "      <td>#Watching #Boomer getting the news that she is...</td>\n",
              "      <td>NOT</td>\n",
              "      <td>NOT</td>\n",
              "    </tr>\n",
              "    <tr>\n",
              "      <th>4</th>\n",
              "      <td>60133</td>\n",
              "      <td>#NoPasaran: Unity demo to oppose the far-right...</td>\n",
              "      <td>OFF</td>\n",
              "      <td>NOT</td>\n",
              "    </tr>\n",
              "    <tr>\n",
              "      <th>...</th>\n",
              "      <td>...</td>\n",
              "      <td>...</td>\n",
              "      <td>...</td>\n",
              "      <td>...</td>\n",
              "    </tr>\n",
              "    <tr>\n",
              "      <th>855</th>\n",
              "      <td>73439</td>\n",
              "      <td>#DespicableDems lie again about rifles. Dem Di...</td>\n",
              "      <td>OFF</td>\n",
              "      <td>NOT</td>\n",
              "    </tr>\n",
              "    <tr>\n",
              "      <th>856</th>\n",
              "      <td>25657</td>\n",
              "      <td>#MeetTheSpeakers 🙌 @USER will present in our e...</td>\n",
              "      <td>NOT</td>\n",
              "      <td>NOT</td>\n",
              "    </tr>\n",
              "    <tr>\n",
              "      <th>857</th>\n",
              "      <td>67018</td>\n",
              "      <td>3 people just unfollowed me for talking about ...</td>\n",
              "      <td>OFF</td>\n",
              "      <td>NOT</td>\n",
              "    </tr>\n",
              "    <tr>\n",
              "      <th>858</th>\n",
              "      <td>50665</td>\n",
              "      <td>#WednesdayWisdom Antifa calls the right fascis...</td>\n",
              "      <td>NOT</td>\n",
              "      <td>NOT</td>\n",
              "    </tr>\n",
              "    <tr>\n",
              "      <th>859</th>\n",
              "      <td>24583</td>\n",
              "      <td>#Kavanaugh typical #liberals , #Democrats URL</td>\n",
              "      <td>NOT</td>\n",
              "      <td>NOT</td>\n",
              "    </tr>\n",
              "  </tbody>\n",
              "</table>\n",
              "<p>860 rows × 4 columns</p>\n",
              "</div>\n",
              "      <button class=\"colab-df-convert\" onclick=\"convertToInteractive('df-32db2466-f4c9-4f27-b80b-46fd92b817e7')\"\n",
              "              title=\"Convert this dataframe to an interactive table.\"\n",
              "              style=\"display:none;\">\n",
              "        \n",
              "  <svg xmlns=\"http://www.w3.org/2000/svg\" height=\"24px\"viewBox=\"0 0 24 24\"\n",
              "       width=\"24px\">\n",
              "    <path d=\"M0 0h24v24H0V0z\" fill=\"none\"/>\n",
              "    <path d=\"M18.56 5.44l.94 2.06.94-2.06 2.06-.94-2.06-.94-.94-2.06-.94 2.06-2.06.94zm-11 1L8.5 8.5l.94-2.06 2.06-.94-2.06-.94L8.5 2.5l-.94 2.06-2.06.94zm10 10l.94 2.06.94-2.06 2.06-.94-2.06-.94-.94-2.06-.94 2.06-2.06.94z\"/><path d=\"M17.41 7.96l-1.37-1.37c-.4-.4-.92-.59-1.43-.59-.52 0-1.04.2-1.43.59L10.3 9.45l-7.72 7.72c-.78.78-.78 2.05 0 2.83L4 21.41c.39.39.9.59 1.41.59.51 0 1.02-.2 1.41-.59l7.78-7.78 2.81-2.81c.8-.78.8-2.07 0-2.86zM5.41 20L4 18.59l7.72-7.72 1.47 1.35L5.41 20z\"/>\n",
              "  </svg>\n",
              "      </button>\n",
              "      \n",
              "  <style>\n",
              "    .colab-df-container {\n",
              "      display:flex;\n",
              "      flex-wrap:wrap;\n",
              "      gap: 12px;\n",
              "    }\n",
              "\n",
              "    .colab-df-convert {\n",
              "      background-color: #E8F0FE;\n",
              "      border: none;\n",
              "      border-radius: 50%;\n",
              "      cursor: pointer;\n",
              "      display: none;\n",
              "      fill: #1967D2;\n",
              "      height: 32px;\n",
              "      padding: 0 0 0 0;\n",
              "      width: 32px;\n",
              "    }\n",
              "\n",
              "    .colab-df-convert:hover {\n",
              "      background-color: #E2EBFA;\n",
              "      box-shadow: 0px 1px 2px rgba(60, 64, 67, 0.3), 0px 1px 3px 1px rgba(60, 64, 67, 0.15);\n",
              "      fill: #174EA6;\n",
              "    }\n",
              "\n",
              "    [theme=dark] .colab-df-convert {\n",
              "      background-color: #3B4455;\n",
              "      fill: #D2E3FC;\n",
              "    }\n",
              "\n",
              "    [theme=dark] .colab-df-convert:hover {\n",
              "      background-color: #434B5C;\n",
              "      box-shadow: 0px 1px 3px 1px rgba(0, 0, 0, 0.15);\n",
              "      filter: drop-shadow(0px 1px 2px rgba(0, 0, 0, 0.3));\n",
              "      fill: #FFFFFF;\n",
              "    }\n",
              "  </style>\n",
              "\n",
              "      <script>\n",
              "        const buttonEl =\n",
              "          document.querySelector('#df-32db2466-f4c9-4f27-b80b-46fd92b817e7 button.colab-df-convert');\n",
              "        buttonEl.style.display =\n",
              "          google.colab.kernel.accessAllowed ? 'block' : 'none';\n",
              "\n",
              "        async function convertToInteractive(key) {\n",
              "          const element = document.querySelector('#df-32db2466-f4c9-4f27-b80b-46fd92b817e7');\n",
              "          const dataTable =\n",
              "            await google.colab.kernel.invokeFunction('convertToInteractive',\n",
              "                                                     [key], {});\n",
              "          if (!dataTable) return;\n",
              "\n",
              "          const docLinkHtml = 'Like what you see? Visit the ' +\n",
              "            '<a target=\"_blank\" href=https://colab.research.google.com/notebooks/data_table.ipynb>data table notebook</a>'\n",
              "            + ' to learn more about interactive tables.';\n",
              "          element.innerHTML = '';\n",
              "          dataTable['output_type'] = 'display_data';\n",
              "          await google.colab.output.renderOutput(dataTable, element);\n",
              "          const docLink = document.createElement('div');\n",
              "          docLink.innerHTML = docLinkHtml;\n",
              "          element.appendChild(docLink);\n",
              "        }\n",
              "      </script>\n",
              "    </div>\n",
              "  </div>\n",
              "  "
            ]
          },
          "metadata": {}
        },
        {
          "output_type": "display_data",
          "data": {
            "text/plain": [
              "<Figure size 640x480 with 2 Axes>"
            ],
            "image/png": "[encoded data removed]"
          },
          "metadata": {}
        }
      ]
    },
    {
      "cell_type": "code",
      "source": [
        "sec_md(train_3)\n",
        "offen_LANbbj.dump(sec_mod, '/content/drive/MyDrive/CE807/Assignment 2/2202392/Models/2/75/model.sav')\n",
        "offen_LANbbj.dump(offen_LAN_TR_in, '/content/drive/MyDrive/CE807/Assignment 2/2202392/Models/2/75/vectorizer.sav')\n",
        "offen_LAN_TS.to_csv('/content/drive/MyDrive/CE807/Assignment 2/2202392/Models/2/75/output_test.csv', index=False)"
      ],
      "metadata": {
        "colab": {
          "base_uri": "https://localhost:8080/",
          "height": 1000
        },
        "id": "SiuitCzNTKCt",
        "outputId": "5b868ef2-9270-4c69-dfcc-10237005cb31"
      },
      "execution_count": 50,
      "outputs": [
        {
          "output_type": "stream",
          "name": "stdout",
          "text": [
            "              precision    recall  f1-score   support\n",
            "\n",
            "         NOT       0.84      0.74      0.79       704\n",
            "         OFF       0.24      0.37      0.29       156\n",
            "\n",
            "    accuracy                           0.67       860\n",
            "   macro avg       0.54      0.56      0.54       860\n",
            "weighted avg       0.73      0.67      0.70       860\n",
            "\n"
          ]
        },
        {
          "output_type": "display_data",
          "data": {
            "text/plain": [
              "        id                                              tweet label out_label\n",
              "0    15923  #WhoIsQ #WheresTheServer #DumpNike #DECLASFISA...   OFF       NOT\n",
              "1    27014  #ConstitutionDay is revered by Conservatives, ...   NOT       NOT\n",
              "2    30530  #FOXNews #NRA #MAGA #POTUS #TRUMP #2ndAmendmen...   NOT       NOT\n",
              "3    13876  #Watching #Boomer getting the news that she is...   NOT       NOT\n",
              "4    60133  #NoPasaran: Unity demo to oppose the far-right...   OFF       NOT\n",
              "..     ...                                                ...   ...       ...\n",
              "855  73439  #DespicableDems lie again about rifles. Dem Di...   OFF       NOT\n",
              "856  25657  #MeetTheSpeakers 🙌 @USER will present in our e...   NOT       NOT\n",
              "857  67018  3 people just unfollowed me for talking about ...   OFF       NOT\n",
              "858  50665  #WednesdayWisdom Antifa calls the right fascis...   NOT       NOT\n",
              "859  24583      #Kavanaugh typical #liberals , #Democrats URL   NOT       NOT\n",
              "\n",
              "[860 rows x 4 columns]"
            ],
            "text/html": [
              "\n",
              "  <div id=\"df-cd886f01-251f-4918-b14e-2629404682de\">\n",
              "    <div class=\"colab-df-container\">\n",
              "      <div>\n",
              "<style scoped>\n",
              "    .dataframe tbody tr th:only-of-type {\n",
              "        vertical-align: middle;\n",
              "    }\n",
              "\n",
              "    .dataframe tbody tr th {\n",
              "        vertical-align: top;\n",
              "    }\n",
              "\n",
              "    .dataframe thead th {\n",
              "        text-align: right;\n",
              "    }\n",
              "</style>\n",
              "<table border=\"1\" class=\"dataframe\">\n",
              "  <thead>\n",
              "    <tr style=\"text-align: right;\">\n",
              "      <th></th>\n",
              "      <th>id</th>\n",
              "      <th>tweet</th>\n",
              "      <th>label</th>\n",
              "      <th>out_label</th>\n",
              "    </tr>\n",
              "  </thead>\n",
              "  <tbody>\n",
              "    <tr>\n",
              "      <th>0</th>\n",
              "      <td>15923</td>\n",
              "      <td>#WhoIsQ #WheresTheServer #DumpNike #DECLASFISA...</td>\n",
              "      <td>OFF</td>\n",
              "      <td>NOT</td>\n",
              "    </tr>\n",
              "    <tr>\n",
              "      <th>1</th>\n",
              "      <td>27014</td>\n",
              "      <td>#ConstitutionDay is revered by Conservatives, ...</td>\n",
              "      <td>NOT</td>\n",
              "      <td>NOT</td>\n",
              "    </tr>\n",
              "    <tr>\n",
              "      <th>2</th>\n",
              "      <td>30530</td>\n",
              "      <td>#FOXNews #NRA #MAGA #POTUS #TRUMP #2ndAmendmen...</td>\n",
              "      <td>NOT</td>\n",
              "      <td>NOT</td>\n",
              "    </tr>\n",
              "    <tr>\n",
              "      <th>3</th>\n",
              "      <td>13876</td>\n",
              "      <td>#Watching #Boomer getting the news that she is...</td>\n",
              "      <td>NOT</td>\n",
              "      <td>NOT</td>\n",
              "    </tr>\n",
              "    <tr>\n",
              "      <th>4</th>\n",
              "      <td>60133</td>\n",
              "      <td>#NoPasaran: Unity demo to oppose the far-right...</td>\n",
              "      <td>OFF</td>\n",
              "      <td>NOT</td>\n",
              "    </tr>\n",
              "    <tr>\n",
              "      <th>...</th>\n",
              "      <td>...</td>\n",
              "      <td>...</td>\n",
              "      <td>...</td>\n",
              "      <td>...</td>\n",
              "    </tr>\n",
              "    <tr>\n",
              "      <th>855</th>\n",
              "      <td>73439</td>\n",
              "      <td>#DespicableDems lie again about rifles. Dem Di...</td>\n",
              "      <td>OFF</td>\n",
              "      <td>NOT</td>\n",
              "    </tr>\n",
              "    <tr>\n",
              "      <th>856</th>\n",
              "      <td>25657</td>\n",
              "      <td>#MeetTheSpeakers 🙌 @USER will present in our e...</td>\n",
              "      <td>NOT</td>\n",
              "      <td>NOT</td>\n",
              "    </tr>\n",
              "    <tr>\n",
              "      <th>857</th>\n",
              "      <td>67018</td>\n",
              "      <td>3 people just unfollowed me for talking about ...</td>\n",
              "      <td>OFF</td>\n",
              "      <td>NOT</td>\n",
              "    </tr>\n",
              "    <tr>\n",
              "      <th>858</th>\n",
              "      <td>50665</td>\n",
              "      <td>#WednesdayWisdom Antifa calls the right fascis...</td>\n",
              "      <td>NOT</td>\n",
              "      <td>NOT</td>\n",
              "    </tr>\n",
              "    <tr>\n",
              "      <th>859</th>\n",
              "      <td>24583</td>\n",
              "      <td>#Kavanaugh typical #liberals , #Democrats URL</td>\n",
              "      <td>NOT</td>\n",
              "      <td>NOT</td>\n",
              "    </tr>\n",
              "  </tbody>\n",
              "</table>\n",
              "<p>860 rows × 4 columns</p>\n",
              "</div>\n",
              "      <button class=\"colab-df-convert\" onclick=\"convertToInteractive('df-cd886f01-251f-4918-b14e-2629404682de')\"\n",
              "              title=\"Convert this dataframe to an interactive table.\"\n",
              "              style=\"display:none;\">\n",
              "        \n",
              "  <svg xmlns=\"http://www.w3.org/2000/svg\" height=\"24px\"viewBox=\"0 0 24 24\"\n",
              "       width=\"24px\">\n",
              "    <path d=\"M0 0h24v24H0V0z\" fill=\"none\"/>\n",
              "    <path d=\"M18.56 5.44l.94 2.06.94-2.06 2.06-.94-2.06-.94-.94-2.06-.94 2.06-2.06.94zm-11 1L8.5 8.5l.94-2.06 2.06-.94-2.06-.94L8.5 2.5l-.94 2.06-2.06.94zm10 10l.94 2.06.94-2.06 2.06-.94-2.06-.94-.94-2.06-.94 2.06-2.06.94z\"/><path d=\"M17.41 7.96l-1.37-1.37c-.4-.4-.92-.59-1.43-.59-.52 0-1.04.2-1.43.59L10.3 9.45l-7.72 7.72c-.78.78-.78 2.05 0 2.83L4 21.41c.39.39.9.59 1.41.59.51 0 1.02-.2 1.41-.59l7.78-7.78 2.81-2.81c.8-.78.8-2.07 0-2.86zM5.41 20L4 18.59l7.72-7.72 1.47 1.35L5.41 20z\"/>\n",
              "  </svg>\n",
              "      </button>\n",
              "      \n",
              "  <style>\n",
              "    .colab-df-container {\n",
              "      display:flex;\n",
              "      flex-wrap:wrap;\n",
              "      gap: 12px;\n",
              "    }\n",
              "\n",
              "    .colab-df-convert {\n",
              "      background-color: #E8F0FE;\n",
              "      border: none;\n",
              "      border-radius: 50%;\n",
              "      cursor: pointer;\n",
              "      display: none;\n",
              "      fill: #1967D2;\n",
              "      height: 32px;\n",
              "      padding: 0 0 0 0;\n",
              "      width: 32px;\n",
              "    }\n",
              "\n",
              "    .colab-df-convert:hover {\n",
              "      background-color: #E2EBFA;\n",
              "      box-shadow: 0px 1px 2px rgba(60, 64, 67, 0.3), 0px 1px 3px 1px rgba(60, 64, 67, 0.15);\n",
              "      fill: #174EA6;\n",
              "    }\n",
              "\n",
              "    [theme=dark] .colab-df-convert {\n",
              "      background-color: #3B4455;\n",
              "      fill: #D2E3FC;\n",
              "    }\n",
              "\n",
              "    [theme=dark] .colab-df-convert:hover {\n",
              "      background-color: #434B5C;\n",
              "      box-shadow: 0px 1px 3px 1px rgba(0, 0, 0, 0.15);\n",
              "      filter: drop-shadow(0px 1px 2px rgba(0, 0, 0, 0.3));\n",
              "      fill: #FFFFFF;\n",
              "    }\n",
              "  </style>\n",
              "\n",
              "      <script>\n",
              "        const buttonEl =\n",
              "          document.querySelector('#df-cd886f01-251f-4918-b14e-2629404682de button.colab-df-convert');\n",
              "        buttonEl.style.display =\n",
              "          google.colab.kernel.accessAllowed ? 'block' : 'none';\n",
              "\n",
              "        async function convertToInteractive(key) {\n",
              "          const element = document.querySelector('#df-cd886f01-251f-4918-b14e-2629404682de');\n",
              "          const dataTable =\n",
              "            await google.colab.kernel.invokeFunction('convertToInteractive',\n",
              "                                                     [key], {});\n",
              "          if (!dataTable) return;\n",
              "\n",
              "          const docLinkHtml = 'Like what you see? Visit the ' +\n",
              "            '<a target=\"_blank\" href=https://colab.research.google.com/notebooks/data_table.ipynb>data table notebook</a>'\n",
              "            + ' to learn more about interactive tables.';\n",
              "          element.innerHTML = '';\n",
              "          dataTable['output_type'] = 'display_data';\n",
              "          await google.colab.output.renderOutput(dataTable, element);\n",
              "          const docLink = document.createElement('div');\n",
              "          docLink.innerHTML = docLinkHtml;\n",
              "          element.appendChild(docLink);\n",
              "        }\n",
              "      </script>\n",
              "    </div>\n",
              "  </div>\n",
              "  "
            ]
          },
          "metadata": {}
        },
        {
          "output_type": "display_data",
          "data": {
            "text/plain": [
              "<Figure size 640x480 with 2 Axes>"
            ],
            "image/png": "[encoded data removed]"
          },
          "metadata": {}
        }
      ]
    },
    {
      "cell_type": "markdown",
      "source": [
        "d) 100% train dataset"
      ],
      "metadata": {
        "id": "zGB9VVrQTo_0"
      }
    },
    {
      "cell_type": "code",
      "source": [
        "tr100 = offen_LANsli(offen_LAN_TR,  random_state=2202392, test_size=0.00001) \n",
        "train_4= tr100[0]\n",
        "train_4.shape"
      ],
      "metadata": {
        "colab": {
          "base_uri": "https://localhost:8080/"
        },
        "id": "d0ZevddeHovB",
        "outputId": "87f8aeda-be42-418b-a542-b5459c9b3941"
      },
      "execution_count": 51,
      "outputs": [
        {
          "output_type": "execute_result",
          "data": {
            "text/plain": [
              "(12312, 3)"
            ]
          },
          "metadata": {},
          "execution_count": 51
        }
      ]
    },
    {
      "cell_type": "code",
      "source": [
        "offen_LAN_TR_in= TFIdf(train_4['tweet'])"
      ],
      "metadata": {
        "id": "dI-BI0GnknPM"
      },
      "execution_count": 52,
      "outputs": []
    },
    {
      "cell_type": "code",
      "source": [
        "first_md(train_4)\n",
        "offen_LANbbj.dump(first_mod, '/content/drive/MyDrive/CE807/Assignment 2/2202392/Models/1/100/model.sav')\n",
        "offen_LANbbj.dump(offen_LAN_TR_in, '/content/drive/MyDrive/CE807/Assignment 2/2202392/Models/1/100/vectorizer.sav')\n",
        "offen_LAN_TS.to_csv('/content/drive/MyDrive/CE807/Assignment 2/2202392/Models/1/100/output_test.csv', index=False)"
      ],
      "metadata": {
        "colab": {
          "base_uri": "https://localhost:8080/",
          "height": 1000
        },
        "id": "7Soe7BfcTLBo",
        "outputId": "b07795f3-3d48-4edb-8796-483338de6f08"
      },
      "execution_count": 53,
      "outputs": [
        {
          "output_type": "stream",
          "name": "stdout",
          "text": [
            "              precision    recall  f1-score   support\n",
            "\n",
            "         NOT       0.99      0.73      0.84       843\n",
            "         OFF       0.05      0.71      0.09        17\n",
            "\n",
            "    accuracy                           0.73       860\n",
            "   macro avg       0.52      0.72      0.47       860\n",
            "weighted avg       0.97      0.73      0.83       860\n",
            "\n"
          ]
        },
        {
          "output_type": "display_data",
          "data": {
            "text/plain": [
              "        id                                              tweet label out_label\n",
              "0    15923  #WhoIsQ #WheresTheServer #DumpNike #DECLASFISA...   OFF       NOT\n",
              "1    27014  #ConstitutionDay is revered by Conservatives, ...   NOT       NOT\n",
              "2    30530  #FOXNews #NRA #MAGA #POTUS #TRUMP #2ndAmendmen...   NOT       NOT\n",
              "3    13876  #Watching #Boomer getting the news that she is...   NOT       NOT\n",
              "4    60133  #NoPasaran: Unity demo to oppose the far-right...   OFF       NOT\n",
              "..     ...                                                ...   ...       ...\n",
              "855  73439  #DespicableDems lie again about rifles. Dem Di...   OFF       NOT\n",
              "856  25657  #MeetTheSpeakers 🙌 @USER will present in our e...   NOT       NOT\n",
              "857  67018  3 people just unfollowed me for talking about ...   OFF       NOT\n",
              "858  50665  #WednesdayWisdom Antifa calls the right fascis...   NOT       NOT\n",
              "859  24583      #Kavanaugh typical #liberals , #Democrats URL   NOT       NOT\n",
              "\n",
              "[860 rows x 4 columns]"
            ],
            "text/html": [
              "\n",
              "  <div id=\"df-1601988f-b932-4fbe-aeca-1689bb623d4e\">\n",
              "    <div class=\"colab-df-container\">\n",
              "      <div>\n",
              "<style scoped>\n",
              "    .dataframe tbody tr th:only-of-type {\n",
              "        vertical-align: middle;\n",
              "    }\n",
              "\n",
              "    .dataframe tbody tr th {\n",
              "        vertical-align: top;\n",
              "    }\n",
              "\n",
              "    .dataframe thead th {\n",
              "        text-align: right;\n",
              "    }\n",
              "</style>\n",
              "<table border=\"1\" class=\"dataframe\">\n",
              "  <thead>\n",
              "    <tr style=\"text-align: right;\">\n",
              "      <th></th>\n",
              "      <th>id</th>\n",
              "      <th>tweet</th>\n",
              "      <th>label</th>\n",
              "      <th>out_label</th>\n",
              "    </tr>\n",
              "  </thead>\n",
              "  <tbody>\n",
              "    <tr>\n",
              "      <th>0</th>\n",
              "      <td>15923</td>\n",
              "      <td>#WhoIsQ #WheresTheServer #DumpNike #DECLASFISA...</td>\n",
              "      <td>OFF</td>\n",
              "      <td>NOT</td>\n",
              "    </tr>\n",
              "    <tr>\n",
              "      <th>1</th>\n",
              "      <td>27014</td>\n",
              "      <td>#ConstitutionDay is revered by Conservatives, ...</td>\n",
              "      <td>NOT</td>\n",
              "      <td>NOT</td>\n",
              "    </tr>\n",
              "    <tr>\n",
              "      <th>2</th>\n",
              "      <td>30530</td>\n",
              "      <td>#FOXNews #NRA #MAGA #POTUS #TRUMP #2ndAmendmen...</td>\n",
              "      <td>NOT</td>\n",
              "      <td>NOT</td>\n",
              "    </tr>\n",
              "    <tr>\n",
              "      <th>3</th>\n",
              "      <td>13876</td>\n",
              "      <td>#Watching #Boomer getting the news that she is...</td>\n",
              "      <td>NOT</td>\n",
              "      <td>NOT</td>\n",
              "    </tr>\n",
              "    <tr>\n",
              "      <th>4</th>\n",
              "      <td>60133</td>\n",
              "      <td>#NoPasaran: Unity demo to oppose the far-right...</td>\n",
              "      <td>OFF</td>\n",
              "      <td>NOT</td>\n",
              "    </tr>\n",
              "    <tr>\n",
              "      <th>...</th>\n",
              "      <td>...</td>\n",
              "      <td>...</td>\n",
              "      <td>...</td>\n",
              "      <td>...</td>\n",
              "    </tr>\n",
              "    <tr>\n",
              "      <th>855</th>\n",
              "      <td>73439</td>\n",
              "      <td>#DespicableDems lie again about rifles. Dem Di...</td>\n",
              "      <td>OFF</td>\n",
              "      <td>NOT</td>\n",
              "    </tr>\n",
              "    <tr>\n",
              "      <th>856</th>\n",
              "      <td>25657</td>\n",
              "      <td>#MeetTheSpeakers 🙌 @USER will present in our e...</td>\n",
              "      <td>NOT</td>\n",
              "      <td>NOT</td>\n",
              "    </tr>\n",
              "    <tr>\n",
              "      <th>857</th>\n",
              "      <td>67018</td>\n",
              "      <td>3 people just unfollowed me for talking about ...</td>\n",
              "      <td>OFF</td>\n",
              "      <td>NOT</td>\n",
              "    </tr>\n",
              "    <tr>\n",
              "      <th>858</th>\n",
              "      <td>50665</td>\n",
              "      <td>#WednesdayWisdom Antifa calls the right fascis...</td>\n",
              "      <td>NOT</td>\n",
              "      <td>NOT</td>\n",
              "    </tr>\n",
              "    <tr>\n",
              "      <th>859</th>\n",
              "      <td>24583</td>\n",
              "      <td>#Kavanaugh typical #liberals , #Democrats URL</td>\n",
              "      <td>NOT</td>\n",
              "      <td>NOT</td>\n",
              "    </tr>\n",
              "  </tbody>\n",
              "</table>\n",
              "<p>860 rows × 4 columns</p>\n",
              "</div>\n",
              "      <button class=\"colab-df-convert\" onclick=\"convertToInteractive('df-1601988f-b932-4fbe-aeca-1689bb623d4e')\"\n",
              "              title=\"Convert this dataframe to an interactive table.\"\n",
              "              style=\"display:none;\">\n",
              "        \n",
              "  <svg xmlns=\"http://www.w3.org/2000/svg\" height=\"24px\"viewBox=\"0 0 24 24\"\n",
              "       width=\"24px\">\n",
              "    <path d=\"M0 0h24v24H0V0z\" fill=\"none\"/>\n",
              "    <path d=\"M18.56 5.44l.94 2.06.94-2.06 2.06-.94-2.06-.94-.94-2.06-.94 2.06-2.06.94zm-11 1L8.5 8.5l.94-2.06 2.06-.94-2.06-.94L8.5 2.5l-.94 2.06-2.06.94zm10 10l.94 2.06.94-2.06 2.06-.94-2.06-.94-.94-2.06-.94 2.06-2.06.94z\"/><path d=\"M17.41 7.96l-1.37-1.37c-.4-.4-.92-.59-1.43-.59-.52 0-1.04.2-1.43.59L10.3 9.45l-7.72 7.72c-.78.78-.78 2.05 0 2.83L4 21.41c.39.39.9.59 1.41.59.51 0 1.02-.2 1.41-.59l7.78-7.78 2.81-2.81c.8-.78.8-2.07 0-2.86zM5.41 20L4 18.59l7.72-7.72 1.47 1.35L5.41 20z\"/>\n",
              "  </svg>\n",
              "      </button>\n",
              "      \n",
              "  <style>\n",
              "    .colab-df-container {\n",
              "      display:flex;\n",
              "      flex-wrap:wrap;\n",
              "      gap: 12px;\n",
              "    }\n",
              "\n",
              "    .colab-df-convert {\n",
              "      background-color: #E8F0FE;\n",
              "      border: none;\n",
              "      border-radius: 50%;\n",
              "      cursor: pointer;\n",
              "      display: none;\n",
              "      fill: #1967D2;\n",
              "      height: 32px;\n",
              "      padding: 0 0 0 0;\n",
              "      width: 32px;\n",
              "    }\n",
              "\n",
              "    .colab-df-convert:hover {\n",
              "      background-color: #E2EBFA;\n",
              "      box-shadow: 0px 1px 2px rgba(60, 64, 67, 0.3), 0px 1px 3px 1px rgba(60, 64, 67, 0.15);\n",
              "      fill: #174EA6;\n",
              "    }\n",
              "\n",
              "    [theme=dark] .colab-df-convert {\n",
              "      background-color: #3B4455;\n",
              "      fill: #D2E3FC;\n",
              "    }\n",
              "\n",
              "    [theme=dark] .colab-df-convert:hover {\n",
              "      background-color: #434B5C;\n",
              "      box-shadow: 0px 1px 3px 1px rgba(0, 0, 0, 0.15);\n",
              "      filter: drop-shadow(0px 1px 2px rgba(0, 0, 0, 0.3));\n",
              "      fill: #FFFFFF;\n",
              "    }\n",
              "  </style>\n",
              "\n",
              "      <script>\n",
              "        const buttonEl =\n",
              "          document.querySelector('#df-1601988f-b932-4fbe-aeca-1689bb623d4e button.colab-df-convert');\n",
              "        buttonEl.style.display =\n",
              "          google.colab.kernel.accessAllowed ? 'block' : 'none';\n",
              "\n",
              "        async function convertToInteractive(key) {\n",
              "          const element = document.querySelector('#df-1601988f-b932-4fbe-aeca-1689bb623d4e');\n",
              "          const dataTable =\n",
              "            await google.colab.kernel.invokeFunction('convertToInteractive',\n",
              "                                                     [key], {});\n",
              "          if (!dataTable) return;\n",
              "\n",
              "          const docLinkHtml = 'Like what you see? Visit the ' +\n",
              "            '<a target=\"_blank\" href=https://colab.research.google.com/notebooks/data_table.ipynb>data table notebook</a>'\n",
              "            + ' to learn more about interactive tables.';\n",
              "          element.innerHTML = '';\n",
              "          dataTable['output_type'] = 'display_data';\n",
              "          await google.colab.output.renderOutput(dataTable, element);\n",
              "          const docLink = document.createElement('div');\n",
              "          docLink.innerHTML = docLinkHtml;\n",
              "          element.appendChild(docLink);\n",
              "        }\n",
              "      </script>\n",
              "    </div>\n",
              "  </div>\n",
              "  "
            ]
          },
          "metadata": {}
        },
        {
          "output_type": "display_data",
          "data": {
            "text/plain": [
              "<Figure size 640x480 with 2 Axes>"
            ],
            "image/png": "[encoded data removed]"
          },
          "metadata": {}
        }
      ]
    },
    {
      "cell_type": "code",
      "source": [
        "sec_md(train_4)\n",
        "offen_LANbbj.dump(sec_mod, '/content/drive/MyDrive/CE807/Assignment 2/2202392/Models/2/100/model.sav')\n",
        "offen_LANbbj.dump(offen_LAN_TR_in, '/content/drive/MyDrive/CE807/Assignment 2/2202392/Models/2/100/vectorizer.sav')\n",
        "offen_LAN_TS.to_csv('/content/drive/MyDrive/CE807/Assignment 2/2202392/Models/2/100/output_test.csv', index=False)"
      ],
      "metadata": {
        "colab": {
          "base_uri": "https://localhost:8080/",
          "height": 1000
        },
        "id": "uMYU6-kCHo1a",
        "outputId": "a82f090b-3430-4974-b92c-990510e74229"
      },
      "execution_count": 54,
      "outputs": [
        {
          "output_type": "stream",
          "name": "stdout",
          "text": [
            "              precision    recall  f1-score   support\n",
            "\n",
            "         NOT       0.86      0.74      0.79       721\n",
            "         OFF       0.22      0.37      0.27       139\n",
            "\n",
            "    accuracy                           0.68       860\n",
            "   macro avg       0.54      0.56      0.53       860\n",
            "weighted avg       0.76      0.68      0.71       860\n",
            "\n"
          ]
        },
        {
          "output_type": "display_data",
          "data": {
            "text/plain": [
              "        id                                              tweet label out_label\n",
              "0    15923  #WhoIsQ #WheresTheServer #DumpNike #DECLASFISA...   OFF       NOT\n",
              "1    27014  #ConstitutionDay is revered by Conservatives, ...   NOT       NOT\n",
              "2    30530  #FOXNews #NRA #MAGA #POTUS #TRUMP #2ndAmendmen...   NOT       NOT\n",
              "3    13876  #Watching #Boomer getting the news that she is...   NOT       NOT\n",
              "4    60133  #NoPasaran: Unity demo to oppose the far-right...   OFF       NOT\n",
              "..     ...                                                ...   ...       ...\n",
              "855  73439  #DespicableDems lie again about rifles. Dem Di...   OFF       NOT\n",
              "856  25657  #MeetTheSpeakers 🙌 @USER will present in our e...   NOT       NOT\n",
              "857  67018  3 people just unfollowed me for talking about ...   OFF       NOT\n",
              "858  50665  #WednesdayWisdom Antifa calls the right fascis...   NOT       NOT\n",
              "859  24583      #Kavanaugh typical #liberals , #Democrats URL   NOT       NOT\n",
              "\n",
              "[860 rows x 4 columns]"
            ],
            "text/html": [
              "\n",
              "  <div id=\"df-987c2cd2-63c2-4657-8da8-8bc56d04cd7b\">\n",
              "    <div class=\"colab-df-container\">\n",
              "      <div>\n",
              "<style scoped>\n",
              "    .dataframe tbody tr th:only-of-type {\n",
              "        vertical-align: middle;\n",
              "    }\n",
              "\n",
              "    .dataframe tbody tr th {\n",
              "        vertical-align: top;\n",
              "    }\n",
              "\n",
              "    .dataframe thead th {\n",
              "        text-align: right;\n",
              "    }\n",
              "</style>\n",
              "<table border=\"1\" class=\"dataframe\">\n",
              "  <thead>\n",
              "    <tr style=\"text-align: right;\">\n",
              "      <th></th>\n",
              "      <th>id</th>\n",
              "      <th>tweet</th>\n",
              "      <th>label</th>\n",
              "      <th>out_label</th>\n",
              "    </tr>\n",
              "  </thead>\n",
              "  <tbody>\n",
              "    <tr>\n",
              "      <th>0</th>\n",
              "      <td>15923</td>\n",
              "      <td>#WhoIsQ #WheresTheServer #DumpNike #DECLASFISA...</td>\n",
              "      <td>OFF</td>\n",
              "      <td>NOT</td>\n",
              "    </tr>\n",
              "    <tr>\n",
              "      <th>1</th>\n",
              "      <td>27014</td>\n",
              "      <td>#ConstitutionDay is revered by Conservatives, ...</td>\n",
              "      <td>NOT</td>\n",
              "      <td>NOT</td>\n",
              "    </tr>\n",
              "    <tr>\n",
              "      <th>2</th>\n",
              "      <td>30530</td>\n",
              "      <td>#FOXNews #NRA #MAGA #POTUS #TRUMP #2ndAmendmen...</td>\n",
              "      <td>NOT</td>\n",
              "      <td>NOT</td>\n",
              "    </tr>\n",
              "    <tr>\n",
              "      <th>3</th>\n",
              "      <td>13876</td>\n",
              "      <td>#Watching #Boomer getting the news that she is...</td>\n",
              "      <td>NOT</td>\n",
              "      <td>NOT</td>\n",
              "    </tr>\n",
              "    <tr>\n",
              "      <th>4</th>\n",
              "      <td>60133</td>\n",
              "      <td>#NoPasaran: Unity demo to oppose the far-right...</td>\n",
              "      <td>OFF</td>\n",
              "      <td>NOT</td>\n",
              "    </tr>\n",
              "    <tr>\n",
              "      <th>...</th>\n",
              "      <td>...</td>\n",
              "      <td>...</td>\n",
              "      <td>...</td>\n",
              "      <td>...</td>\n",
              "    </tr>\n",
              "    <tr>\n",
              "      <th>855</th>\n",
              "      <td>73439</td>\n",
              "      <td>#DespicableDems lie again about rifles. Dem Di...</td>\n",
              "      <td>OFF</td>\n",
              "      <td>NOT</td>\n",
              "    </tr>\n",
              "    <tr>\n",
              "      <th>856</th>\n",
              "      <td>25657</td>\n",
              "      <td>#MeetTheSpeakers 🙌 @USER will present in our e...</td>\n",
              "      <td>NOT</td>\n",
              "      <td>NOT</td>\n",
              "    </tr>\n",
              "    <tr>\n",
              "      <th>857</th>\n",
              "      <td>67018</td>\n",
              "      <td>3 people just unfollowed me for talking about ...</td>\n",
              "      <td>OFF</td>\n",
              "      <td>NOT</td>\n",
              "    </tr>\n",
              "    <tr>\n",
              "      <th>858</th>\n",
              "      <td>50665</td>\n",
              "      <td>#WednesdayWisdom Antifa calls the right fascis...</td>\n",
              "      <td>NOT</td>\n",
              "      <td>NOT</td>\n",
              "    </tr>\n",
              "    <tr>\n",
              "      <th>859</th>\n",
              "      <td>24583</td>\n",
              "      <td>#Kavanaugh typical #liberals , #Democrats URL</td>\n",
              "      <td>NOT</td>\n",
              "      <td>NOT</td>\n",
              "    </tr>\n",
              "  </tbody>\n",
              "</table>\n",
              "<p>860 rows × 4 columns</p>\n",
              "</div>\n",
              "      <button class=\"colab-df-convert\" onclick=\"convertToInteractive('df-987c2cd2-63c2-4657-8da8-8bc56d04cd7b')\"\n",
              "              title=\"Convert this dataframe to an interactive table.\"\n",
              "              style=\"display:none;\">\n",
              "        \n",
              "  <svg xmlns=\"http://www.w3.org/2000/svg\" height=\"24px\"viewBox=\"0 0 24 24\"\n",
              "       width=\"24px\">\n",
              "    <path d=\"M0 0h24v24H0V0z\" fill=\"none\"/>\n",
              "    <path d=\"M18.56 5.44l.94 2.06.94-2.06 2.06-.94-2.06-.94-.94-2.06-.94 2.06-2.06.94zm-11 1L8.5 8.5l.94-2.06 2.06-.94-2.06-.94L8.5 2.5l-.94 2.06-2.06.94zm10 10l.94 2.06.94-2.06 2.06-.94-2.06-.94-.94-2.06-.94 2.06-2.06.94z\"/><path d=\"M17.41 7.96l-1.37-1.37c-.4-.4-.92-.59-1.43-.59-.52 0-1.04.2-1.43.59L10.3 9.45l-7.72 7.72c-.78.78-.78 2.05 0 2.83L4 21.41c.39.39.9.59 1.41.59.51 0 1.02-.2 1.41-.59l7.78-7.78 2.81-2.81c.8-.78.8-2.07 0-2.86zM5.41 20L4 18.59l7.72-7.72 1.47 1.35L5.41 20z\"/>\n",
              "  </svg>\n",
              "      </button>\n",
              "      \n",
              "  <style>\n",
              "    .colab-df-container {\n",
              "      display:flex;\n",
              "      flex-wrap:wrap;\n",
              "      gap: 12px;\n",
              "    }\n",
              "\n",
              "    .colab-df-convert {\n",
              "      background-color: #E8F0FE;\n",
              "      border: none;\n",
              "      border-radius: 50%;\n",
              "      cursor: pointer;\n",
              "      display: none;\n",
              "      fill: #1967D2;\n",
              "      height: 32px;\n",
              "      padding: 0 0 0 0;\n",
              "      width: 32px;\n",
              "    }\n",
              "\n",
              "    .colab-df-convert:hover {\n",
              "      background-color: #E2EBFA;\n",
              "      box-shadow: 0px 1px 2px rgba(60, 64, 67, 0.3), 0px 1px 3px 1px rgba(60, 64, 67, 0.15);\n",
              "      fill: #174EA6;\n",
              "    }\n",
              "\n",
              "    [theme=dark] .colab-df-convert {\n",
              "      background-color: #3B4455;\n",
              "      fill: #D2E3FC;\n",
              "    }\n",
              "\n",
              "    [theme=dark] .colab-df-convert:hover {\n",
              "      background-color: #434B5C;\n",
              "      box-shadow: 0px 1px 3px 1px rgba(0, 0, 0, 0.15);\n",
              "      filter: drop-shadow(0px 1px 2px rgba(0, 0, 0, 0.3));\n",
              "      fill: #FFFFFF;\n",
              "    }\n",
              "  </style>\n",
              "\n",
              "      <script>\n",
              "        const buttonEl =\n",
              "          document.querySelector('#df-987c2cd2-63c2-4657-8da8-8bc56d04cd7b button.colab-df-convert');\n",
              "        buttonEl.style.display =\n",
              "          google.colab.kernel.accessAllowed ? 'block' : 'none';\n",
              "\n",
              "        async function convertToInteractive(key) {\n",
              "          const element = document.querySelector('#df-987c2cd2-63c2-4657-8da8-8bc56d04cd7b');\n",
              "          const dataTable =\n",
              "            await google.colab.kernel.invokeFunction('convertToInteractive',\n",
              "                                                     [key], {});\n",
              "          if (!dataTable) return;\n",
              "\n",
              "          const docLinkHtml = 'Like what you see? Visit the ' +\n",
              "            '<a target=\"_blank\" href=https://colab.research.google.com/notebooks/data_table.ipynb>data table notebook</a>'\n",
              "            + ' to learn more about interactive tables.';\n",
              "          element.innerHTML = '';\n",
              "          dataTable['output_type'] = 'display_data';\n",
              "          await google.colab.output.renderOutput(dataTable, element);\n",
              "          const docLink = document.createElement('div');\n",
              "          docLink.innerHTML = docLinkHtml;\n",
              "          element.appendChild(docLink);\n",
              "        }\n",
              "      </script>\n",
              "    </div>\n",
              "  </div>\n",
              "  "
            ]
          },
          "metadata": {}
        },
        {
          "output_type": "display_data",
          "data": {
            "text/plain": [
              "<Figure size 640x480 with 2 Axes>"
            ],
            "image/png": "[encoded data removed]"
          },
          "metadata": {}
        }
      ]
    },
    {
      "cell_type": "markdown",
      "source": [
        "validation and testing set performance - first model"
      ],
      "metadata": {
        "id": "l9VGhvqzPyit"
      }
    },
    {
      "cell_type": "code",
      "source": [
        "import matplotlib.pyplot as offen_LAN_mlt\n",
        "\n",
        "shape_for_val = [offen_LAN_VL.shape[0]]\n",
        "shape_for_te= [offen_LAN_TS.shape[0]]\n",
        "acy_for_val = [68]\n",
        "acy_for_te= [73]\n",
        "\n",
        "offen_LAN_mlt.scatter(shape_for_val, acy_for_val)\n",
        "offen_LAN_mlt.scatter(shape_for_te, acy_for_te)\n",
        "offen_LAN_mlt.legend([\"val\", \"test\"], loc='upper right', bbox_to_anchor=(1.4, .65))\n",
        "offen_LAN_mlt.title('validation and testing set performance - first model')\n",
        "offen_LAN_mlt.show()"
      ],
      "metadata": {
        "colab": {
          "base_uri": "https://localhost:8080/",
          "height": 452
        },
        "id": "_lK905VMD6iS",
        "outputId": "b8f520a3-0e81-4992-c2ad-c05e5427531b"
      },
      "execution_count": 55,
      "outputs": [
        {
          "output_type": "display_data",
          "data": {
            "text/plain": [
              "<Figure size 640x480 with 1 Axes>"
            ],
            "image/png": "[encoded data removed]"
          },
          "metadata": {}
        }
      ]
    },
    {
      "cell_type": "markdown",
      "source": [
        "accuracy is low for validation data in first model implementation."
      ],
      "metadata": {
        "id": "_nt1ZyWtR5-n"
      }
    },
    {
      "cell_type": "markdown",
      "source": [
        "validation and testing set performance - second model"
      ],
      "metadata": {
        "id": "fVfqAmZOP19s"
      }
    },
    {
      "cell_type": "code",
      "source": [
        "acy_for_val = [68]\n",
        "acy_for_te= [68]\n",
        "\n",
        "offen_LAN_mlt.scatter(shape_for_val, acy_for_val)\n",
        "offen_LAN_mlt.scatter(shape_for_te, acy_for_te)\n",
        "offen_LAN_mlt.legend([\"val\", \"test\"], loc='upper right', bbox_to_anchor=(1.3, .65))\n",
        "offen_LAN_mlt.title('validation and testing set performance - second model')\n",
        "offen_LAN_mlt.show()"
      ],
      "metadata": {
        "colab": {
          "base_uri": "https://localhost:8080/",
          "height": 452
        },
        "id": "l8Z8gKTLPoZ-",
        "outputId": "3b0e3208-6fbb-4c3e-af7e-9e121960b921"
      },
      "execution_count": 56,
      "outputs": [
        {
          "output_type": "display_data",
          "data": {
            "text/plain": [
              "<Figure size 640x480 with 1 Axes>"
            ],
            "image/png": "[encoded data removed]"
          },
          "metadata": {}
        }
      ]
    },
    {
      "cell_type": "markdown",
      "source": [
        "Both validation & test data accuracy is equal for in second model implementation."
      ],
      "metadata": {
        "id": "Z7d8771QSOf3"
      }
    },
    {
      "cell_type": "markdown",
      "source": [
        "## Five different offensive language data - Example task"
      ],
      "metadata": {
        "id": "u3OOy-37S-pq"
      }
    },
    {
      "cell_type": "code",
      "source": [
        "\"\"\"the below functions includes all the necessary steps like preprocessing data splitting\"\"\"\n",
        "\n",
        "def percentage(da_fm): \n",
        "  SZ= [0.75, 0.50, 0.25, 1]\n",
        "  for D in SZ:\n",
        "    da_fme = offen_LANsli(da_fm, test_size= D, random_state=2202392) \n",
        "    da_fme= da_fme[0]\n",
        "    offen_LAN_in= TFIdf(da_fme[da_fme.columns[0]])\n",
        "    offen_LAN_ot= da_fme[da_fme.columns[1]]\n",
        "    print(da_fme.shape)\n",
        "    SVM_M(da_fme)\n",
        "    LR_M(da_fme)\n",
        "    print(\"\\n\\n\")\n",
        "\n",
        "##  function - preprocess procedure\n",
        "def nan(da_fm):\n",
        "  if da_fm.isnull().values.any()==True:\n",
        "     da_fm=da_fm.dropna()\n",
        "\n",
        "def repeated(da_fm):\n",
        "  if da_fm[da_fm.duplicated()].shape[0]==0:\n",
        "     da_fm=da_fm.drop_duplicates()\n",
        "\n",
        "def SVM_M(da_fm): # model-1\n",
        "\n",
        "  from sklearn.metrics import confusion_matrix as offen_LANfucon\n",
        "  offen_LAN_in= da_fm[da_fm.columns[0]]\n",
        "  offen_LAN_in= TFIdf(offen_LAN_in)\n",
        "  offen_LAN_ot= da_fm[da_fm.columns[1]]\n",
        "  \n",
        "  offen_LAN_in1, offen_LAN_in2, offen_LAN_ot1, offen_LAN_ot2 = offen_LANsli(offen_LAN_in, offen_LAN_ot, test_size= 0.30, random_state=2202392)\n",
        "  first_mod = offen_LAN_sv() \n",
        "  first_mod.fit(offen_LAN_in1, offen_LAN_ot1)\n",
        "  \n",
        "  offen_LAN_pdr = first_mod.predict(offen_LAN_in2)\n",
        "  print(offen_LANcsf(offen_LAN_pdr, offen_LAN_ot2))\n",
        "  print(offen_LANoncf(offen_LAN_pdr, offen_LAN_ot2))\n",
        "\n",
        "\n",
        "def LR_M(da_fm): # model-2\n",
        "\n",
        "  from sklearn.metrics import confusion_matrix as offen_LANfucon\n",
        "  offen_LAN_in= da_fm[da_fm.columns[0]]\n",
        "  offen_LAN_in= TFIdf(offen_LAN_in)\n",
        "  offen_LAN_ot= da_fm[da_fm.columns[1]]\n",
        "  offen_LAN_in1, offen_LAN_in2, offen_LAN_ot1, offen_LAN_ot2 = offen_LANsli(offen_LAN_in, offen_LAN_ot, test_size= 0.30, random_state=2202392)\n",
        "\n",
        "  sec_mod = offen_LAN_lr(multi_class='multinomial') \n",
        "  sec_mod.fit(offen_LAN_in1, offen_LAN_ot1)\n",
        "  \n",
        "  offen_LAN_pdr = sec_mod.predict(offen_LAN_in2)\n",
        "  print(offen_LANcsf(offen_LAN_pdr, offen_LAN_ot2))\n",
        "  print(offen_LANoncf(offen_LAN_pdr, offen_LAN_ot2))"
      ],
      "metadata": {
        "id": "qO2yv4PTTGtW"
      },
      "execution_count": 57,
      "outputs": []
    },
    {
      "cell_type": "markdown",
      "source": [
        "Example-1"
      ],
      "metadata": {
        "id": "6uPcoYl3WV-S"
      }
    },
    {
      "cell_type": "code",
      "source": [
        "Example1 = offen_LANpa.read_csv('/content/drive/MyDrive/CE807/Assignment 2/2202392/2019-05-28_portuguese_hate_speech_binary_classification.csv')\n",
        "Example1= Example1[['text', 'hatespeech_comb']]\n",
        "Example1 = Example1.replace([0, 1],['NOT', 'OFF'])\n",
        "nan(Example1)\n",
        "repeated(Example1)\n",
        "Example1"
      ],
      "metadata": {
        "colab": {
          "base_uri": "https://localhost:8080/",
          "height": 423
        },
        "id": "8pdjAbecWdj3",
        "outputId": "260b8e9a-a9e1-4d52-876c-b6a1441146b6"
      },
      "execution_count": 58,
      "outputs": [
        {
          "output_type": "execute_result",
          "data": {
            "text/plain": [
              "                                                   text hatespeech_comb\n",
              "0     @__andrea__b \\nO cara vive em outro mundo\\nNão...             OFF\n",
              "1     @_carmeloneto Estes incompetentes não cuidam n...             NOT\n",
              "2     @_carmeloneto \\nOs 'cumpanhero' quebraram toda...             NOT\n",
              "3     @_GlitteryKisses é isso não conseguem pensar n...             NOT\n",
              "4                   @_iglira bom dia macaco branco haha             OFF\n",
              "...                                                 ...             ...\n",
              "5665  @zecarlosantos2 é o unico que nao se corrompe....             NOT\n",
              "5666  @zqkitowz sei das cotas, mas não sabia disso, ...             OFF\n",
              "5667  @zqkitowz sim, a maioria do eleitorado é mulhe...             NOT\n",
              "5668  @zurcju seguir no tt é facíl, apresentar as am...             OFF\n",
              "5669  na vdd a culpa é do menino de 11 anos otário q...             OFF\n",
              "\n",
              "[5670 rows x 2 columns]"
            ],
            "text/html": [
              "\n",
              "  <div id=\"df-2bcca1f4-efa5-45a5-9da6-0e4b7ec75f44\">\n",
              "    <div class=\"colab-df-container\">\n",
              "      <div>\n",
              "<style scoped>\n",
              "    .dataframe tbody tr th:only-of-type {\n",
              "        vertical-align: middle;\n",
              "    }\n",
              "\n",
              "    .dataframe tbody tr th {\n",
              "        vertical-align: top;\n",
              "    }\n",
              "\n",
              "    .dataframe thead th {\n",
              "        text-align: right;\n",
              "    }\n",
              "</style>\n",
              "<table border=\"1\" class=\"dataframe\">\n",
              "  <thead>\n",
              "    <tr style=\"text-align: right;\">\n",
              "      <th></th>\n",
              "      <th>text</th>\n",
              "      <th>hatespeech_comb</th>\n",
              "    </tr>\n",
              "  </thead>\n",
              "  <tbody>\n",
              "    <tr>\n",
              "      <th>0</th>\n",
              "      <td>@__andrea__b \\nO cara vive em outro mundo\\nNão...</td>\n",
              "      <td>OFF</td>\n",
              "    </tr>\n",
              "    <tr>\n",
              "      <th>1</th>\n",
              "      <td>@_carmeloneto Estes incompetentes não cuidam n...</td>\n",
              "      <td>NOT</td>\n",
              "    </tr>\n",
              "    <tr>\n",
              "      <th>2</th>\n",
              "      <td>@_carmeloneto \\nOs 'cumpanhero' quebraram toda...</td>\n",
              "      <td>NOT</td>\n",
              "    </tr>\n",
              "    <tr>\n",
              "      <th>3</th>\n",
              "      <td>@_GlitteryKisses é isso não conseguem pensar n...</td>\n",
              "      <td>NOT</td>\n",
              "    </tr>\n",
              "    <tr>\n",
              "      <th>4</th>\n",
              "      <td>@_iglira bom dia macaco branco haha</td>\n",
              "      <td>OFF</td>\n",
              "    </tr>\n",
              "    <tr>\n",
              "      <th>...</th>\n",
              "      <td>...</td>\n",
              "      <td>...</td>\n",
              "    </tr>\n",
              "    <tr>\n",
              "      <th>5665</th>\n",
              "      <td>@zecarlosantos2 é o unico que nao se corrompe....</td>\n",
              "      <td>NOT</td>\n",
              "    </tr>\n",
              "    <tr>\n",
              "      <th>5666</th>\n",
              "      <td>@zqkitowz sei das cotas, mas não sabia disso, ...</td>\n",
              "      <td>OFF</td>\n",
              "    </tr>\n",
              "    <tr>\n",
              "      <th>5667</th>\n",
              "      <td>@zqkitowz sim, a maioria do eleitorado é mulhe...</td>\n",
              "      <td>NOT</td>\n",
              "    </tr>\n",
              "    <tr>\n",
              "      <th>5668</th>\n",
              "      <td>@zurcju seguir no tt é facíl, apresentar as am...</td>\n",
              "      <td>OFF</td>\n",
              "    </tr>\n",
              "    <tr>\n",
              "      <th>5669</th>\n",
              "      <td>na vdd a culpa é do menino de 11 anos otário q...</td>\n",
              "      <td>OFF</td>\n",
              "    </tr>\n",
              "  </tbody>\n",
              "</table>\n",
              "<p>5670 rows × 2 columns</p>\n",
              "</div>\n",
              "      <button class=\"colab-df-convert\" onclick=\"convertToInteractive('df-2bcca1f4-efa5-45a5-9da6-0e4b7ec75f44')\"\n",
              "              title=\"Convert this dataframe to an interactive table.\"\n",
              "              style=\"display:none;\">\n",
              "        \n",
              "  <svg xmlns=\"http://www.w3.org/2000/svg\" height=\"24px\"viewBox=\"0 0 24 24\"\n",
              "       width=\"24px\">\n",
              "    <path d=\"M0 0h24v24H0V0z\" fill=\"none\"/>\n",
              "    <path d=\"M18.56 5.44l.94 2.06.94-2.06 2.06-.94-2.06-.94-.94-2.06-.94 2.06-2.06.94zm-11 1L8.5 8.5l.94-2.06 2.06-.94-2.06-.94L8.5 2.5l-.94 2.06-2.06.94zm10 10l.94 2.06.94-2.06 2.06-.94-2.06-.94-.94-2.06-.94 2.06-2.06.94z\"/><path d=\"M17.41 7.96l-1.37-1.37c-.4-.4-.92-.59-1.43-.59-.52 0-1.04.2-1.43.59L10.3 9.45l-7.72 7.72c-.78.78-.78 2.05 0 2.83L4 21.41c.39.39.9.59 1.41.59.51 0 1.02-.2 1.41-.59l7.78-7.78 2.81-2.81c.8-.78.8-2.07 0-2.86zM5.41 20L4 18.59l7.72-7.72 1.47 1.35L5.41 20z\"/>\n",
              "  </svg>\n",
              "      </button>\n",
              "      \n",
              "  <style>\n",
              "    .colab-df-container {\n",
              "      display:flex;\n",
              "      flex-wrap:wrap;\n",
              "      gap: 12px;\n",
              "    }\n",
              "\n",
              "    .colab-df-convert {\n",
              "      background-color: #E8F0FE;\n",
              "      border: none;\n",
              "      border-radius: 50%;\n",
              "      cursor: pointer;\n",
              "      display: none;\n",
              "      fill: #1967D2;\n",
              "      height: 32px;\n",
              "      padding: 0 0 0 0;\n",
              "      width: 32px;\n",
              "    }\n",
              "\n",
              "    .colab-df-convert:hover {\n",
              "      background-color: #E2EBFA;\n",
              "      box-shadow: 0px 1px 2px rgba(60, 64, 67, 0.3), 0px 1px 3px 1px rgba(60, 64, 67, 0.15);\n",
              "      fill: #174EA6;\n",
              "    }\n",
              "\n",
              "    [theme=dark] .colab-df-convert {\n",
              "      background-color: #3B4455;\n",
              "      fill: #D2E3FC;\n",
              "    }\n",
              "\n",
              "    [theme=dark] .colab-df-convert:hover {\n",
              "      background-color: #434B5C;\n",
              "      box-shadow: 0px 1px 3px 1px rgba(0, 0, 0, 0.15);\n",
              "      filter: drop-shadow(0px 1px 2px rgba(0, 0, 0, 0.3));\n",
              "      fill: #FFFFFF;\n",
              "    }\n",
              "  </style>\n",
              "\n",
              "      <script>\n",
              "        const buttonEl =\n",
              "          document.querySelector('#df-2bcca1f4-efa5-45a5-9da6-0e4b7ec75f44 button.colab-df-convert');\n",
              "        buttonEl.style.display =\n",
              "          google.colab.kernel.accessAllowed ? 'block' : 'none';\n",
              "\n",
              "        async function convertToInteractive(key) {\n",
              "          const element = document.querySelector('#df-2bcca1f4-efa5-45a5-9da6-0e4b7ec75f44');\n",
              "          const dataTable =\n",
              "            await google.colab.kernel.invokeFunction('convertToInteractive',\n",
              "                                                     [key], {});\n",
              "          if (!dataTable) return;\n",
              "\n",
              "          const docLinkHtml = 'Like what you see? Visit the ' +\n",
              "            '<a target=\"_blank\" href=https://colab.research.google.com/notebooks/data_table.ipynb>data table notebook</a>'\n",
              "            + ' to learn more about interactive tables.';\n",
              "          element.innerHTML = '';\n",
              "          dataTable['output_type'] = 'display_data';\n",
              "          await google.colab.output.renderOutput(dataTable, element);\n",
              "          const docLink = document.createElement('div');\n",
              "          docLink.innerHTML = docLinkHtml;\n",
              "          element.appendChild(docLink);\n",
              "        }\n",
              "      </script>\n",
              "    </div>\n",
              "  </div>\n",
              "  "
            ]
          },
          "metadata": {},
          "execution_count": 58
        }
      ]
    },
    {
      "cell_type": "code",
      "source": [
        "# calling method-1, 2 for 100% OL_data\n",
        "SVM_M(Example1)\n",
        "LR_M(Example1)"
      ],
      "metadata": {
        "colab": {
          "base_uri": "https://localhost:8080/"
        },
        "id": "_NZyBG7higRi",
        "outputId": "a94ec50e-b3d3-4285-ea22-707d574aec83"
      },
      "execution_count": 59,
      "outputs": [
        {
          "output_type": "stream",
          "name": "stdout",
          "text": [
            "              precision    recall  f1-score   support\n",
            "\n",
            "         NOT       0.99      0.69      0.82      1676\n",
            "         OFF       0.03      0.72      0.06        25\n",
            "\n",
            "    accuracy                           0.69      1701\n",
            "   macro avg       0.51      0.71      0.44      1701\n",
            "weighted avg       0.98      0.69      0.81      1701\n",
            "\n",
            "[[1162  514]\n",
            " [   7   18]]\n",
            "              precision    recall  f1-score   support\n",
            "\n",
            "         NOT       0.96      0.71      0.81      1579\n",
            "         OFF       0.14      0.59      0.22       122\n",
            "\n",
            "    accuracy                           0.70      1701\n",
            "   macro avg       0.55      0.65      0.52      1701\n",
            "weighted avg       0.90      0.70      0.77      1701\n",
            "\n",
            "[[1119  460]\n",
            " [  50   72]]\n"
          ]
        }
      ]
    },
    {
      "cell_type": "code",
      "source": [
        "# for differnt size of data\n",
        "percentage(Example1)"
      ],
      "metadata": {
        "colab": {
          "base_uri": "https://localhost:8080/"
        },
        "id": "XxAh0IIEWdm_",
        "outputId": "6a09e90d-6d06-41b5-e3f6-8c68276f1aed"
      },
      "execution_count": 60,
      "outputs": [
        {
          "output_type": "stream",
          "name": "stdout",
          "text": [
            "(1417, 2)\n",
            "              precision    recall  f1-score   support\n",
            "\n",
            "         NOT       1.00      0.63      0.77       426\n",
            "         OFF       0.00      0.00      0.00         0\n",
            "\n",
            "    accuracy                           0.63       426\n",
            "   macro avg       0.50      0.32      0.39       426\n",
            "weighted avg       1.00      0.63      0.77       426\n",
            "\n",
            "[[269 157]\n",
            " [  0   0]]\n",
            "              precision    recall  f1-score   support\n",
            "\n",
            "         NOT       0.95      0.65      0.77       392\n",
            "         OFF       0.13      0.59      0.21        34\n",
            "\n",
            "    accuracy                           0.65       426\n",
            "   macro avg       0.54      0.62      0.49       426\n",
            "weighted avg       0.88      0.65      0.73       426\n",
            "\n",
            "[[255 137]\n",
            " [ 14  20]]\n",
            "\n",
            "\n",
            "\n",
            "(2835, 2)\n",
            "              precision    recall  f1-score   support\n",
            "\n",
            "         NOT       1.00      0.70      0.82       843\n",
            "         OFF       0.03      0.88      0.05         8\n",
            "\n",
            "    accuracy                           0.70       851\n",
            "   macro avg       0.51      0.79      0.44       851\n",
            "weighted avg       0.99      0.70      0.82       851\n",
            "\n",
            "[[592 251]\n",
            " [  1   7]]\n",
            "              precision    recall  f1-score   support\n",
            "\n",
            "         NOT       0.95      0.72      0.82       781\n",
            "         OFF       0.16      0.57      0.24        70\n",
            "\n",
            "    accuracy                           0.71       851\n",
            "   macro avg       0.55      0.65      0.53       851\n",
            "weighted avg       0.88      0.71      0.77       851\n",
            "\n",
            "[[563 218]\n",
            " [ 30  40]]\n",
            "\n",
            "\n",
            "\n",
            "(4252, 2)\n",
            "              precision    recall  f1-score   support\n",
            "\n",
            "         NOT       0.99      0.68      0.80      1253\n",
            "         OFF       0.04      0.74      0.08        23\n",
            "\n",
            "    accuracy                           0.68      1276\n",
            "   macro avg       0.52      0.71      0.44      1276\n",
            "weighted avg       0.98      0.68      0.79      1276\n",
            "\n",
            "[[846 407]\n",
            " [  6  17]]\n",
            "              precision    recall  f1-score   support\n",
            "\n",
            "         NOT       0.95      0.68      0.79      1194\n",
            "         OFF       0.09      0.49      0.16        82\n",
            "\n",
            "    accuracy                           0.67      1276\n",
            "   macro avg       0.52      0.58      0.47      1276\n",
            "weighted avg       0.90      0.67      0.75      1276\n",
            "\n",
            "[[810 384]\n",
            " [ 42  40]]\n",
            "\n",
            "\n",
            "\n",
            "(5669, 2)\n",
            "              precision    recall  f1-score   support\n",
            "\n",
            "         NOT       0.99      0.69      0.82      1682\n",
            "         OFF       0.02      0.63      0.04        19\n",
            "\n",
            "    accuracy                           0.69      1701\n",
            "   macro avg       0.51      0.66      0.43      1701\n",
            "weighted avg       0.98      0.69      0.81      1701\n",
            "\n",
            "[[1165  517]\n",
            " [   7   12]]\n",
            "              precision    recall  f1-score   support\n",
            "\n",
            "         NOT       0.95      0.71      0.81      1574\n",
            "         OFF       0.13      0.56      0.22       127\n",
            "\n",
            "    accuracy                           0.70      1701\n",
            "   macro avg       0.54      0.63      0.51      1701\n",
            "weighted avg       0.89      0.70      0.77      1701\n",
            "\n",
            "[[1116  458]\n",
            " [  56   71]]\n",
            "\n",
            "\n",
            "\n"
          ]
        }
      ]
    },
    {
      "cell_type": "markdown",
      "source": [
        "Example-2"
      ],
      "metadata": {
        "id": "JQFg_MlOWWBo"
      }
    },
    {
      "cell_type": "code",
      "source": [
        "Example2 = offen_LANpa.read_csv('/content/drive/MyDrive/CE807/Assignment 2/2202392/XHate999-DE-Wul.txt', delimiter ='\\t', encoding='latin-1')\n",
        "Example2.drop(index=Example2.index[0], axis=0, inplace=True)\n",
        "Example2 = Example2.replace([0, 1],['NOT', 'OFF'])\n",
        "nan(Example2)\n",
        "repeated(Example2)\n",
        "Example2"
      ],
      "metadata": {
        "colab": {
          "base_uri": "https://localhost:8080/",
          "height": 423
        },
        "id": "OOhYMpJGi_3B",
        "outputId": "30b08e44-0477-4b4c-8f40-c2c1480e4341"
      },
      "execution_count": 61,
      "outputs": [
        {
          "output_type": "execute_result",
          "data": {
            "text/plain": [
              "                                           translation label\n",
              "1     \"`== WER greift WEN an == WIE AUCH IMMER, DIE...     1\n",
              "2    Â Â == hallo kannadiga schÃ¤m dich == Du siehs...     1\n",
              "3          Â Â Ich habe einen anderen letzten OR diff.     0\n",
              "4    `== Korrektur gelesen von Frank Trigg == Hallo...     0\n",
              "5    Â Â Nicht nachdem, KLUGSCHEIÃER. Falls Sie es...     1\n",
              "..                                                 ...   ...\n",
              "596  `== Ludwig von Salm-Hoogstraeten == ICh bin da...     0\n",
              "597  Â Â ::: Wenn Sie in der Dusche nach unten scha...     1\n",
              "598         Â - Ryda Wong ist ein Arschloch ZerstÃ¶rer     1\n",
              "599  Â == Ã¼brigens == dies ist ein UniversitÃ¤ts C...     1\n",
              "600  Â Â ==Danke== Danke fÃ¼r die Entsperrung. FÃ¼r...     0\n",
              "\n",
              "[600 rows x 2 columns]"
            ],
            "text/html": [
              "\n",
              "  <div id=\"df-e373650e-39bc-4d57-9ca3-87896d6a6bee\">\n",
              "    <div class=\"colab-df-container\">\n",
              "      <div>\n",
              "<style scoped>\n",
              "    .dataframe tbody tr th:only-of-type {\n",
              "        vertical-align: middle;\n",
              "    }\n",
              "\n",
              "    .dataframe tbody tr th {\n",
              "        vertical-align: top;\n",
              "    }\n",
              "\n",
              "    .dataframe thead th {\n",
              "        text-align: right;\n",
              "    }\n",
              "</style>\n",
              "<table border=\"1\" class=\"dataframe\">\n",
              "  <thead>\n",
              "    <tr style=\"text-align: right;\">\n",
              "      <th></th>\n",
              "      <th>translation</th>\n",
              "      <th>label</th>\n",
              "    </tr>\n",
              "  </thead>\n",
              "  <tbody>\n",
              "    <tr>\n",
              "      <th>1</th>\n",
              "      <td>\"`== WER greift WEN an == WIE AUCH IMMER, DIE...</td>\n",
              "      <td>1</td>\n",
              "    </tr>\n",
              "    <tr>\n",
              "      <th>2</th>\n",
              "      <td>Â Â == hallo kannadiga schÃ¤m dich == Du siehs...</td>\n",
              "      <td>1</td>\n",
              "    </tr>\n",
              "    <tr>\n",
              "      <th>3</th>\n",
              "      <td>Â Â Ich habe einen anderen letzten OR diff.</td>\n",
              "      <td>0</td>\n",
              "    </tr>\n",
              "    <tr>\n",
              "      <th>4</th>\n",
              "      <td>`== Korrektur gelesen von Frank Trigg == Hallo...</td>\n",
              "      <td>0</td>\n",
              "    </tr>\n",
              "    <tr>\n",
              "      <th>5</th>\n",
              "      <td>Â Â Nicht nachdem, KLUGSCHEIÃER. Falls Sie es...</td>\n",
              "      <td>1</td>\n",
              "    </tr>\n",
              "    <tr>\n",
              "      <th>...</th>\n",
              "      <td>...</td>\n",
              "      <td>...</td>\n",
              "    </tr>\n",
              "    <tr>\n",
              "      <th>596</th>\n",
              "      <td>`== Ludwig von Salm-Hoogstraeten == ICh bin da...</td>\n",
              "      <td>0</td>\n",
              "    </tr>\n",
              "    <tr>\n",
              "      <th>597</th>\n",
              "      <td>Â Â ::: Wenn Sie in der Dusche nach unten scha...</td>\n",
              "      <td>1</td>\n",
              "    </tr>\n",
              "    <tr>\n",
              "      <th>598</th>\n",
              "      <td>Â - Ryda Wong ist ein Arschloch ZerstÃ¶rer</td>\n",
              "      <td>1</td>\n",
              "    </tr>\n",
              "    <tr>\n",
              "      <th>599</th>\n",
              "      <td>Â == Ã¼brigens == dies ist ein UniversitÃ¤ts C...</td>\n",
              "      <td>1</td>\n",
              "    </tr>\n",
              "    <tr>\n",
              "      <th>600</th>\n",
              "      <td>Â Â ==Danke== Danke fÃ¼r die Entsperrung. FÃ¼r...</td>\n",
              "      <td>0</td>\n",
              "    </tr>\n",
              "  </tbody>\n",
              "</table>\n",
              "<p>600 rows × 2 columns</p>\n",
              "</div>\n",
              "      <button class=\"colab-df-convert\" onclick=\"convertToInteractive('df-e373650e-39bc-4d57-9ca3-87896d6a6bee')\"\n",
              "              title=\"Convert this dataframe to an interactive table.\"\n",
              "              style=\"display:none;\">\n",
              "        \n",
              "  <svg xmlns=\"http://www.w3.org/2000/svg\" height=\"24px\"viewBox=\"0 0 24 24\"\n",
              "       width=\"24px\">\n",
              "    <path d=\"M0 0h24v24H0V0z\" fill=\"none\"/>\n",
              "    <path d=\"M18.56 5.44l.94 2.06.94-2.06 2.06-.94-2.06-.94-.94-2.06-.94 2.06-2.06.94zm-11 1L8.5 8.5l.94-2.06 2.06-.94-2.06-.94L8.5 2.5l-.94 2.06-2.06.94zm10 10l.94 2.06.94-2.06 2.06-.94-2.06-.94-.94-2.06-.94 2.06-2.06.94z\"/><path d=\"M17.41 7.96l-1.37-1.37c-.4-.4-.92-.59-1.43-.59-.52 0-1.04.2-1.43.59L10.3 9.45l-7.72 7.72c-.78.78-.78 2.05 0 2.83L4 21.41c.39.39.9.59 1.41.59.51 0 1.02-.2 1.41-.59l7.78-7.78 2.81-2.81c.8-.78.8-2.07 0-2.86zM5.41 20L4 18.59l7.72-7.72 1.47 1.35L5.41 20z\"/>\n",
              "  </svg>\n",
              "      </button>\n",
              "      \n",
              "  <style>\n",
              "    .colab-df-container {\n",
              "      display:flex;\n",
              "      flex-wrap:wrap;\n",
              "      gap: 12px;\n",
              "    }\n",
              "\n",
              "    .colab-df-convert {\n",
              "      background-color: #E8F0FE;\n",
              "      border: none;\n",
              "      border-radius: 50%;\n",
              "      cursor: pointer;\n",
              "      display: none;\n",
              "      fill: #1967D2;\n",
              "      height: 32px;\n",
              "      padding: 0 0 0 0;\n",
              "      width: 32px;\n",
              "    }\n",
              "\n",
              "    .colab-df-convert:hover {\n",
              "      background-color: #E2EBFA;\n",
              "      box-shadow: 0px 1px 2px rgba(60, 64, 67, 0.3), 0px 1px 3px 1px rgba(60, 64, 67, 0.15);\n",
              "      fill: #174EA6;\n",
              "    }\n",
              "\n",
              "    [theme=dark] .colab-df-convert {\n",
              "      background-color: #3B4455;\n",
              "      fill: #D2E3FC;\n",
              "    }\n",
              "\n",
              "    [theme=dark] .colab-df-convert:hover {\n",
              "      background-color: #434B5C;\n",
              "      box-shadow: 0px 1px 3px 1px rgba(0, 0, 0, 0.15);\n",
              "      filter: drop-shadow(0px 1px 2px rgba(0, 0, 0, 0.3));\n",
              "      fill: #FFFFFF;\n",
              "    }\n",
              "  </style>\n",
              "\n",
              "      <script>\n",
              "        const buttonEl =\n",
              "          document.querySelector('#df-e373650e-39bc-4d57-9ca3-87896d6a6bee button.colab-df-convert');\n",
              "        buttonEl.style.display =\n",
              "          google.colab.kernel.accessAllowed ? 'block' : 'none';\n",
              "\n",
              "        async function convertToInteractive(key) {\n",
              "          const element = document.querySelector('#df-e373650e-39bc-4d57-9ca3-87896d6a6bee');\n",
              "          const dataTable =\n",
              "            await google.colab.kernel.invokeFunction('convertToInteractive',\n",
              "                                                     [key], {});\n",
              "          if (!dataTable) return;\n",
              "\n",
              "          const docLinkHtml = 'Like what you see? Visit the ' +\n",
              "            '<a target=\"_blank\" href=https://colab.research.google.com/notebooks/data_table.ipynb>data table notebook</a>'\n",
              "            + ' to learn more about interactive tables.';\n",
              "          element.innerHTML = '';\n",
              "          dataTable['output_type'] = 'display_data';\n",
              "          await google.colab.output.renderOutput(dataTable, element);\n",
              "          const docLink = document.createElement('div');\n",
              "          docLink.innerHTML = docLinkHtml;\n",
              "          element.appendChild(docLink);\n",
              "        }\n",
              "      </script>\n",
              "    </div>\n",
              "  </div>\n",
              "  "
            ]
          },
          "metadata": {},
          "execution_count": 61
        }
      ]
    },
    {
      "cell_type": "code",
      "source": [
        "# calling method-1, 2 for 100% OL_data\n",
        "SVM_M(Example2)\n",
        "LR_M(Example2)"
      ],
      "metadata": {
        "colab": {
          "base_uri": "https://localhost:8080/"
        },
        "id": "4iMDv6ArWeLX",
        "outputId": "4dd55e41-ea3f-4603-81c5-cf07fe34f55c"
      },
      "execution_count": 62,
      "outputs": [
        {
          "output_type": "stream",
          "name": "stdout",
          "text": [
            "              precision    recall  f1-score   support\n",
            "\n",
            "           0       0.75      0.61      0.67       113\n",
            "           1       0.50      0.66      0.57        67\n",
            "\n",
            "    accuracy                           0.63       180\n",
            "   macro avg       0.62      0.63      0.62       180\n",
            "weighted avg       0.66      0.63      0.63       180\n",
            "\n",
            "[[69 44]\n",
            " [23 44]]\n",
            "              precision    recall  f1-score   support\n",
            "\n",
            "           0       0.72      0.62      0.67       106\n",
            "           1       0.55      0.65      0.59        74\n",
            "\n",
            "    accuracy                           0.63       180\n",
            "   macro avg       0.63      0.64      0.63       180\n",
            "weighted avg       0.65      0.63      0.64       180\n",
            "\n",
            "[[66 40]\n",
            " [26 48]]\n"
          ]
        }
      ]
    },
    {
      "cell_type": "code",
      "source": [
        "# for differnt size of data\n",
        "percentage(Example2)"
      ],
      "metadata": {
        "colab": {
          "base_uri": "https://localhost:8080/"
        },
        "id": "N7hv-r3tjmfA",
        "outputId": "0319b7a0-101d-4084-a458-139fb47a7884"
      },
      "execution_count": 63,
      "outputs": [
        {
          "output_type": "stream",
          "name": "stdout",
          "text": [
            "(150, 2)\n",
            "              precision    recall  f1-score   support\n",
            "\n",
            "           0       0.24      0.75      0.36         8\n",
            "           1       0.90      0.49      0.63        37\n",
            "\n",
            "    accuracy                           0.53        45\n",
            "   macro avg       0.57      0.62      0.50        45\n",
            "weighted avg       0.78      0.53      0.58        45\n",
            "\n",
            "[[ 6  2]\n",
            " [19 18]]\n",
            "              precision    recall  f1-score   support\n",
            "\n",
            "           0       0.16      0.80      0.27         5\n",
            "           1       0.95      0.47      0.63        40\n",
            "\n",
            "    accuracy                           0.51        45\n",
            "   macro avg       0.55      0.64      0.45        45\n",
            "weighted avg       0.86      0.51      0.59        45\n",
            "\n",
            "[[ 4  1]\n",
            " [21 19]]\n",
            "\n",
            "\n",
            "\n",
            "(300, 2)\n",
            "              precision    recall  f1-score   support\n",
            "\n",
            "           0       0.68      0.69      0.69        49\n",
            "           1       0.62      0.61      0.62        41\n",
            "\n",
            "    accuracy                           0.66        90\n",
            "   macro avg       0.65      0.65      0.65        90\n",
            "weighted avg       0.65      0.66      0.66        90\n",
            "\n",
            "[[34 15]\n",
            " [16 25]]\n",
            "              precision    recall  f1-score   support\n",
            "\n",
            "           0       0.56      0.68      0.62        41\n",
            "           1       0.68      0.55      0.61        49\n",
            "\n",
            "    accuracy                           0.61        90\n",
            "   macro avg       0.62      0.62      0.61        90\n",
            "weighted avg       0.62      0.61      0.61        90\n",
            "\n",
            "[[28 13]\n",
            " [22 27]]\n",
            "\n",
            "\n",
            "\n",
            "(450, 2)\n",
            "              precision    recall  f1-score   support\n",
            "\n",
            "           0       0.73      0.61      0.67        77\n",
            "           1       0.58      0.71      0.64        58\n",
            "\n",
            "    accuracy                           0.65       135\n",
            "   macro avg       0.66      0.66      0.65       135\n",
            "weighted avg       0.67      0.65      0.65       135\n",
            "\n",
            "[[47 30]\n",
            " [17 41]]\n",
            "              precision    recall  f1-score   support\n",
            "\n",
            "           0       0.73      0.61      0.67        77\n",
            "           1       0.58      0.71      0.64        58\n",
            "\n",
            "    accuracy                           0.65       135\n",
            "   macro avg       0.66      0.66      0.65       135\n",
            "weighted avg       0.67      0.65      0.65       135\n",
            "\n",
            "[[47 30]\n",
            " [17 41]]\n",
            "\n",
            "\n",
            "\n",
            "(599, 2)\n",
            "              precision    recall  f1-score   support\n",
            "\n",
            "           0       0.68      0.64      0.66       100\n",
            "           1       0.58      0.62      0.60        80\n",
            "\n",
            "    accuracy                           0.63       180\n",
            "   macro avg       0.63      0.63      0.63       180\n",
            "weighted avg       0.64      0.63      0.63       180\n",
            "\n",
            "[[64 36]\n",
            " [30 50]]\n",
            "              precision    recall  f1-score   support\n",
            "\n",
            "           0       0.67      0.65      0.66        97\n",
            "           1       0.60      0.63      0.62        83\n",
            "\n",
            "    accuracy                           0.64       180\n",
            "   macro avg       0.64      0.64      0.64       180\n",
            "weighted avg       0.64      0.64      0.64       180\n",
            "\n",
            "[[63 34]\n",
            " [31 52]]\n",
            "\n",
            "\n",
            "\n"
          ]
        }
      ]
    },
    {
      "cell_type": "markdown",
      "source": [
        "Example-3"
      ],
      "metadata": {
        "id": "FCTsYgtcWWIe"
      }
    },
    {
      "cell_type": "code",
      "source": [
        "Example3 = offen_LANpa.read_csv('/content/drive/MyDrive/CE807/Assignment 2/2202392/train1.csv')\n",
        "Example3= Example3[['TEXT', 'label']]\n",
        "Example3 = Example3.replace([0, 1],['NOT', 'OFF'])\n",
        "nan(Example3)\n",
        "repeated(Example3)\n",
        "Example3"
      ],
      "metadata": {
        "colab": {
          "base_uri": "https://localhost:8080/",
          "height": 423
        },
        "id": "T4b6EGAzWesW",
        "outputId": "ae2fd444-6374-4c05-8e4e-e93135a94428"
      },
      "execution_count": 64,
      "outputs": [
        {
          "output_type": "execute_result",
          "data": {
            "text/plain": [
              "                                                    TEXT label\n",
              "0      也是，想想物流爆仓等半个月和打砸抢烧丧尸围城一般冒着被黑人胖大妈一屁股坐死的风险半夜2点去门...   OFF\n",
              "1                       说这些。四川人是不是只有喝西北风才健康啊。抛开剂量谈毒性都是垃圾   OFF\n",
              "2      不同构成，有绿绿也有天主教，两样都很多的，有真正非洲黑也有南亚那种黑，不过也没有很多，至少不...   NOT\n",
              "3                                                 台湾人这么说   NOT\n",
              "4      曾泽生肯定是不稳的，想都想得到。人滇军是被强行绑票到东北了。被扔在长春这个铁桶里饿了大半年，...   NOT\n",
              "...                                                  ...   ...\n",
              "25721  算得上歧视吗，大多数人只是调侃而已。打个比方，你可曾见 过有人故意把河南人或东北人推倒在马路...   OFF\n",
              "25722                                       渣男竟然打女人虐死狗男人   OFF\n",
              "25723  每年总有那么几个小品总要以误会展开剧情，贾玲的那个小品是这样，黑人的那个节目也这样，一直在想...   OFF\n",
              "25724                                     重男轻女的女人是当奴隶当惯了   OFF\n",
              "25725                    完了，如果有真人版r&amp;m，爷俩喜欢的是黑人女孩[发呆]   NOT\n",
              "\n",
              "[25726 rows x 2 columns]"
            ],
            "text/html": [
              "\n",
              "  <div id=\"df-4628994d-d60e-4870-b95b-904ebb0d20bc\">\n",
              "    <div class=\"colab-df-container\">\n",
              "      <div>\n",
              "<style scoped>\n",
              "    .dataframe tbody tr th:only-of-type {\n",
              "        vertical-align: middle;\n",
              "    }\n",
              "\n",
              "    .dataframe tbody tr th {\n",
              "        vertical-align: top;\n",
              "    }\n",
              "\n",
              "    .dataframe thead th {\n",
              "        text-align: right;\n",
              "    }\n",
              "</style>\n",
              "<table border=\"1\" class=\"dataframe\">\n",
              "  <thead>\n",
              "    <tr style=\"text-align: right;\">\n",
              "      <th></th>\n",
              "      <th>TEXT</th>\n",
              "      <th>label</th>\n",
              "    </tr>\n",
              "  </thead>\n",
              "  <tbody>\n",
              "    <tr>\n",
              "      <th>0</th>\n",
              "      <td>也是，想想物流爆仓等半个月和打砸抢烧丧尸围城一般冒着被黑人胖大妈一屁股坐死的风险半夜2点去门...</td>\n",
              "      <td>OFF</td>\n",
              "    </tr>\n",
              "    <tr>\n",
              "      <th>1</th>\n",
              "      <td>说这些。四川人是不是只有喝西北风才健康啊。抛开剂量谈毒性都是垃圾</td>\n",
              "      <td>OFF</td>\n",
              "    </tr>\n",
              "    <tr>\n",
              "      <th>2</th>\n",
              "      <td>不同构成，有绿绿也有天主教，两样都很多的，有真正非洲黑也有南亚那种黑，不过也没有很多，至少不...</td>\n",
              "      <td>NOT</td>\n",
              "    </tr>\n",
              "    <tr>\n",
              "      <th>3</th>\n",
              "      <td>台湾人这么说</td>\n",
              "      <td>NOT</td>\n",
              "    </tr>\n",
              "    <tr>\n",
              "      <th>4</th>\n",
              "      <td>曾泽生肯定是不稳的，想都想得到。人滇军是被强行绑票到东北了。被扔在长春这个铁桶里饿了大半年，...</td>\n",
              "      <td>NOT</td>\n",
              "    </tr>\n",
              "    <tr>\n",
              "      <th>...</th>\n",
              "      <td>...</td>\n",
              "      <td>...</td>\n",
              "    </tr>\n",
              "    <tr>\n",
              "      <th>25721</th>\n",
              "      <td>算得上歧视吗，大多数人只是调侃而已。打个比方，你可曾见 过有人故意把河南人或东北人推倒在马路...</td>\n",
              "      <td>OFF</td>\n",
              "    </tr>\n",
              "    <tr>\n",
              "      <th>25722</th>\n",
              "      <td>渣男竟然打女人虐死狗男人</td>\n",
              "      <td>OFF</td>\n",
              "    </tr>\n",
              "    <tr>\n",
              "      <th>25723</th>\n",
              "      <td>每年总有那么几个小品总要以误会展开剧情，贾玲的那个小品是这样，黑人的那个节目也这样，一直在想...</td>\n",
              "      <td>OFF</td>\n",
              "    </tr>\n",
              "    <tr>\n",
              "      <th>25724</th>\n",
              "      <td>重男轻女的女人是当奴隶当惯了</td>\n",
              "      <td>OFF</td>\n",
              "    </tr>\n",
              "    <tr>\n",
              "      <th>25725</th>\n",
              "      <td>完了，如果有真人版r&amp;amp;m，爷俩喜欢的是黑人女孩[发呆]</td>\n",
              "      <td>NOT</td>\n",
              "    </tr>\n",
              "  </tbody>\n",
              "</table>\n",
              "<p>25726 rows × 2 columns</p>\n",
              "</div>\n",
              "      <button class=\"colab-df-convert\" onclick=\"convertToInteractive('df-4628994d-d60e-4870-b95b-904ebb0d20bc')\"\n",
              "              title=\"Convert this dataframe to an interactive table.\"\n",
              "              style=\"display:none;\">\n",
              "        \n",
              "  <svg xmlns=\"http://www.w3.org/2000/svg\" height=\"24px\"viewBox=\"0 0 24 24\"\n",
              "       width=\"24px\">\n",
              "    <path d=\"M0 0h24v24H0V0z\" fill=\"none\"/>\n",
              "    <path d=\"M18.56 5.44l.94 2.06.94-2.06 2.06-.94-2.06-.94-.94-2.06-.94 2.06-2.06.94zm-11 1L8.5 8.5l.94-2.06 2.06-.94-2.06-.94L8.5 2.5l-.94 2.06-2.06.94zm10 10l.94 2.06.94-2.06 2.06-.94-2.06-.94-.94-2.06-.94 2.06-2.06.94z\"/><path d=\"M17.41 7.96l-1.37-1.37c-.4-.4-.92-.59-1.43-.59-.52 0-1.04.2-1.43.59L10.3 9.45l-7.72 7.72c-.78.78-.78 2.05 0 2.83L4 21.41c.39.39.9.59 1.41.59.51 0 1.02-.2 1.41-.59l7.78-7.78 2.81-2.81c.8-.78.8-2.07 0-2.86zM5.41 20L4 18.59l7.72-7.72 1.47 1.35L5.41 20z\"/>\n",
              "  </svg>\n",
              "      </button>\n",
              "      \n",
              "  <style>\n",
              "    .colab-df-container {\n",
              "      display:flex;\n",
              "      flex-wrap:wrap;\n",
              "      gap: 12px;\n",
              "    }\n",
              "\n",
              "    .colab-df-convert {\n",
              "      background-color: #E8F0FE;\n",
              "      border: none;\n",
              "      border-radius: 50%;\n",
              "      cursor: pointer;\n",
              "      display: none;\n",
              "      fill: #1967D2;\n",
              "      height: 32px;\n",
              "      padding: 0 0 0 0;\n",
              "      width: 32px;\n",
              "    }\n",
              "\n",
              "    .colab-df-convert:hover {\n",
              "      background-color: #E2EBFA;\n",
              "      box-shadow: 0px 1px 2px rgba(60, 64, 67, 0.3), 0px 1px 3px 1px rgba(60, 64, 67, 0.15);\n",
              "      fill: #174EA6;\n",
              "    }\n",
              "\n",
              "    [theme=dark] .colab-df-convert {\n",
              "      background-color: #3B4455;\n",
              "      fill: #D2E3FC;\n",
              "    }\n",
              "\n",
              "    [theme=dark] .colab-df-convert:hover {\n",
              "      background-color: #434B5C;\n",
              "      box-shadow: 0px 1px 3px 1px rgba(0, 0, 0, 0.15);\n",
              "      filter: drop-shadow(0px 1px 2px rgba(0, 0, 0, 0.3));\n",
              "      fill: #FFFFFF;\n",
              "    }\n",
              "  </style>\n",
              "\n",
              "      <script>\n",
              "        const buttonEl =\n",
              "          document.querySelector('#df-4628994d-d60e-4870-b95b-904ebb0d20bc button.colab-df-convert');\n",
              "        buttonEl.style.display =\n",
              "          google.colab.kernel.accessAllowed ? 'block' : 'none';\n",
              "\n",
              "        async function convertToInteractive(key) {\n",
              "          const element = document.querySelector('#df-4628994d-d60e-4870-b95b-904ebb0d20bc');\n",
              "          const dataTable =\n",
              "            await google.colab.kernel.invokeFunction('convertToInteractive',\n",
              "                                                     [key], {});\n",
              "          if (!dataTable) return;\n",
              "\n",
              "          const docLinkHtml = 'Like what you see? Visit the ' +\n",
              "            '<a target=\"_blank\" href=https://colab.research.google.com/notebooks/data_table.ipynb>data table notebook</a>'\n",
              "            + ' to learn more about interactive tables.';\n",
              "          element.innerHTML = '';\n",
              "          dataTable['output_type'] = 'display_data';\n",
              "          await google.colab.output.renderOutput(dataTable, element);\n",
              "          const docLink = document.createElement('div');\n",
              "          docLink.innerHTML = docLinkHtml;\n",
              "          element.appendChild(docLink);\n",
              "        }\n",
              "      </script>\n",
              "    </div>\n",
              "  </div>\n",
              "  "
            ]
          },
          "metadata": {},
          "execution_count": 64
        }
      ]
    },
    {
      "cell_type": "code",
      "source": [
        "# calling method-1, 2 for 100% OL_data\n",
        "SVM_M(Example3)\n",
        "LR_M(Example3)"
      ],
      "metadata": {
        "colab": {
          "base_uri": "https://localhost:8080/"
        },
        "id": "ZZH0uG7lWevM",
        "outputId": "c54df3d9-4576-49d2-a3c1-6555f5cae2b3"
      },
      "execution_count": 65,
      "outputs": [
        {
          "output_type": "stream",
          "name": "stdout",
          "text": [
            "              precision    recall  f1-score   support\n",
            "\n",
            "         NOT       0.22      0.58      0.31      1451\n",
            "         OFF       0.84      0.51      0.64      6267\n",
            "\n",
            "    accuracy                           0.53      7718\n",
            "   macro avg       0.53      0.55      0.48      7718\n",
            "weighted avg       0.72      0.53      0.58      7718\n",
            "\n",
            "[[ 836  615]\n",
            " [3043 3224]]\n",
            "              precision    recall  f1-score   support\n",
            "\n",
            "         NOT       0.22      0.56      0.31      1509\n",
            "         OFF       0.83      0.51      0.63      6209\n",
            "\n",
            "    accuracy                           0.52      7718\n",
            "   macro avg       0.52      0.53      0.47      7718\n",
            "weighted avg       0.71      0.52      0.57      7718\n",
            "\n",
            "[[ 838  671]\n",
            " [3041 3168]]\n"
          ]
        }
      ]
    },
    {
      "cell_type": "code",
      "source": [
        "# for differnt size of data\n",
        "percentage(Example3)"
      ],
      "metadata": {
        "colab": {
          "base_uri": "https://localhost:8080/"
        },
        "id": "Q6HVwkNujnRP",
        "outputId": "1bc6fc1e-83dc-494e-db96-2a22665af3cb"
      },
      "execution_count": 66,
      "outputs": [
        {
          "output_type": "stream",
          "name": "stdout",
          "text": [
            "(6431, 2)\n",
            "              precision    recall  f1-score   support\n",
            "\n",
            "         NOT       0.21      0.59      0.31       357\n",
            "         OFF       0.84      0.49      0.62      1573\n",
            "\n",
            "    accuracy                           0.51      1930\n",
            "   macro avg       0.52      0.54      0.46      1930\n",
            "weighted avg       0.72      0.51      0.56      1930\n",
            "\n",
            "[[212 145]\n",
            " [810 763]]\n",
            "              precision    recall  f1-score   support\n",
            "\n",
            "         NOT       0.19      0.59      0.29       339\n",
            "         OFF       0.85      0.48      0.61      1591\n",
            "\n",
            "    accuracy                           0.50      1930\n",
            "   macro avg       0.52      0.53      0.45      1930\n",
            "weighted avg       0.73      0.50      0.56      1930\n",
            "\n",
            "[[199 140]\n",
            " [823 768]]\n",
            "\n",
            "\n",
            "\n",
            "(12863, 2)\n",
            "              precision    recall  f1-score   support\n",
            "\n",
            "         NOT       0.20      0.56      0.30       712\n",
            "         OFF       0.83      0.51      0.63      3147\n",
            "\n",
            "    accuracy                           0.52      3859\n",
            "   macro avg       0.52      0.53      0.46      3859\n",
            "weighted avg       0.72      0.52      0.57      3859\n",
            "\n",
            "[[ 396  316]\n",
            " [1552 1595]]\n",
            "              precision    recall  f1-score   support\n",
            "\n",
            "         NOT       0.19      0.54      0.28       694\n",
            "         OFF       0.83      0.50      0.63      3165\n",
            "\n",
            "    accuracy                           0.51      3859\n",
            "   macro avg       0.51      0.52      0.45      3859\n",
            "weighted avg       0.72      0.51      0.57      3859\n",
            "\n",
            "[[ 374  320]\n",
            " [1574 1591]]\n",
            "\n",
            "\n",
            "\n",
            "(19294, 2)\n",
            "              precision    recall  f1-score   support\n",
            "\n",
            "         NOT       0.20      0.56      0.29      1037\n",
            "         OFF       0.84      0.51      0.63      4752\n",
            "\n",
            "    accuracy                           0.52      5789\n",
            "   macro avg       0.52      0.53      0.46      5789\n",
            "weighted avg       0.72      0.52      0.57      5789\n",
            "\n",
            "[[ 578  459]\n",
            " [2344 2408]]\n",
            "              precision    recall  f1-score   support\n",
            "\n",
            "         NOT       0.20      0.55      0.29      1079\n",
            "         OFF       0.83      0.50      0.63      4710\n",
            "\n",
            "    accuracy                           0.51      5789\n",
            "   macro avg       0.52      0.53      0.46      5789\n",
            "weighted avg       0.71      0.51      0.57      5789\n",
            "\n",
            "[[ 590  489]\n",
            " [2332 2378]]\n",
            "\n",
            "\n",
            "\n",
            "(25725, 2)\n",
            "              precision    recall  f1-score   support\n",
            "\n",
            "         NOT       0.20      0.56      0.29      1396\n",
            "         OFF       0.84      0.51      0.63      6322\n",
            "\n",
            "    accuracy                           0.52      7718\n",
            "   macro avg       0.52      0.53      0.46      7718\n",
            "weighted avg       0.72      0.52      0.57      7718\n",
            "\n",
            "[[ 775  621]\n",
            " [3093 3229]]\n",
            "              precision    recall  f1-score   support\n",
            "\n",
            "         NOT       0.20      0.54      0.30      1455\n",
            "         OFF       0.83      0.51      0.63      6263\n",
            "\n",
            "    accuracy                           0.52      7718\n",
            "   macro avg       0.52      0.53      0.46      7718\n",
            "weighted avg       0.71      0.52      0.57      7718\n",
            "\n",
            "[[ 791  664]\n",
            " [3077 3186]]\n",
            "\n",
            "\n",
            "\n"
          ]
        }
      ]
    },
    {
      "cell_type": "markdown",
      "source": [
        "Example-4"
      ],
      "metadata": {
        "id": "ciLK-FiIWWNX"
      }
    },
    {
      "cell_type": "code",
      "source": [
        "Example4 = offen_LANpa.read_csv('/content/drive/MyDrive/CE807/Assignment 2/2202392/XHate999-EN-Trac-dev.txt', delimiter ='\\t', encoding='latin-1')\n",
        "Example4 = Example4.replace([0, 1],['NOT', 'OFF'])\n",
        "nan(Example4)\n",
        "repeated(Example4)\n",
        "Example4"
      ],
      "metadata": {
        "colab": {
          "base_uri": "https://localhost:8080/",
          "height": 423
        },
        "id": "WlK6MJeGWfTZ",
        "outputId": "64c6d0d7-6b51-4be9-ecbb-d00b6ce9cb3f"
      },
      "execution_count": 67,
      "outputs": [
        {
          "output_type": "execute_result",
          "data": {
            "text/plain": [
              "                                                   text label\n",
              "0                   Please join some other clean party.   NOT\n",
              "1     Jsw steel buy or not to buy ??? What is your v...   NOT\n",
              "2     Retard it's BJP but lokpal was bread and butte...   OFF\n",
              "3               you can see his dominance after release   OFF\n",
              "4     Kunder ther is a 50% discount on itch guard fo...   OFF\n",
              "...                                                 ...   ...\n",
              "2588   Hope he doesn't create a ruckus in the train too   OFF\n",
              "2589  Are we not used to stand in queues??? And afte...   OFF\n",
              "2590       Waqar don't teach father wt to do n what not   OFF\n",
              "2591  It is like India Produces more than to feed th...   OFF\n",
              "2592  The Tantra Indian Express is talking about \"Mu...   OFF\n",
              "\n",
              "[2593 rows x 2 columns]"
            ],
            "text/html": [
              "\n",
              "  <div id=\"df-05dca89b-8d14-4b71-aabb-73efdd4fd3be\">\n",
              "    <div class=\"colab-df-container\">\n",
              "      <div>\n",
              "<style scoped>\n",
              "    .dataframe tbody tr th:only-of-type {\n",
              "        vertical-align: middle;\n",
              "    }\n",
              "\n",
              "    .dataframe tbody tr th {\n",
              "        vertical-align: top;\n",
              "    }\n",
              "\n",
              "    .dataframe thead th {\n",
              "        text-align: right;\n",
              "    }\n",
              "</style>\n",
              "<table border=\"1\" class=\"dataframe\">\n",
              "  <thead>\n",
              "    <tr style=\"text-align: right;\">\n",
              "      <th></th>\n",
              "      <th>text</th>\n",
              "      <th>label</th>\n",
              "    </tr>\n",
              "  </thead>\n",
              "  <tbody>\n",
              "    <tr>\n",
              "      <th>0</th>\n",
              "      <td>Please join some other clean party.</td>\n",
              "      <td>NOT</td>\n",
              "    </tr>\n",
              "    <tr>\n",
              "      <th>1</th>\n",
              "      <td>Jsw steel buy or not to buy ??? What is your v...</td>\n",
              "      <td>NOT</td>\n",
              "    </tr>\n",
              "    <tr>\n",
              "      <th>2</th>\n",
              "      <td>Retard it's BJP but lokpal was bread and butte...</td>\n",
              "      <td>OFF</td>\n",
              "    </tr>\n",
              "    <tr>\n",
              "      <th>3</th>\n",
              "      <td>you can see his dominance after release</td>\n",
              "      <td>OFF</td>\n",
              "    </tr>\n",
              "    <tr>\n",
              "      <th>4</th>\n",
              "      <td>Kunder ther is a 50% discount on itch guard fo...</td>\n",
              "      <td>OFF</td>\n",
              "    </tr>\n",
              "    <tr>\n",
              "      <th>...</th>\n",
              "      <td>...</td>\n",
              "      <td>...</td>\n",
              "    </tr>\n",
              "    <tr>\n",
              "      <th>2588</th>\n",
              "      <td>Hope he doesn't create a ruckus in the train too</td>\n",
              "      <td>OFF</td>\n",
              "    </tr>\n",
              "    <tr>\n",
              "      <th>2589</th>\n",
              "      <td>Are we not used to stand in queues??? And afte...</td>\n",
              "      <td>OFF</td>\n",
              "    </tr>\n",
              "    <tr>\n",
              "      <th>2590</th>\n",
              "      <td>Waqar don't teach father wt to do n what not</td>\n",
              "      <td>OFF</td>\n",
              "    </tr>\n",
              "    <tr>\n",
              "      <th>2591</th>\n",
              "      <td>It is like India Produces more than to feed th...</td>\n",
              "      <td>OFF</td>\n",
              "    </tr>\n",
              "    <tr>\n",
              "      <th>2592</th>\n",
              "      <td>The Tantra Indian Express is talking about \"Mu...</td>\n",
              "      <td>OFF</td>\n",
              "    </tr>\n",
              "  </tbody>\n",
              "</table>\n",
              "<p>2593 rows × 2 columns</p>\n",
              "</div>\n",
              "      <button class=\"colab-df-convert\" onclick=\"convertToInteractive('df-05dca89b-8d14-4b71-aabb-73efdd4fd3be')\"\n",
              "              title=\"Convert this dataframe to an interactive table.\"\n",
              "              style=\"display:none;\">\n",
              "        \n",
              "  <svg xmlns=\"http://www.w3.org/2000/svg\" height=\"24px\"viewBox=\"0 0 24 24\"\n",
              "       width=\"24px\">\n",
              "    <path d=\"M0 0h24v24H0V0z\" fill=\"none\"/>\n",
              "    <path d=\"M18.56 5.44l.94 2.06.94-2.06 2.06-.94-2.06-.94-.94-2.06-.94 2.06-2.06.94zm-11 1L8.5 8.5l.94-2.06 2.06-.94-2.06-.94L8.5 2.5l-.94 2.06-2.06.94zm10 10l.94 2.06.94-2.06 2.06-.94-2.06-.94-.94-2.06-.94 2.06-2.06.94z\"/><path d=\"M17.41 7.96l-1.37-1.37c-.4-.4-.92-.59-1.43-.59-.52 0-1.04.2-1.43.59L10.3 9.45l-7.72 7.72c-.78.78-.78 2.05 0 2.83L4 21.41c.39.39.9.59 1.41.59.51 0 1.02-.2 1.41-.59l7.78-7.78 2.81-2.81c.8-.78.8-2.07 0-2.86zM5.41 20L4 18.59l7.72-7.72 1.47 1.35L5.41 20z\"/>\n",
              "  </svg>\n",
              "      </button>\n",
              "      \n",
              "  <style>\n",
              "    .colab-df-container {\n",
              "      display:flex;\n",
              "      flex-wrap:wrap;\n",
              "      gap: 12px;\n",
              "    }\n",
              "\n",
              "    .colab-df-convert {\n",
              "      background-color: #E8F0FE;\n",
              "      border: none;\n",
              "      border-radius: 50%;\n",
              "      cursor: pointer;\n",
              "      display: none;\n",
              "      fill: #1967D2;\n",
              "      height: 32px;\n",
              "      padding: 0 0 0 0;\n",
              "      width: 32px;\n",
              "    }\n",
              "\n",
              "    .colab-df-convert:hover {\n",
              "      background-color: #E2EBFA;\n",
              "      box-shadow: 0px 1px 2px rgba(60, 64, 67, 0.3), 0px 1px 3px 1px rgba(60, 64, 67, 0.15);\n",
              "      fill: #174EA6;\n",
              "    }\n",
              "\n",
              "    [theme=dark] .colab-df-convert {\n",
              "      background-color: #3B4455;\n",
              "      fill: #D2E3FC;\n",
              "    }\n",
              "\n",
              "    [theme=dark] .colab-df-convert:hover {\n",
              "      background-color: #434B5C;\n",
              "      box-shadow: 0px 1px 3px 1px rgba(0, 0, 0, 0.15);\n",
              "      filter: drop-shadow(0px 1px 2px rgba(0, 0, 0, 0.3));\n",
              "      fill: #FFFFFF;\n",
              "    }\n",
              "  </style>\n",
              "\n",
              "      <script>\n",
              "        const buttonEl =\n",
              "          document.querySelector('#df-05dca89b-8d14-4b71-aabb-73efdd4fd3be button.colab-df-convert');\n",
              "        buttonEl.style.display =\n",
              "          google.colab.kernel.accessAllowed ? 'block' : 'none';\n",
              "\n",
              "        async function convertToInteractive(key) {\n",
              "          const element = document.querySelector('#df-05dca89b-8d14-4b71-aabb-73efdd4fd3be');\n",
              "          const dataTable =\n",
              "            await google.colab.kernel.invokeFunction('convertToInteractive',\n",
              "                                                     [key], {});\n",
              "          if (!dataTable) return;\n",
              "\n",
              "          const docLinkHtml = 'Like what you see? Visit the ' +\n",
              "            '<a target=\"_blank\" href=https://colab.research.google.com/notebooks/data_table.ipynb>data table notebook</a>'\n",
              "            + ' to learn more about interactive tables.';\n",
              "          element.innerHTML = '';\n",
              "          dataTable['output_type'] = 'display_data';\n",
              "          await google.colab.output.renderOutput(dataTable, element);\n",
              "          const docLink = document.createElement('div');\n",
              "          docLink.innerHTML = docLinkHtml;\n",
              "          element.appendChild(docLink);\n",
              "        }\n",
              "      </script>\n",
              "    </div>\n",
              "  </div>\n",
              "  "
            ]
          },
          "metadata": {},
          "execution_count": 67
        }
      ]
    },
    {
      "cell_type": "code",
      "source": [
        "# calling method-1, 2 for 100% OL_data\n",
        "SVM_M(Example4)\n",
        "LR_M(Example4)"
      ],
      "metadata": {
        "colab": {
          "base_uri": "https://localhost:8080/"
        },
        "id": "FIa8_PeFWfWx",
        "outputId": "c146b109-c517-4598-f7b3-2ccc0df611a8"
      },
      "execution_count": 68,
      "outputs": [
        {
          "output_type": "stream",
          "name": "stdout",
          "text": [
            "              precision    recall  f1-score   support\n",
            "\n",
            "         NOT       0.14      0.61      0.23        76\n",
            "         OFF       0.93      0.60      0.73       702\n",
            "\n",
            "    accuracy                           0.60       778\n",
            "   macro avg       0.54      0.60      0.48       778\n",
            "weighted avg       0.86      0.60      0.68       778\n",
            "\n",
            "[[ 46  30]\n",
            " [280 422]]\n",
            "              precision    recall  f1-score   support\n",
            "\n",
            "         NOT       0.21      0.55      0.31       128\n",
            "         OFF       0.87      0.61      0.72       650\n",
            "\n",
            "    accuracy                           0.60       778\n",
            "   macro avg       0.54      0.58      0.51       778\n",
            "weighted avg       0.76      0.60      0.65       778\n",
            "\n",
            "[[ 70  58]\n",
            " [256 394]]\n"
          ]
        }
      ]
    },
    {
      "cell_type": "code",
      "source": [
        "# for differnt size of data\n",
        "percentage(Example4)"
      ],
      "metadata": {
        "colab": {
          "base_uri": "https://localhost:8080/"
        },
        "id": "w4dmcwIcjoJg",
        "outputId": "ccdd7ae5-0bb0-46dd-86c2-d12de75d5525"
      },
      "execution_count": 69,
      "outputs": [
        {
          "output_type": "stream",
          "name": "stdout",
          "text": [
            "(648, 2)\n",
            "              precision    recall  f1-score   support\n",
            "\n",
            "         NOT       0.06      0.45      0.11        11\n",
            "         OFF       0.95      0.59      0.73       184\n",
            "\n",
            "    accuracy                           0.58       195\n",
            "   macro avg       0.51      0.52      0.42       195\n",
            "weighted avg       0.90      0.58      0.69       195\n",
            "\n",
            "[[  5   6]\n",
            " [ 75 109]]\n",
            "              precision    recall  f1-score   support\n",
            "\n",
            "         NOT       0.15      0.39      0.22        31\n",
            "         OFF       0.83      0.59      0.69       164\n",
            "\n",
            "    accuracy                           0.55       195\n",
            "   macro avg       0.49      0.49      0.45       195\n",
            "weighted avg       0.73      0.55      0.61       195\n",
            "\n",
            "[[12 19]\n",
            " [68 96]]\n",
            "\n",
            "\n",
            "\n",
            "(1296, 2)\n",
            "              precision    recall  f1-score   support\n",
            "\n",
            "         NOT       0.05      0.56      0.10        16\n",
            "         OFF       0.97      0.57      0.72       373\n",
            "\n",
            "    accuracy                           0.57       389\n",
            "   macro avg       0.51      0.57      0.41       389\n",
            "weighted avg       0.93      0.57      0.69       389\n",
            "\n",
            "[[  9   7]\n",
            " [160 213]]\n",
            "              precision    recall  f1-score   support\n",
            "\n",
            "         NOT       0.15      0.58      0.24        45\n",
            "         OFF       0.91      0.58      0.71       344\n",
            "\n",
            "    accuracy                           0.58       389\n",
            "   macro avg       0.53      0.58      0.48       389\n",
            "weighted avg       0.83      0.58      0.66       389\n",
            "\n",
            "[[ 26  19]\n",
            " [143 201]]\n",
            "\n",
            "\n",
            "\n",
            "(1944, 2)\n",
            "              precision    recall  f1-score   support\n",
            "\n",
            "         NOT       0.12      0.57      0.19        49\n",
            "         OFF       0.94      0.60      0.73       535\n",
            "\n",
            "    accuracy                           0.60       584\n",
            "   macro avg       0.53      0.59      0.46       584\n",
            "weighted avg       0.87      0.60      0.69       584\n",
            "\n",
            "[[ 28  21]\n",
            " [214 321]]\n",
            "              precision    recall  f1-score   support\n",
            "\n",
            "         NOT       0.20      0.61      0.30        79\n",
            "         OFF       0.91      0.62      0.73       505\n",
            "\n",
            "    accuracy                           0.61       584\n",
            "   macro avg       0.55      0.61      0.52       584\n",
            "weighted avg       0.81      0.61      0.68       584\n",
            "\n",
            "[[ 48  31]\n",
            " [194 311]]\n",
            "\n",
            "\n",
            "\n",
            "(2592, 2)\n",
            "              precision    recall  f1-score   support\n",
            "\n",
            "         NOT       0.18      0.50      0.26       103\n",
            "         OFF       0.89      0.64      0.75       675\n",
            "\n",
            "    accuracy                           0.62       778\n",
            "   macro avg       0.54      0.57      0.50       778\n",
            "weighted avg       0.80      0.62      0.68       778\n",
            "\n",
            "[[ 52  51]\n",
            " [243 432]]\n",
            "              precision    recall  f1-score   support\n",
            "\n",
            "         NOT       0.25      0.50      0.34       149\n",
            "         OFF       0.85      0.65      0.74       629\n",
            "\n",
            "    accuracy                           0.62       778\n",
            "   macro avg       0.55      0.58      0.54       778\n",
            "weighted avg       0.73      0.62      0.66       778\n",
            "\n",
            "[[ 75  74]\n",
            " [220 409]]\n",
            "\n",
            "\n",
            "\n"
          ]
        }
      ]
    },
    {
      "cell_type": "markdown",
      "source": [
        "Example-5"
      ],
      "metadata": {
        "id": "J0KCGtsJWWsf"
      }
    },
    {
      "cell_type": "code",
      "source": [
        "Example5 = offen_LANpa.read_csv('/content/drive/MyDrive/CE807/Assignment 2/2202392/XHate999-SQ-Trac.txt', delimiter ='\\t', encoding='latin-1')\n",
        "Example5 = Example5.replace([0, 1],['NOT', 'OFF'])\n",
        "nan(Example5)\n",
        "repeated(Example5)\n",
        "Example5"
      ],
      "metadata": {
        "colab": {
          "base_uri": "https://localhost:8080/",
          "height": 423
        },
        "id": "3t9GddXzWf3g",
        "outputId": "edbd8b8e-6e96-48e6-d8d6-428c294bf9ea"
      },
      "execution_count": 70,
      "outputs": [
        {
          "output_type": "execute_result",
          "data": {
            "text/plain": [
              "                                           translation label\n",
              "0    NjÃ« bebe 2 muajshe nuk Ã«shtÃ« e sigurt nÃ« I...   NOT\n",
              "1    mesa kam kuptuar unÃ«, kÃ«tyre terroristÃ«ve t...   OFF\n",
              "2    ÃfarÃ« lloj mediaje Ã«shtÃ« kjo!! NÃ« fillim ...   NOT\n",
              "3    Kompensimi pÃ«r Shtetet e Bashkuara do tÃ« pag...   NOT\n",
              "4    Nifty ra poshtÃ« 8550, kjo tregon qÃ« njÃ« lÃ«...   NOT\n",
              "..                                                 ...   ...\n",
              "295  ish kryeministri I madh I IndisÃ« hera e parÃ«...   NOT\n",
              "296  modaliteti Mute i Ã§aktivizuar? Epo tÃ« paktÃ«...   OFF\n",
              "297  kryeministÃ«r I dÃ«shtuar, skemÃ« pa para kesh...   OFF\n",
              "298  Propaganda kundÃ«r Pawar Saab Ã«shtÃ« krejtÃ«s...   NOT\n",
              "299  India ka nevojÃ« pÃ«r njÃ« kryeministÃ«r tÃ« t...   NOT\n",
              "\n",
              "[300 rows x 2 columns]"
            ],
            "text/html": [
              "\n",
              "  <div id=\"df-493b873e-8c2e-447d-bb10-9cd2a8846cfe\">\n",
              "    <div class=\"colab-df-container\">\n",
              "      <div>\n",
              "<style scoped>\n",
              "    .dataframe tbody tr th:only-of-type {\n",
              "        vertical-align: middle;\n",
              "    }\n",
              "\n",
              "    .dataframe tbody tr th {\n",
              "        vertical-align: top;\n",
              "    }\n",
              "\n",
              "    .dataframe thead th {\n",
              "        text-align: right;\n",
              "    }\n",
              "</style>\n",
              "<table border=\"1\" class=\"dataframe\">\n",
              "  <thead>\n",
              "    <tr style=\"text-align: right;\">\n",
              "      <th></th>\n",
              "      <th>translation</th>\n",
              "      <th>label</th>\n",
              "    </tr>\n",
              "  </thead>\n",
              "  <tbody>\n",
              "    <tr>\n",
              "      <th>0</th>\n",
              "      <td>NjÃ« bebe 2 muajshe nuk Ã«shtÃ« e sigurt nÃ« I...</td>\n",
              "      <td>NOT</td>\n",
              "    </tr>\n",
              "    <tr>\n",
              "      <th>1</th>\n",
              "      <td>mesa kam kuptuar unÃ«, kÃ«tyre terroristÃ«ve t...</td>\n",
              "      <td>OFF</td>\n",
              "    </tr>\n",
              "    <tr>\n",
              "      <th>2</th>\n",
              "      <td>ÃfarÃ« lloj mediaje Ã«shtÃ« kjo!! NÃ« fillim ...</td>\n",
              "      <td>NOT</td>\n",
              "    </tr>\n",
              "    <tr>\n",
              "      <th>3</th>\n",
              "      <td>Kompensimi pÃ«r Shtetet e Bashkuara do tÃ« pag...</td>\n",
              "      <td>NOT</td>\n",
              "    </tr>\n",
              "    <tr>\n",
              "      <th>4</th>\n",
              "      <td>Nifty ra poshtÃ« 8550, kjo tregon qÃ« njÃ« lÃ«...</td>\n",
              "      <td>NOT</td>\n",
              "    </tr>\n",
              "    <tr>\n",
              "      <th>...</th>\n",
              "      <td>...</td>\n",
              "      <td>...</td>\n",
              "    </tr>\n",
              "    <tr>\n",
              "      <th>295</th>\n",
              "      <td>ish kryeministri I madh I IndisÃ« hera e parÃ«...</td>\n",
              "      <td>NOT</td>\n",
              "    </tr>\n",
              "    <tr>\n",
              "      <th>296</th>\n",
              "      <td>modaliteti Mute i Ã§aktivizuar? Epo tÃ« paktÃ«...</td>\n",
              "      <td>OFF</td>\n",
              "    </tr>\n",
              "    <tr>\n",
              "      <th>297</th>\n",
              "      <td>kryeministÃ«r I dÃ«shtuar, skemÃ« pa para kesh...</td>\n",
              "      <td>OFF</td>\n",
              "    </tr>\n",
              "    <tr>\n",
              "      <th>298</th>\n",
              "      <td>Propaganda kundÃ«r Pawar Saab Ã«shtÃ« krejtÃ«s...</td>\n",
              "      <td>NOT</td>\n",
              "    </tr>\n",
              "    <tr>\n",
              "      <th>299</th>\n",
              "      <td>India ka nevojÃ« pÃ«r njÃ« kryeministÃ«r tÃ« t...</td>\n",
              "      <td>NOT</td>\n",
              "    </tr>\n",
              "  </tbody>\n",
              "</table>\n",
              "<p>300 rows × 2 columns</p>\n",
              "</div>\n",
              "      <button class=\"colab-df-convert\" onclick=\"convertToInteractive('df-493b873e-8c2e-447d-bb10-9cd2a8846cfe')\"\n",
              "              title=\"Convert this dataframe to an interactive table.\"\n",
              "              style=\"display:none;\">\n",
              "        \n",
              "  <svg xmlns=\"http://www.w3.org/2000/svg\" height=\"24px\"viewBox=\"0 0 24 24\"\n",
              "       width=\"24px\">\n",
              "    <path d=\"M0 0h24v24H0V0z\" fill=\"none\"/>\n",
              "    <path d=\"M18.56 5.44l.94 2.06.94-2.06 2.06-.94-2.06-.94-.94-2.06-.94 2.06-2.06.94zm-11 1L8.5 8.5l.94-2.06 2.06-.94-2.06-.94L8.5 2.5l-.94 2.06-2.06.94zm10 10l.94 2.06.94-2.06 2.06-.94-2.06-.94-.94-2.06-.94 2.06-2.06.94z\"/><path d=\"M17.41 7.96l-1.37-1.37c-.4-.4-.92-.59-1.43-.59-.52 0-1.04.2-1.43.59L10.3 9.45l-7.72 7.72c-.78.78-.78 2.05 0 2.83L4 21.41c.39.39.9.59 1.41.59.51 0 1.02-.2 1.41-.59l7.78-7.78 2.81-2.81c.8-.78.8-2.07 0-2.86zM5.41 20L4 18.59l7.72-7.72 1.47 1.35L5.41 20z\"/>\n",
              "  </svg>\n",
              "      </button>\n",
              "      \n",
              "  <style>\n",
              "    .colab-df-container {\n",
              "      display:flex;\n",
              "      flex-wrap:wrap;\n",
              "      gap: 12px;\n",
              "    }\n",
              "\n",
              "    .colab-df-convert {\n",
              "      background-color: #E8F0FE;\n",
              "      border: none;\n",
              "      border-radius: 50%;\n",
              "      cursor: pointer;\n",
              "      display: none;\n",
              "      fill: #1967D2;\n",
              "      height: 32px;\n",
              "      padding: 0 0 0 0;\n",
              "      width: 32px;\n",
              "    }\n",
              "\n",
              "    .colab-df-convert:hover {\n",
              "      background-color: #E2EBFA;\n",
              "      box-shadow: 0px 1px 2px rgba(60, 64, 67, 0.3), 0px 1px 3px 1px rgba(60, 64, 67, 0.15);\n",
              "      fill: #174EA6;\n",
              "    }\n",
              "\n",
              "    [theme=dark] .colab-df-convert {\n",
              "      background-color: #3B4455;\n",
              "      fill: #D2E3FC;\n",
              "    }\n",
              "\n",
              "    [theme=dark] .colab-df-convert:hover {\n",
              "      background-color: #434B5C;\n",
              "      box-shadow: 0px 1px 3px 1px rgba(0, 0, 0, 0.15);\n",
              "      filter: drop-shadow(0px 1px 2px rgba(0, 0, 0, 0.3));\n",
              "      fill: #FFFFFF;\n",
              "    }\n",
              "  </style>\n",
              "\n",
              "      <script>\n",
              "        const buttonEl =\n",
              "          document.querySelector('#df-493b873e-8c2e-447d-bb10-9cd2a8846cfe button.colab-df-convert');\n",
              "        buttonEl.style.display =\n",
              "          google.colab.kernel.accessAllowed ? 'block' : 'none';\n",
              "\n",
              "        async function convertToInteractive(key) {\n",
              "          const element = document.querySelector('#df-493b873e-8c2e-447d-bb10-9cd2a8846cfe');\n",
              "          const dataTable =\n",
              "            await google.colab.kernel.invokeFunction('convertToInteractive',\n",
              "                                                     [key], {});\n",
              "          if (!dataTable) return;\n",
              "\n",
              "          const docLinkHtml = 'Like what you see? Visit the ' +\n",
              "            '<a target=\"_blank\" href=https://colab.research.google.com/notebooks/data_table.ipynb>data table notebook</a>'\n",
              "            + ' to learn more about interactive tables.';\n",
              "          element.innerHTML = '';\n",
              "          dataTable['output_type'] = 'display_data';\n",
              "          await google.colab.output.renderOutput(dataTable, element);\n",
              "          const docLink = document.createElement('div');\n",
              "          docLink.innerHTML = docLinkHtml;\n",
              "          element.appendChild(docLink);\n",
              "        }\n",
              "      </script>\n",
              "    </div>\n",
              "  </div>\n",
              "  "
            ]
          },
          "metadata": {},
          "execution_count": 70
        }
      ]
    },
    {
      "cell_type": "code",
      "source": [
        "# calling method-1, 2 for 100% OL_data\n",
        "SVM_M(Example5)\n",
        "LR_M(Example5)"
      ],
      "metadata": {
        "colab": {
          "base_uri": "https://localhost:8080/"
        },
        "id": "ntfXugWNWf7E",
        "outputId": "b34cf0a5-648f-4397-a440-dae3645928c0"
      },
      "execution_count": 71,
      "outputs": [
        {
          "output_type": "stream",
          "name": "stdout",
          "text": [
            "              precision    recall  f1-score   support\n",
            "\n",
            "         NOT       0.36      0.41      0.38        34\n",
            "         OFF       0.61      0.55      0.58        56\n",
            "\n",
            "    accuracy                           0.50        90\n",
            "   macro avg       0.48      0.48      0.48        90\n",
            "weighted avg       0.51      0.50      0.51        90\n",
            "\n",
            "[[14 20]\n",
            " [25 31]]\n",
            "              precision    recall  f1-score   support\n",
            "\n",
            "         NOT       0.38      0.38      0.38        39\n",
            "         OFF       0.53      0.53      0.53        51\n",
            "\n",
            "    accuracy                           0.47        90\n",
            "   macro avg       0.46      0.46      0.46        90\n",
            "weighted avg       0.47      0.47      0.47        90\n",
            "\n",
            "[[15 24]\n",
            " [24 27]]\n"
          ]
        }
      ]
    },
    {
      "cell_type": "code",
      "source": [
        "# for differnt size of data\n",
        "percentage(Example5)"
      ],
      "metadata": {
        "colab": {
          "base_uri": "https://localhost:8080/"
        },
        "id": "-kKtPVNQjo6x",
        "outputId": "1f9a66d0-818d-4e00-ac89-29c89fc418a5"
      },
      "execution_count": 72,
      "outputs": [
        {
          "output_type": "stream",
          "name": "stdout",
          "text": [
            "(75, 2)\n",
            "              precision    recall  f1-score   support\n",
            "\n",
            "         NOT       0.60      0.35      0.44        17\n",
            "         OFF       0.15      0.33      0.21         6\n",
            "\n",
            "    accuracy                           0.35        23\n",
            "   macro avg       0.38      0.34      0.33        23\n",
            "weighted avg       0.48      0.35      0.38        23\n",
            "\n",
            "[[ 6 11]\n",
            " [ 4  2]]\n",
            "              precision    recall  f1-score   support\n",
            "\n",
            "         NOT       0.50      0.29      0.37        17\n",
            "         OFF       0.08      0.17      0.11         6\n",
            "\n",
            "    accuracy                           0.26        23\n",
            "   macro avg       0.29      0.23      0.24        23\n",
            "weighted avg       0.39      0.26      0.30        23\n",
            "\n",
            "[[ 5 12]\n",
            " [ 5  1]]\n",
            "\n",
            "\n",
            "\n",
            "(150, 2)\n",
            "              precision    recall  f1-score   support\n",
            "\n",
            "         NOT       0.39      0.75      0.51        12\n",
            "         OFF       0.86      0.58      0.69        33\n",
            "\n",
            "    accuracy                           0.62        45\n",
            "   macro avg       0.63      0.66      0.60        45\n",
            "weighted avg       0.74      0.62      0.64        45\n",
            "\n",
            "[[ 9  3]\n",
            " [14 19]]\n",
            "              precision    recall  f1-score   support\n",
            "\n",
            "         NOT       0.35      0.73      0.47        11\n",
            "         OFF       0.86      0.56      0.68        34\n",
            "\n",
            "    accuracy                           0.60        45\n",
            "   macro avg       0.61      0.64      0.57        45\n",
            "weighted avg       0.74      0.60      0.63        45\n",
            "\n",
            "[[ 8  3]\n",
            " [15 19]]\n",
            "\n",
            "\n",
            "\n",
            "(225, 2)\n",
            "              precision    recall  f1-score   support\n",
            "\n",
            "         NOT       0.31      0.43      0.36        23\n",
            "         OFF       0.64      0.51      0.57        45\n",
            "\n",
            "    accuracy                           0.49        68\n",
            "   macro avg       0.48      0.47      0.47        68\n",
            "weighted avg       0.53      0.49      0.50        68\n",
            "\n",
            "[[10 13]\n",
            " [22 23]]\n",
            "              precision    recall  f1-score   support\n",
            "\n",
            "         NOT       0.38      0.48      0.42        25\n",
            "         OFF       0.64      0.53      0.58        43\n",
            "\n",
            "    accuracy                           0.51        68\n",
            "   macro avg       0.51      0.51      0.50        68\n",
            "weighted avg       0.54      0.51      0.52        68\n",
            "\n",
            "[[12 13]\n",
            " [20 23]]\n",
            "\n",
            "\n",
            "\n",
            "(299, 2)\n",
            "              precision    recall  f1-score   support\n",
            "\n",
            "         NOT       0.50      0.51      0.51        41\n",
            "         OFF       0.58      0.57      0.58        49\n",
            "\n",
            "    accuracy                           0.54        90\n",
            "   macro avg       0.54      0.54      0.54        90\n",
            "weighted avg       0.55      0.54      0.54        90\n",
            "\n",
            "[[21 20]\n",
            " [21 28]]\n",
            "              precision    recall  f1-score   support\n",
            "\n",
            "         NOT       0.43      0.53      0.47        34\n",
            "         OFF       0.67      0.57      0.62        56\n",
            "\n",
            "    accuracy                           0.56        90\n",
            "   macro avg       0.55      0.55      0.54        90\n",
            "weighted avg       0.58      0.56      0.56        90\n",
            "\n",
            "[[18 16]\n",
            " [24 32]]\n",
            "\n",
            "\n",
            "\n"
          ]
        }
      ]
    }
  ]
}